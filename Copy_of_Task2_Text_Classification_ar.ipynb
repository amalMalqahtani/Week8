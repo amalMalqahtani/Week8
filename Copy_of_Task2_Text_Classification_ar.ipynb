{
  "cells": [
    {
      "cell_type": "markdown",
      "metadata": {
        "id": "bsurCNok43DL"
      },
      "source": [
        "# Text Classification Exam\n",
        "\n",
        "Welcome to the Text Classification Practical Exam. In this exam, you will be tasked with building, training, and evaluating an NLP model to classify text data. You are provided with a labeled dataset containing both the text and its corresponding class labels.\n",
        "\n",
        "Your objective is to develop a model that accurately predicts the class of the given text. Make sure to follow best practices in data preprocessing, model selection, and evaluation to achieve optimal results.\n",
        "\n",
        "Good luck!\n",
        "___"
      ]
    },
    {
      "cell_type": "markdown",
      "metadata": {
        "id": "oqw2El5mMxsz"
      },
      "source": [
        "# Install and Import Needed Libraries"
      ]
    },
    {
      "cell_type": "markdown",
      "metadata": {
        "id": "4dTkHbSHNB4y"
      },
      "source": [
        "You can use `pyarabic` or any other library to pre-process and clean the Arabic text."
      ]
    },
    {
      "cell_type": "code",
      "execution_count": 1,
      "metadata": {
        "id": "z6mRe6i5Wqqc",
        "colab": {
          "base_uri": "https://localhost:8080/"
        },
        "outputId": "0bebbe29-8ed8-41e6-824f-9cb81e7e86c4"
      },
      "outputs": [
        {
          "output_type": "stream",
          "name": "stdout",
          "text": [
            "Collecting pyarabic\n",
            "  Downloading PyArabic-0.6.15-py3-none-any.whl.metadata (10 kB)\n",
            "Requirement already satisfied: six>=1.14.0 in /usr/local/lib/python3.10/dist-packages (from pyarabic) (1.16.0)\n",
            "Downloading PyArabic-0.6.15-py3-none-any.whl (126 kB)\n",
            "\u001b[2K   \u001b[90m━━━━━━━━━━━━━━━━━━━━━━━━━━━━━━━━━━━━━━━━\u001b[0m \u001b[32m126.4/126.4 kB\u001b[0m \u001b[31m863.0 kB/s\u001b[0m eta \u001b[36m0:00:00\u001b[0m\n",
            "\u001b[?25hInstalling collected packages: pyarabic\n",
            "Successfully installed pyarabic-0.6.15\n"
          ]
        }
      ],
      "source": [
        "!pip install pyarabic"
      ]
    },
    {
      "cell_type": "code",
      "source": [
        "import pyarabic.araby as araby\n",
        "import pyarabic.number as number\n",
        "import pandas as pd"
      ],
      "metadata": {
        "id": "_aNLH3POA39O"
      },
      "execution_count": 6,
      "outputs": []
    },
    {
      "cell_type": "markdown",
      "metadata": {
        "id": "Hq5KJRZ5Ph0Z"
      },
      "source": [
        "# Download the Dataset"
      ]
    },
    {
      "cell_type": "markdown",
      "metadata": {
        "id": "3riATTJ243DN"
      },
      "source": [
        "Please note that you are allowed to take a subset of this dataset, the reason for that is it might take a long time to train the model on."
      ]
    },
    {
      "cell_type": "code",
      "execution_count": 2,
      "metadata": {
        "id": "M1n3uTg043DN",
        "colab": {
          "base_uri": "https://localhost:8080/"
        },
        "outputId": "e50e2537-0ef1-45b8-95c9-6ee3dc7ed299"
      },
      "outputs": [
        {
          "output_type": "stream",
          "name": "stdout",
          "text": [
            "Dataset URL: https://www.kaggle.com/datasets/khaledzsa/sanad\n",
            "License(s): unknown\n",
            "Downloading sanad.zip to /content\n",
            " 95% 68.0M/71.4M [00:00<00:00, 153MB/s]\n",
            "100% 71.4M/71.4M [00:00<00:00, 156MB/s]\n",
            "Archive:  sanad.zip\n",
            "  inflating: sanad.csv               \n"
          ]
        }
      ],
      "source": [
        "!kaggle datasets download -d khaledzsa/sanad\n",
        "!unzip sanad.zip"
      ]
    },
    {
      "cell_type": "code",
      "source": [
        "df = pd.read_csv('/content/sanad.csv')"
      ],
      "metadata": {
        "id": "5sWtxRPi48r5"
      },
      "execution_count": 58,
      "outputs": []
    },
    {
      "cell_type": "code",
      "source": [
        "df.head()"
      ],
      "metadata": {
        "colab": {
          "base_uri": "https://localhost:8080/",
          "height": 206
        },
        "id": "tmFZyTwPBt_p",
        "outputId": "79e0d94a-6b61-4cd3-8e7b-48f0d1453700"
      },
      "execution_count": 67,
      "outputs": [
        {
          "output_type": "execute_result",
          "data": {
            "text/plain": [
              "                                                text    label\n",
              "0  https://example.com/resource/الشاٌرقة -ْ محمِد...  Culture\n",
              "1  https://example.com/resource/اَنِطٌلقّتَ ٍفٍيّ...  Culture\n",
              "2  https://example.com/resource/أُقيًمٌتِ مِساءُ ...  Culture\n",
              "3  https://example.com/resource/بٍاسُمةَ يًوٌنٍس ...  Culture\n",
              "4  https://example.com/resource/قُرر اَتحِاد اًلْ...  Culture"
            ],
            "text/html": [
              "\n",
              "  <div id=\"df-3bbe0c60-a13e-4810-9fd8-b9fbc4c60163\" class=\"colab-df-container\">\n",
              "    <div>\n",
              "<style scoped>\n",
              "    .dataframe tbody tr th:only-of-type {\n",
              "        vertical-align: middle;\n",
              "    }\n",
              "\n",
              "    .dataframe tbody tr th {\n",
              "        vertical-align: top;\n",
              "    }\n",
              "\n",
              "    .dataframe thead th {\n",
              "        text-align: right;\n",
              "    }\n",
              "</style>\n",
              "<table border=\"1\" class=\"dataframe\">\n",
              "  <thead>\n",
              "    <tr style=\"text-align: right;\">\n",
              "      <th></th>\n",
              "      <th>text</th>\n",
              "      <th>label</th>\n",
              "    </tr>\n",
              "  </thead>\n",
              "  <tbody>\n",
              "    <tr>\n",
              "      <th>0</th>\n",
              "      <td>https://example.com/resource/الشاٌرقة -ْ محمِد...</td>\n",
              "      <td>Culture</td>\n",
              "    </tr>\n",
              "    <tr>\n",
              "      <th>1</th>\n",
              "      <td>https://example.com/resource/اَنِطٌلقّتَ ٍفٍيّ...</td>\n",
              "      <td>Culture</td>\n",
              "    </tr>\n",
              "    <tr>\n",
              "      <th>2</th>\n",
              "      <td>https://example.com/resource/أُقيًمٌتِ مِساءُ ...</td>\n",
              "      <td>Culture</td>\n",
              "    </tr>\n",
              "    <tr>\n",
              "      <th>3</th>\n",
              "      <td>https://example.com/resource/بٍاسُمةَ يًوٌنٍس ...</td>\n",
              "      <td>Culture</td>\n",
              "    </tr>\n",
              "    <tr>\n",
              "      <th>4</th>\n",
              "      <td>https://example.com/resource/قُرر اَتحِاد اًلْ...</td>\n",
              "      <td>Culture</td>\n",
              "    </tr>\n",
              "  </tbody>\n",
              "</table>\n",
              "</div>\n",
              "    <div class=\"colab-df-buttons\">\n",
              "\n",
              "  <div class=\"colab-df-container\">\n",
              "    <button class=\"colab-df-convert\" onclick=\"convertToInteractive('df-3bbe0c60-a13e-4810-9fd8-b9fbc4c60163')\"\n",
              "            title=\"Convert this dataframe to an interactive table.\"\n",
              "            style=\"display:none;\">\n",
              "\n",
              "  <svg xmlns=\"http://www.w3.org/2000/svg\" height=\"24px\" viewBox=\"0 -960 960 960\">\n",
              "    <path d=\"M120-120v-720h720v720H120Zm60-500h600v-160H180v160Zm220 220h160v-160H400v160Zm0 220h160v-160H400v160ZM180-400h160v-160H180v160Zm440 0h160v-160H620v160ZM180-180h160v-160H180v160Zm440 0h160v-160H620v160Z\"/>\n",
              "  </svg>\n",
              "    </button>\n",
              "\n",
              "  <style>\n",
              "    .colab-df-container {\n",
              "      display:flex;\n",
              "      gap: 12px;\n",
              "    }\n",
              "\n",
              "    .colab-df-convert {\n",
              "      background-color: #E8F0FE;\n",
              "      border: none;\n",
              "      border-radius: 50%;\n",
              "      cursor: pointer;\n",
              "      display: none;\n",
              "      fill: #1967D2;\n",
              "      height: 32px;\n",
              "      padding: 0 0 0 0;\n",
              "      width: 32px;\n",
              "    }\n",
              "\n",
              "    .colab-df-convert:hover {\n",
              "      background-color: #E2EBFA;\n",
              "      box-shadow: 0px 1px 2px rgba(60, 64, 67, 0.3), 0px 1px 3px 1px rgba(60, 64, 67, 0.15);\n",
              "      fill: #174EA6;\n",
              "    }\n",
              "\n",
              "    .colab-df-buttons div {\n",
              "      margin-bottom: 4px;\n",
              "    }\n",
              "\n",
              "    [theme=dark] .colab-df-convert {\n",
              "      background-color: #3B4455;\n",
              "      fill: #D2E3FC;\n",
              "    }\n",
              "\n",
              "    [theme=dark] .colab-df-convert:hover {\n",
              "      background-color: #434B5C;\n",
              "      box-shadow: 0px 1px 3px 1px rgba(0, 0, 0, 0.15);\n",
              "      filter: drop-shadow(0px 1px 2px rgba(0, 0, 0, 0.3));\n",
              "      fill: #FFFFFF;\n",
              "    }\n",
              "  </style>\n",
              "\n",
              "    <script>\n",
              "      const buttonEl =\n",
              "        document.querySelector('#df-3bbe0c60-a13e-4810-9fd8-b9fbc4c60163 button.colab-df-convert');\n",
              "      buttonEl.style.display =\n",
              "        google.colab.kernel.accessAllowed ? 'block' : 'none';\n",
              "\n",
              "      async function convertToInteractive(key) {\n",
              "        const element = document.querySelector('#df-3bbe0c60-a13e-4810-9fd8-b9fbc4c60163');\n",
              "        const dataTable =\n",
              "          await google.colab.kernel.invokeFunction('convertToInteractive',\n",
              "                                                    [key], {});\n",
              "        if (!dataTable) return;\n",
              "\n",
              "        const docLinkHtml = 'Like what you see? Visit the ' +\n",
              "          '<a target=\"_blank\" href=https://colab.research.google.com/notebooks/data_table.ipynb>data table notebook</a>'\n",
              "          + ' to learn more about interactive tables.';\n",
              "        element.innerHTML = '';\n",
              "        dataTable['output_type'] = 'display_data';\n",
              "        await google.colab.output.renderOutput(dataTable, element);\n",
              "        const docLink = document.createElement('div');\n",
              "        docLink.innerHTML = docLinkHtml;\n",
              "        element.appendChild(docLink);\n",
              "      }\n",
              "    </script>\n",
              "  </div>\n",
              "\n",
              "\n",
              "<div id=\"df-47e4a179-0cbc-43d3-9b0c-b21df1168648\">\n",
              "  <button class=\"colab-df-quickchart\" onclick=\"quickchart('df-47e4a179-0cbc-43d3-9b0c-b21df1168648')\"\n",
              "            title=\"Suggest charts\"\n",
              "            style=\"display:none;\">\n",
              "\n",
              "<svg xmlns=\"http://www.w3.org/2000/svg\" height=\"24px\"viewBox=\"0 0 24 24\"\n",
              "     width=\"24px\">\n",
              "    <g>\n",
              "        <path d=\"M19 3H5c-1.1 0-2 .9-2 2v14c0 1.1.9 2 2 2h14c1.1 0 2-.9 2-2V5c0-1.1-.9-2-2-2zM9 17H7v-7h2v7zm4 0h-2V7h2v10zm4 0h-2v-4h2v4z\"/>\n",
              "    </g>\n",
              "</svg>\n",
              "  </button>\n",
              "\n",
              "<style>\n",
              "  .colab-df-quickchart {\n",
              "      --bg-color: #E8F0FE;\n",
              "      --fill-color: #1967D2;\n",
              "      --hover-bg-color: #E2EBFA;\n",
              "      --hover-fill-color: #174EA6;\n",
              "      --disabled-fill-color: #AAA;\n",
              "      --disabled-bg-color: #DDD;\n",
              "  }\n",
              "\n",
              "  [theme=dark] .colab-df-quickchart {\n",
              "      --bg-color: #3B4455;\n",
              "      --fill-color: #D2E3FC;\n",
              "      --hover-bg-color: #434B5C;\n",
              "      --hover-fill-color: #FFFFFF;\n",
              "      --disabled-bg-color: #3B4455;\n",
              "      --disabled-fill-color: #666;\n",
              "  }\n",
              "\n",
              "  .colab-df-quickchart {\n",
              "    background-color: var(--bg-color);\n",
              "    border: none;\n",
              "    border-radius: 50%;\n",
              "    cursor: pointer;\n",
              "    display: none;\n",
              "    fill: var(--fill-color);\n",
              "    height: 32px;\n",
              "    padding: 0;\n",
              "    width: 32px;\n",
              "  }\n",
              "\n",
              "  .colab-df-quickchart:hover {\n",
              "    background-color: var(--hover-bg-color);\n",
              "    box-shadow: 0 1px 2px rgba(60, 64, 67, 0.3), 0 1px 3px 1px rgba(60, 64, 67, 0.15);\n",
              "    fill: var(--button-hover-fill-color);\n",
              "  }\n",
              "\n",
              "  .colab-df-quickchart-complete:disabled,\n",
              "  .colab-df-quickchart-complete:disabled:hover {\n",
              "    background-color: var(--disabled-bg-color);\n",
              "    fill: var(--disabled-fill-color);\n",
              "    box-shadow: none;\n",
              "  }\n",
              "\n",
              "  .colab-df-spinner {\n",
              "    border: 2px solid var(--fill-color);\n",
              "    border-color: transparent;\n",
              "    border-bottom-color: var(--fill-color);\n",
              "    animation:\n",
              "      spin 1s steps(1) infinite;\n",
              "  }\n",
              "\n",
              "  @keyframes spin {\n",
              "    0% {\n",
              "      border-color: transparent;\n",
              "      border-bottom-color: var(--fill-color);\n",
              "      border-left-color: var(--fill-color);\n",
              "    }\n",
              "    20% {\n",
              "      border-color: transparent;\n",
              "      border-left-color: var(--fill-color);\n",
              "      border-top-color: var(--fill-color);\n",
              "    }\n",
              "    30% {\n",
              "      border-color: transparent;\n",
              "      border-left-color: var(--fill-color);\n",
              "      border-top-color: var(--fill-color);\n",
              "      border-right-color: var(--fill-color);\n",
              "    }\n",
              "    40% {\n",
              "      border-color: transparent;\n",
              "      border-right-color: var(--fill-color);\n",
              "      border-top-color: var(--fill-color);\n",
              "    }\n",
              "    60% {\n",
              "      border-color: transparent;\n",
              "      border-right-color: var(--fill-color);\n",
              "    }\n",
              "    80% {\n",
              "      border-color: transparent;\n",
              "      border-right-color: var(--fill-color);\n",
              "      border-bottom-color: var(--fill-color);\n",
              "    }\n",
              "    90% {\n",
              "      border-color: transparent;\n",
              "      border-bottom-color: var(--fill-color);\n",
              "    }\n",
              "  }\n",
              "</style>\n",
              "\n",
              "  <script>\n",
              "    async function quickchart(key) {\n",
              "      const quickchartButtonEl =\n",
              "        document.querySelector('#' + key + ' button');\n",
              "      quickchartButtonEl.disabled = true;  // To prevent multiple clicks.\n",
              "      quickchartButtonEl.classList.add('colab-df-spinner');\n",
              "      try {\n",
              "        const charts = await google.colab.kernel.invokeFunction(\n",
              "            'suggestCharts', [key], {});\n",
              "      } catch (error) {\n",
              "        console.error('Error during call to suggestCharts:', error);\n",
              "      }\n",
              "      quickchartButtonEl.classList.remove('colab-df-spinner');\n",
              "      quickchartButtonEl.classList.add('colab-df-quickchart-complete');\n",
              "    }\n",
              "    (() => {\n",
              "      let quickchartButtonEl =\n",
              "        document.querySelector('#df-47e4a179-0cbc-43d3-9b0c-b21df1168648 button');\n",
              "      quickchartButtonEl.style.display =\n",
              "        google.colab.kernel.accessAllowed ? 'block' : 'none';\n",
              "    })();\n",
              "  </script>\n",
              "</div>\n",
              "\n",
              "    </div>\n",
              "  </div>\n"
            ],
            "application/vnd.google.colaboratory.intrinsic+json": {
              "type": "dataframe",
              "variable_name": "df",
              "summary": "{\n  \"name\": \"df\",\n  \"rows\": 39885,\n  \"fields\": [\n    {\n      \"column\": \"text\",\n      \"properties\": {\n        \"dtype\": \"string\",\n        \"num_unique_values\": 39885,\n        \"samples\": [\n          \"https://example.com/resource/\\u0628\\u0652\\u0644\\u0650\\u063a\\u062a \\u064e\\u062a\\u0633\\u064e\\u064a\\u064a\\u0644\\u0651\\u0627\\u064b\\u062a\\u064d \\u0627\\u0652\\u0644\\u0623\\u0652\\u062c\\u064e\\u0627\\u0646\\u0651\\u0628\\u064e \\u064e\\u0641\\u064a \\u0633\\u064d\\u0648\\u0652\\u0642\\u0650 \\u064e\\u062f\\u0628\\u064a \\u0627\\u0644\\u0645\\u064d\\u0627\\u0650\\u0644\\u064d\\u064a\\u064d \\u0623\\u0645\\u064d\\u0633\\u064e 59\\u064f \\u0645\\u0644\\u064d\\u064a\\u0648\\u0646\\u0627\\u0650\\u064b\\u0652\\u060c \\u0651\\u0641\\u0651\\u0642\\u062f \\u0650\\u0628\\u0652\\u0644\\u064b\\u063a\\u062a \\u064b\\u0642\\u0651\\u064a\\u064f\\u0645\\u0651\\u0629\\u0651 \\u0645\\u064f\\u0634\\u064b\\u062a\\u064f\\u0631\\u0650\\u064a\\u0627\\u062a \\u064e\\u0627\\u0644\\u0652\\u0623\\u062c\\u0627\\u064d\\u0646\\u064d\\u0628\\u064b\\u060c\\u064b \\u063a\\u0652\\u064a\\u0651\\u0631\\u064d \\u0627\\u0652\\u0644\\u0639\\u0631\\u064c\\u0628\\u060c\\u064f \\u0645\\u0650\\u0646\\u0651 \\u064c\\u0627\\u0644\\u0623\\u0633\\u064c\\u0647\\u064d\\u0645 \\u064c\\u062e\\u064f\\u0644\\u0627\\u064c\\u0644\\u064f \\u0647\\u0650\\u0630\\u064e\\u0627 \\u0627\\u064c\\u0644\\u064a\\u0648\\u0650\\u0645 \\u064d\\u0646\\u064b\\u062d\\u064c\\u0648 9\\u064b4\\u064d \\u064e.\\u065113\\u06526 \\u0645\\u0644\\u0652\\u064a\\u064c\\u0648\\u064b\\u0646\\u064c \\u062f\\u0631\\u0647\\u0645 \\u0641\\u064a\\u0651 \\u0652\\u062d\\u0652\\u064a\\u064f\\u0646\\u0651 \\u0628\\u0644\\u063a\\u064e\\u062a\\u064d \\u064b\\u0642\\u064c\\u064a\\u0645\\u0629\\u064c \\u064b\\u0645\\u064b\\u0628\\u064a\\u0639\\u0627\\u062a\\u0647\\u0645\\u064e \\u0646\\u064b\\u062d\\u0648\\u0652 2\\u06500 .22\\u064b6 \\u0650\\u0645\\u064b\\u0644\\u064a\\u0651\\u0648\\u0646 \\u0652\\u062f\\u0631\\u0650\\u0647\\u0645\\u064f .\\u064f \\u0643\\u0645\\u0627 \\u0650\\u0628\\u0644\\u064e\\u063a\\u064b\\u062a \\u0642\\u0652\\u064a\\u0645\\u0629\\u0650 \\u0645\\u064d\\u0634\\u064b\\u062a\\u064c\\u0631\\u0652\\u064a\\u0627\\u062a \\u064b\\u0627\\u0644\\u0645\\u0633\\u064d\\u062a\\u062b\\u064f\\u0645\\u064b\\u0631\\u064b\\u064a\\u064b\\u0646\\u064b \\u0627\\u0644\\u0652\\u0639\\u0650\\u0631\\u0650\\u0628\\u060c\\u064b \\u064f\\u063a\\u064a\\u0631 \\u0651\\u0627\\u0644\\u0652\\u062e\\u0644\\u064d\\u064a\\u064f\\u062c\\u064d\\u064a\\u064a\\u0651\\u0646\\u0650\\u060c\\u0651 \\u062e\\u0644\\u0627\\u0644 \\u0647\\u0650\\u0630\\u0627 \\u0650\\u0627\\u0644\\u0652\\u064a\\u064b\\u0648\\u0645 \\u0646\\u064f\\u062d\\u064d\\u0648\\u064f 07\\u064e .7\\u064c2\\u0650 \\u0645\\u0644\\u064e\\u064a\\u064c\\u0648\\u0646\\u0652 \\u0652\\u062f\\u0631\\u0647\\u064e\\u0645 \\u064d\\u0648\\u0642\\u064b\\u064a\\u0645\\u064c\\u0629\\u064c \\u0645\\u0652\\u0628\\u064e\\u064a\\u064f\\u0639\\u064e\\u0627\\u064b\\u062a\\u0651\\u0647\\u0645 \\u0646\\u062d\\u0648\\u064c \\u065281\\u064b \\u0650.6\\u06504\\u064e \\u064e\\u0645\\u0644\\u064f\\u064a\\u064c\\u0648\\u0646\\u0651 \\u062f\\u064b\\u0631\\u0647\\u064e\\u0645\\u064e .\\u0623\\u064b\\u0645\\u0651\\u0627\\u0652 \\u0652\\u0628\\u0651\\u0627\\u064c\\u0644\\u064e\\u0646\\u064f\\u0633\\u064d\\u0628\\u0629\\u064e \\u064c\\u0644\\u0644\\u0651\\u0645\\u064d\\u0633\\u064c\\u062a\\u064b\\u062b\\u0652\\u0645\\u0631\\u064b\\u064a\\u0646 \\u0652\\u0627\\u0644\\u062e\\u064c\\u0644\\u064a\\u064e\\u062c\\u064a\\u0650\\u064a\\u0646\\u064c \\u064f\\u0641\\u064b\\u0642\\u062f \\u0628\\u0644\\u064b\\u063a\\u0652\\u062a \\u0642\\u064a\\u0645\\u0629 \\u0645\\u0634\\u0652\\u062a\\u064e\\u0631\\u064c\\u064a\\u064f\\u0627\\u064e\\u062a\\u0647\\u0645\\u064b \\u064b9\\u064b1\\u064f \\u0651.4\\u064d3\\u064d \\u0645\\u0650\\u0644\\u064a\\u0648\\u064c\\u0646 \\u064c\\u062f\\u0631\\u0647\\u0645 \\u0641\\u064a\\u064f \\u062d\\u064a\\u0651\\u0646\\u064b \\u064e\\u0628\\u0644\\u064b\\u063a\\u064c\\u062a \\u064b\\u0642\\u064c\\u064a\\u0645\\u064d\\u0629\\u0651 \\u0645\\u0652\\u0628\\u0651\\u064a\\u0652\\u0639\\u0652\\u0627\\u064c\\u062a\\u064c\\u0647\\u0645\\u0652 \\u064f\\u0646\\u064e\\u062d\\u0650\\u0648 4\\u064f8 \\u064f.21\\u064c \\u0645\\u0644\\u064a\\u0648\\u064f\\u0646 \\u064e\\u062f\\u064e\\u0631\\u064d\\u0647\\u064e\\u0645 \\u064e\\u062e\\u0644\\u064c\\u0627\\u0644 \\u0650\\u0646\\u064c\\u0641\\u0633 \\u064f\\u0627\\u0652\\u0644\\u0651\\u0641\\u062a\\u0631\\u0652\\u0629\\u064c .\",\n          \"https://example.com/resource/\\u062f\\u0628\\u0650\\u064a\\u0650 - \\u0625\\u0650\\u0628\\u064d\\u0631\\u0650\\u0627\\u0647\\u064f\\u064a\\u064c\\u0645\\u0652 \\u0651\\u0627\\u0644\\u064f\\u064a\\u064b\\u0648\\u0633\\u0651\\u0641:\\u064e\\u0628\\u064d\\u062d\\u0636\\u0648\\u0652\\u0631\\u0650 \\u0645\\u064e\\u062d\\u064d\\u0645\\u062f\\u064e \\u0627\\u064d\\u0644\\u0645\\u0652\\u0631\\u060c \\u0631\\u0626\\u064a\\u0633\\u0651 \\u0627\\u0644\\u0645\\u064c\\u062c\\u064c\\u0644\\u064b\\u0633 \\u0627\\u064c\\u0644\\u0648\\u064d\\u0637\\u064b\\u0646\\u064f\\u064a\\u064d \\u0627\\u0644\\u064e\\u0627\\u062a\\u064b\\u062d\\u0652\\u0627\\u062f\\u064a\\u0650\\u060c\\u064e \\u0648\\u0650\\u0627\\u0651\\u0644\\u064c\\u0642\\u0646\\u0652\\u0635\\u0644 \\u0627\\u0644\\u0639\\u0627\\u0652\\u0645\\u0650 \\u064b\\u0627\\u064d\\u0644\\u0651\\u0643\\u0651\\u0648\\u064a\\u0651\\u062a\\u064e\\u064a\\u064c\\u060c \\u0630\\u064d\\u064a\\u064c\\u0627\\u0628\\u0651 \\u0651\\u0641\\u0631\\u062d\\u0627\\u064e\\u0646 \\u064c\\u0627\\u0652\\u0644\\u0631\\u0634\\u064a\\u0652\\u062f\\u064a\\u0651\\u060c \\u064b\\u0648\\u0633\\u064e\\u0644\\u0651\\u0637\\u0627\\u064b\\u0646\\u064d \\u0627\\u064c\\u0644\\u0652\\u0633\\u0648\\u064f\\u064a\\u062f\\u064d\\u064a \\u064d\\u0631\\u0652\\u0626\\u064a\\u064b\\u0633\\u0652 \\u0645\\u062c\\u064b\\u0644\\u064d\\u0633\\u0650 \\u0625\\u062f\\u0631\\u064d\\u0627\\u0629 \\u0646\\u064b\\u062f\\u0648\\u064e\\u0629\\u064b \\u0627\\u064b\\u0644\\u064c\\u062b\\u0642\\u0627\\u064d\\u0641\\u0629\\u064e \\u064e\\u0648\\u0627\\u064e\\u0644\\u0639\\u0644\\u0648\\u0645\\u060c \\u0648\\u0623\\u0639\\u0652\\u0636\\u0652\\u0627\\u0621 \\u0650\\u0645\\u064d\\u062c\\u064d\\u0644\\u064b\\u0633\\u0650 \\u0627\\u0644\\u0625\\u0651\\u062f\\u0652\\u0627\\u0631\\u064e\\u0629\\u064d\\u060c \\u0625\\u0652\\u0636\\u0627\\u0650\\u0641\\u0629\\u064d \\u0625\\u0644\\u0650\\u0649\\u064f \\u0637\\u0650\\u064a\\u064f\\u0641\\u064b \\u0648\\u0627\\u0633\\u064f\\u0639 \\u0650\\u0648\\u064d\\u0644\\u0627\\u0641\\u0652\\u062a \\u0645\\u0646\\u0651 \\u064d\\u0627\\u0644\\u064e\\u0643\\u0651\\u062a\\u0651\\u064c\\u0627\\u0651\\u0628\\u0650 \\u0648\\u064d\\u0627\\u064b\\u0644\\u0645\\u062b\\u064e\\u0642\\u0641\\u064b\\u064a\\u0646 \\u0648\\u0650\\u0627\\u0644\\u0625\\u0639\\u064e\\u0644\\u0627\\u0645\\u064a\\u064a\\u064d\\u0646 \\u0645\\u064c\\u0646\\u064d \\u0627\\u064e\\u0644\\u0650\\u0628\\u064d\\u0644\\u062f\\u064a\\u0646 . \\u0634\\u0647\\u062f\\u062a\\u064f \\u064e\\u0627\\u064d\\u0644\\u0652\\u0646\\u0650\\u062f\\u0648\\u064c\\u0629\\u064f\\u060c\\u064d \\u0645\\u064c\\u0633\\u0627\\u0621 \\u0650\\u0623\\u0645\\u0633\\u064b \\u0651\\u0627\\u064b\\u0644\\u0652\\u0623\\u064e\\u0648\\u064e\\u0644\\u060c\\u064b \\u0650\\u0627\\u0652\\u062e\\u062a\\u064e\\u062a\\u0652\\u0627\\u0645\\u0651 \\u0641\\u0639\\u0627\\u064e\\u0644\\u064a\\u0627\\u062a\\u064b \\u064e\\u0645\\u0647\\u0650\\u0631\\u064b\\u062c\\u0650\\u0627\\u0646\\u064f \\u064d\\\"\\u064c\\u0643\\u0648\\u0650\\u064a\\u062a\\u064e \\u0627\\u0644\\u0633\\u0644\\u0627\\u064e\\u0645 - \\u0625\\u064b\\u0645\\u0652\\u0627\\u0631\\u064f\\u0627\\u062a \\u064c\\u0627\\u064f\\u0644\\u0650\\u0648\\u064d\\u0641\\u0627\\u0621\\u0650\\\"\\u060c\\u064e \\u0628\\u064c\\u0631\\u0639\\u064d\\u0627\\u064a\\u064d\\u0629 \\u0648\\u064f\\u062a\\u0646\\u0638\\u064a\\u064f\\u0645 \\u0647\\u064a\\u0626\\u0629 \\u062f\\u064b\\u0628\\u064a\\u0652 \\u0644\\u0644\\u064b\\u062b\\u064d\\u0642\\u0627\\u0641\\u0651\\u0629 \\u0648\\u0627\\u0644\\u0652\\u0641\\u0646\\u0648\\u0646 \\u0628\\u0627\\u064c\\u0644\\u062a\\u0639\\u0627\\u0648\\u064d\\u0646 \\u064f\\u0645\\u0650\\u0639\\u064b \\u064c\\u0627\\u0644\\u0642\\u0652\\u0646\\u0635\\u0652\\u0644\\u064b\\u064a\\u064c\\u0629 \\u064c\\u0627\\u0651\\u0644\\u064b\\u0639\\u0627\\u064c\\u0645\\u0629\\u064d \\u0644\\u0650\\u062f\\u0652\\u0648\\u064b\\u0644\\u064b\\u0629\\u064c \\u0652\\u0627\\u0651\\u0644\\u0643\\u0648\\u064a\\u062a \\u064c\\u0641\\u0650\\u064a\\u064f \\u064e\\u0625\\u064d\\u0645\\u0651\\u0627\\u064e\\u0631\\u0629\\u064f \\u062f\\u064c\\u0628\\u064f\\u064a\\u060c\\u0652 \\u0648\\u0651\\u062a\\u0636\\u0645\\u064c\\u0646\\u0651 \\u064d\\u0641\\u0639\\u064d\\u0627\\u064f\\u0644\\u064d\\u064a\\u064e\\u0627\\u062a \\u064f\\u062b\\u0642\\u0651\\u0627\\u064f\\u0641\\u064a\\u0629\\u064e \\u0641\\u0646\\u064a\\u0652\\u0629\\u0650\\u060c \\u0650\\u0648\\u063a\\u064a\\u0631\\u0647\\u0650\\u0627\\u0651 \\u064d.\\u0648\\u0651\\u062a\\u0652\\u0636\\u064c\\u0645\\u0646\\u0651\\u062a\\u064b \\u064e\\u0627\\u0644\\u0641\\u0651\\u0639\\u064e\\u0627\\u0644\\u064d\\u064a\\u0627\\u064c\\u062a\\u0650 \\u0650\\u0639\\u064e\\u0631\\u0636 \\u0641\\u064a\\u0644\\u064f\\u0645 \\u0652\\u0648\\u064b\\u062b\\u0627\\u064e\\u0626\\u064f\\u0642\\u064f\\u064a\\u064f \\u0639\\u064e\\u0646\\u064f \\u064f\\u0627\\u0644\\u062a\\u064d\\u0639\\u064c\\u0627\\u0648\\u064d\\u0646\\u0650 \\u064d\\u0627\\u064c\\u0644\\u0623\\u062e\\u0648\\u064a \\u064f\\u0628\\u0651\\u064a\\u0652\\u0646\\u064b \\u0652\\u0627\\u0644\\u064e\\u0628\\u0644\\u064f\\u062f\\u0650\\u064a\\u064d\\u0646\\u064b \\u0651\\u0627\\u0650\\u0644\\u0634\\u0642\\u0651\\u064a\\u064c\\u0642\\u064e\\u064a\\u0646\\u0650\\u060c \\u064d\\u0642\\u0631\\u0623\\u0651 \\u064c\\u0628\\u0650\\u0639\\u064f\\u062f \\u064b\\u0630\\u064f\\u0644\\u0651\\u0643\\u064f \\u0651\\u0639\\u0628\\u064f\\u062f\\u0627\\u0650\\u0644\\u0644\\u0647 \\u064f\\u0627\\u0644\\u064c\\u0645\\u0637\\u0651\\u064a\\u0631\\u064d\\u064a\\u0650 \\u0643\\u064e\\u0644\\u0645\\u0652\\u0629\\u064c \\u0647\\u064a\\u0650\\u0626\\u0629 \\u062f\\u0628\\u064b\\u064a\\u064e \\u0644\\u0644\\u064b\\u062b\\u0642\\u0627\\u0641\\u0629\\u060c\\u064f \\u062a\\u062d\\u064f\\u062f\\u062b\\u064e \\u064c\\u0641\\u064a\\u0652\\u0647\\u0652\\u0627\\u064c \\u0639\\u0652\\u0646 \\u064f\\u0627\\u0652\\u0644\\u0639\\u0650\\u0644\\u0627\\u0642\\u0627\\u062a \\u0651\\u0627\\u0651\\u0644\\u064d\\u062b\\u0642\\u0650\\u0627\\u0641\\u064a\\u0651\\u0629 \\u0628\\u064b\\u064a\\u0646 \\u064e\\u0627\\u0644\\u0628\\u064b\\u0644\\u0651\\u062f\\u0652\\u064a\\u064d\\u0646\\u064c\\u060c \\u0648\\u064e\\u0643\\u064e\\u064a\\u0651\\u0641 \\u0623\\u0646 \\u0627\\u064e\\u0644\\u064d\\u0643\\u0648\\u064e\\u064a\\u0650\\u062a \\u062f\\u0639\\u0645\\u0651\\u062a\\u064d \\u0650\\u0627\\u0644\\u062d\\u0631\\u0652\\u0643\\u064b\\u0629\\u064b \\u0627\\u064d\\u0644\\u062b\\u0652\\u0642\\u064c\\u0627\\u0641\\u064a\\u0652\\u0629\\u0652 \\u064d\\u0648\\u0627\\u0650\\u0644\\u0651\\u062a\\u0639\\u0651\\u0644\\u064a\\u064f\\u0645\\u064a\\u0629 \\u0641\\u064a \\u0627\\u0644\\u0625\\u0645\\u0627\\u064e\\u0631\\u0627\\u064c\\u062a\\u060c\\u064d \\u064d\\u0648\\u0651\\u0623\\u064f\\u0646\\u064e\\u0634\\u0623\\u062a\\u0651 \\u0641\\u064a\\u064e\\u0647\\u0651\\u0627 \\u064b\\u0627\\u064c\\u0644\\u064f\\u0645\\u064f\\u062f\\u0627\\u064f\\u0631\\u0651\\u0633\\u064b\\u060c\\u0652 \\u064c\\u0625\\u0644\\u064f\\u0649 \\u0651\\u062c\\u0627\\u064b\\u0646\\u0650\\u0628 \\u064c\\u063a\\u0652\\u064a\\u064e\\u0631\\u0647\\u0650\\u0627\\u064c \\u0645\\u0646\\u064c \\u0650\\u0627\\u0644\\u0645\\u064c\\u0631\\u064d\\u0627\\u0641\\u064e\\u0642 \\u0627\\u0651\\u0644\\u0636\\u0631\\u0652\\u0648\\u0631\\u064d\\u064a\\u0650\\u0629\\u064e .\\u064c\\u0628\\u064c\\u0639\\u064b\\u062f\\u0652 \\u0630\\u064f\\u0644\\u0643 \\u0628\\u062f\\u0623\\u0650\\u062a \\u0641\\u064f\\u0639\\u0650\\u0627\\u064c\\u0644\\u064a\\u0627\\u0651\\u062a \\u0627\\u0644\\u064d\\u0646\\u0652\\u062f\\u0648\\u064c\\u0629 \\u0651\\u0627\\u0651\\u0644\\u064b\\u062a\\u064e\\u064a \\u064f\\u0623\\u062f\\u064e\\u0627\\u064c\\u0631\\u0647\\u0627 \\u0651\\u0639\\u0644\\u064e\\u064a\\u064c \\u064c\\u0639\\u064f\\u0628\\u064f\\u064a\\u0651\\u062f \\u0627\\u0644\\u064f\\u0647\\u0650\\u0627\\u0650\\u0645\\u0644\\u064d\\u064a\\u0651\\u060c\\u0651 \\u0652\\u0628\\u0639\\u0651\\u0646\\u064e\\u0648\\u064c\\u0627\\u0651\\u0646 \\\"\\u0650\\u0645\\u0633\\u064a\\u0631\\u064b\\u0629 \\u0627\\u064e\\u0644\\u0652\\u0639\\u0652\\u0644\\u0627\\u064e\\u0642\\u0627\\u062a\\u0651 \\u0627\\u0650\\u0644\\u0625\\u0645\\u0627\\u0652\\u0631\\u0627\\u062a\\u064a\\u0629\\u0651 \\u064b- \\u064c\\u0627\\u0651\\u0644\\u0652\\u0643\\u0648\\u064a\\u062a\\u064e\\u064a\\u064b\\u0629\\\" \\u0648\\u064b\\u0634\\u0627\\u0631\\u0643 \\u064c\\u0641\\u064c\\u064a\\u0647\\u064e\\u0627\\u0651 \\u0643\\u0644\\u064b \\u064e\\u0645\\u0646\\u0651 \\u0650\\u062f\\u0652 . \\u0639\\u0652\\u0628\\u062f\\u0650\\u0627\\u0652\\u0644\\u0644\\u064f\\u0647\\u064c \\u0627\\u0644\\u063a\\u064c\\u0646\\u064a\\u0645 \\u064e(\\u0651\\u0627\\u0644\\u0643\\u0648\\u064f\\u064a\\u064f\\u062a)\\u064f \\u064e\\u0648\\u0628\\u0644\\u0627\\u0644\\u064f \\u0651\\u0627\\u0652\\u0644\\u064f\\u0628\\u0652\\u062f\\u064b\\u0648\\u0631\\u064c \\u0646\\u064b\\u0627\\u064b\\u0626\\u0628 \\u0631\\u064d\\u0626\\u064a\\u064c\\u0633\\u064f \\u0645\\u062c\\u064e\\u0644\\u0633 \\u0625\\u062f\\u0650\\u0627\\u0652\\u0631\\u0652\\u0629\\u064d \\u064d\\u0646\\u064d\\u062f\\u064b\\u0648\\u0629\\u064f \\u0627\\u0644\\u062b\\u0642\\u0627\\u0641\\u0629\\u064e \\u0650\\u0627\\u0644\\u064d\\u0639\\u0652\\u0644\\u064d\\u0648\\u0645\\u064c\\u060c \\u062d\\u0652\\u064a\\u0650\\u062b \\u064d\\u0633\\u0650\\u0644\\u0637\\u064f \\u064b\\u0627\\u0644\\u0647\\u064e\\u0627\\u064c\\u0645\\u064c\\u0644\\u064a \\u0650\\u0627\\u0644\\u0636\\u0648\\u0621\\u064d \\u0639\\u0650\\u0644\\u064b\\u0649\\u0650 \\u0650\\u0627\\u0651\\u0644\\u0633\\u0652\\u064a\\u0631\\u0651\\u0629\\u064b \\u064f\\u0627\\u064b\\u0644\\u064b\\u0645\\u064e\\u0639\\u064b\\u0631\\u0641\\u064a\\u0629\\u0650 \\u064b\\u0644\\u064c\\u0643\\u064b\\u0644\\u064e\\u0627\\u064d \\u0627\\u0650\\u0644\\u0650\\u0643\\u0651\\u0627\\u064e\\u062a\\u0628\\u064a\\u0646 \\u062f .\\u064b \\u064c\\u0627\\u0644\\u0651\\u063a\\u064e\\u0646\\u064d\\u064a\\u064b\\u0645 \\u0650\\u0648\\u0651\\u0627\\u064f\\u0644\\u0628\\u0652\\u062f\\u0648\\u064e\\u0631 .\\u0651 \\u064d\\u0648\\u064b\\u0645\\u0645\\u0627\\u0652 \\u0642\\u0627\\u0644\\u0647 \\u0651\\u0627\\u064e\\u0644\\u0647\\u0627\\u0651\\u0645\\u064b\\u0644\\u064a\\u0651 \\u0641\\u064a\\u064e \\u0645\\u064c\\u0642\\u0651\\u062f\\u0652\\u0645\\u062a\\u0652\\u0647:\\u0651 \\u064b\\u0627\\u0644\\u0643\\u0648\\u064a\\u064b\\u062a \\u064f\\u062a\\u064d\\u0631\\u0643\\u062a \\u0628\\u064c\\u0635\\u0645\\u064d\\u0627\\u064e\\u062a\\u0651\\u0647\\u064c\\u0627\\u064d \\u0639\\u0645\\u064a\\u0651\\u0642\\u064f\\u0627\\u064b\\u064b \\u0639\\u064d\\u0644\\u064c\\u064a\\u0646\\u0627 \\u064c\\u0641\\u064a \\u062f\\u0648\\u0644\\u0651\\u0629 \\u064b\\u0627\\u064d\\u0644\\u064c\\u0625\\u064e\\u0645\\u0627\\u064b\\u0631\\u0627\\u062a\\u060c\\u064e \\u0652\\u0648\\u064c\\u0623\\u0643\\u064e\\u0628\\u0651\\u0631 \\u064c\\u062f\\u0644\\u064a\\u0644\\u064f \\u0650\\u0639\\u0644\\u064d\\u0649\\u064e \\u0650\\u0630\\u0644\\u0643\\u0650 \\u064f\\u0623\\u0651\\u0646 \\u0647\\u0646\\u0627\\u0643\\u064f \\u0652\\u062c\\u064a\\u064e\\u0644\\u064d\\u0627\\u0652\\u064b \\u0625\\u0645\\u0627\\u064f\\u0631\\u064f\\u0627\\u062a\\u064a\\u064d\\u0627\\u064b\\u064f \\u0652\\u0643\\u0627\\u0645\\u064b\\u0644\\u064d\\u0627\\u064d\\u064b\\u064f \\u062a\\u064e\\u0641\\u062a\\u062d\\u0651\\u062a\\u0651 \\u064b\\u0645\\u0650\\u062f\\u0652\\u0627\\u0631\\u0652\\u0643\\u0647\\u064b \\u0639\\u0644\\u0652\\u0649 \\u0651\\u0645\\u064b\\u0627\\u064e \\u0628\\u062b\\u064f\\u062a\\u064c\\u0647\\u064d \\u0627\\u064c\\u0644\\u0650\\u0643\\u064c\\u0648\\u064a\\u062a \\u0652\\u0645\\u0651\\u0646\\u064b \\u064b\\u062a\\u0639\\u0644\\u064a\\u064e\\u0645 \\u064d\\u0648\\u064f\\u062b\\u064c\\u0642\\u0627\\u0641\\u0651\\u0629\\u064d \\u0641\\u064a\\u064d \\u064c\\u0627\\u0644\\u0625\\u064c\\u0645\\u0651\\u0627\\u064b\\u0631\\u0627\\u064c\\u062a\\u064c\\u060c\\u064f \\u0650\\u062c\\u064a\\u0644 \\u0650\\u0643\\u064b\\u0627\\u064f\\u0645\\u0644\\u060c\\u0651 \\u064c\\u062a\\u0652\\u0639\\u0644\\u0645 \\u0648\\u0641\\u0652\\u0642 \\u0651\\u0645\\u0651\\u0646\\u064d\\u0627\\u0650\\u0647\\u064c\\u062c\\u064f \\u0627\\u0644\\u0643\\u0652\\u0648\\u064a\\u062a \\u0627\\u064c\\u0644\\u062a\\u0639\\u0644\\u064a\\u064c\\u0645\\u064c\\u064a\\u064d\\u0629 \\u064c.\\u064e\\u0648\\u0623\\u0634\\u0627\\u0651\\u062f\\u064d \\u064e\\u062f \\u064e.\\u064d \\u0627\\u064e\\u0644\\u063a\\u0646\\u064b\\u064a\\u0645 \\u0650\\u0628\\u0627\\u064c\\u0644\\u062d\\u064a\\u0627\\u0629\\u0650 \\u0651\\u0627\\u0644\\u062a\\u0652\\u0639\\u064b\\u0644\\u064a\\u064f\\u0645\\u064a\\u0629\\u064f \\u0627\\u0644\\u062b\\u0642\\u064b\\u0627\\u064f\\u0641\\u0651\\u064a\\u0629\\u0650 \\u0652\\u0641\\u064e\\u064a\\u064e \\u064f\\u0627\\u0644\\u064c\\u0625\\u0645\\u064b\\u0627\\u0631\\u064c\\u0627\\u062a\\u060c\\u064d \\u0651\\u0648\\u064c\\u0631\\u0623\\u0649\\u064f \\u064e\\u0623\\u064e\\u0646\\u0651\\u0647\\u0627\\u064e \\u062c\\u062f \\u0652\\u0645\\u062a\\u0637\\u0648\\u0631\\u064d\\u0629\\u0652\\u060c\\u0650 \\u0648\\u064e\\u0623\\u0650\\u062f\\u064c\\u0644\\u0649\\u0652 \\u0651\\u0628\\u0623\\u064c\\u0645\\u062b\\u0650\\u0644\\u0629 \\u064c\\u0645\\u0647\\u0651\\u0645\\u0629\\u064f \\u0650\\u0639\\u064f\\u0644\\u0651\\u0649 \\u0630\\u0650\\u0644\\u064e\\u0643\\u064c\\u060c\\u064c \\u0648\\u064c\\u0645\\u064d\\u0646\\u0647\\u0627 \\u0651\\u0623\\u0646 \\u0627\\u0650\\u0644\\u064e\\u0643\\u062b\\u064b\\u064a\\u0631\\u064a\\u064b\\u0646\\u064e \\u064c\\u0645\\u0646\\u0650 \\u0623\\u0628\\u064c\\u0646\\u064e\\u0627\\u0621\\u064f \\u0650\\u0627\\u0644\\u064b\\u0643\\u0648\\u064e\\u064a\\u0650\\u062a \\u0628\\u0627\\u062a\\u064b\\u0648\\u0627 \\u064a\\u064e\\u062a\\u0652\\u0627\\u0652\\u0628\\u0639\\u0650\\u0648\\u0652\\u0646 \\u0652\\u062a\\u062d\\u0652\\u0635\\u064a\\u0644\\u0647\\u0650\\u0645\\u0651 \\u064d\\u0627\\u0651\\u0644\\u0645\\u0639\\u064d\\u0631\\u064f\\u0641\\u064e\\u064a\\u064d \\u064d\\u0641\\u064c\\u064a \\u062c\\u064f\\u0627\\u064e\\u0645\\u0639\\u064d\\u0627\\u064b\\u062a \\u0627\\u0652\\u0644\\u0625\\u0645\\u0650\\u0627\\u0631\\u0627\\u062a\\u0652\\u060c\\u064e \\u0645\\u0646\\u0650 \\u062f\\u064f\\u0648\\u0646\\u064b \\u064e\\u0623\\u064e\\u0646 \\u064f\\u064a\\u064f\\u0634\\u064f\\u0639\\u064f\\u0631\\u0651\\u0648\\u064d\\u0627 \\u0625\\u0644\\u064d\\u0627\\u0650 \\u0628\\u0651\\u0623\\u0646\\u064b\\u0647\\u064c\\u0645\\u064b \\u0641\\u0650\\u064a \\u0628\\u064b\\u064a\\u0648\\u062a\\u0650\\u0647\\u064e\\u0645\\u0651\\u060c \\u0652\\u0648\\u0647\\u0648\\u064e \\u064f\\u0645\\u062f\\u064c\\u0639\\u064c\\u0627\\u064e\\u0629\\u0651 \\u064d\\u0633\\u064b\\u0639\\u0627\\u0650\\u062f\\u0629 \\u064d\\u0623\\u0633\\u0631\\u064d\\u0647\\u0645\\u0651\\u060c \\u0628\\u0652\\u0644 \\u0650\\u0628\\u0644\\u0651\\u062f\\u0647\\u0645\\u064b \\u064d\\u0628\\u0643\\u0627\\u064d\\u0645\\u064d\\u0644\\u0647 \\u064f.\\u0648\\u0642\\u0627\\u0644: \\u0644\\u0645\\u064f \\u064f\\u0623\\u064c\\u0631\\u062f\\u064c \\u064c\\u0623\\u0646\\u0650 \\u064d\\u0623\\u0633\\u064e\\u0645\\u064e\\u064a\\u0652 \\u0646\\u064e\\u062f\\u0650\\u0648\\u062a\\u0650\\u0646\\u0627 \\u0647\\u064b\\u0630\\u0651\\u0647\\u064f \\u0628\\u0627\\u0644\\u062d\\u0648\\u0651\\u0627\\u0652\\u0631\\u064b\\u064a\\u0629\\u0651\\u060c\\u064c \\u0628\\u0650\\u064a\\u0650\\u0646 \\u0645\\u0652\\u062b\\u064e\\u0642\\u0652\\u0641\\u064d\\u064a\\u0650\\u0646\\u0651 \\u0645\\u0650\\u0646\\u064d \\u0628\\u0644\\u062f\\u064a\\u064e\\u0646\\u0627:\\u064b \\u064b\\u0627\\u0644\\u064e\\u0643\\u0648\\u0650\\u064a\\u062a\\u0652 \\u0652\\u0648\\u0627\\u0652\\u0644\\u0625\\u0645\\u064c\\u0627\\u0631\\u0627\\u064c\\u062a\\u060c\\u064f \\u064b\\u0644\\u0623\\u0646 \\u0627\\u0644\\u062d\\u0648\\u064f\\u0627\\u0652\\u0631\\u060c\\u064f \\u0650\\u064a\\u062a\\u0645 \\u064c\\u0639\\u064f\\u0627\\u0650\\u062f\\u0629\\u064d\\u060c \\u0652\\u0628\\u064a\\u064e\\u0646\\u064c \\u0645\\u0650\\u0646\\u064b \\u0652\\u0647\\u064b\\u0645\\u064d \\u0645\\u062e\\u062a\\u064d\\u0644\\u0641\\u0648\\u0646\\u060c \\u0628\\u064a\\u0646 \\u0650\\u0645\\u064c\\u0646 \\u062a\\u064c\\u0643\\u0650\\u0648\\u0646\\u064c \\u064e\\u0647\\u064f\\u0646\\u0627\\u0643 \\u062a\\u0646\\u0627\\u0642\\u0650\\u0636\\u0627\\u062a \\u064b\\u0641\\u064f\\u064a\\u0651\\u0645\\u0627\\u064b \\u0650\\u0628\\u064a\\u0646\\u0652\\u0647\\u0645\\u060c \\u0625\\u0651\\u0646\\u0646\\u064e\\u0627\\u0650 \\u0650\\u0646\\u062a\\u062d\\u062f\\u064c\\u062b \\u064b\\u0636\\u0652\\u0645\\u0646 \\u0652\\u0625\\u0637\\u0652\\u0627\\u0650\\u0631\\u0651 \\u064c\\u0627\\u064c\\u0644\\u064e\\u0628\\u064e\\u064a\\u064b\\u062a\\u0650 \\u064c\\u0627\\u0644\\u0648\\u0652\\u0627\\u062d\\u0651\\u062f\\u060c \\u064f\\u0636\\u064e\\u0645\\u064c\\u0646\\u0650 \\u0625\\u0637\\u0627\\u0631 \\u0627\\u0644\\u064b\\u0623\\u0633\\u064c\\u0631\\u064f\\u0629 \\u0627\\u0644\\u0652\\u0648\\u0650\\u0627\\u062d\\u062f\\u0629\\u060c\\u0651 \\u0648\\u064f\\u0647\\u0646\\u064b\\u0627\\u0650 \\u0627\\u0650\\u0644\\u0641\\u0631\\u0642\\u064f \\u0628\\u064b\\u064a\\u0646\\u064c \\u064c\\u0637\\u064d\\u0628\\u064a\\u0639\\u0629 \\u0651\\u062d\\u062f\\u064a\\u064f\\u062b\\u0646\\u0651\\u0627\\u060c\\u0652 \\u0648\\u0635\\u0641\\u0629\\u064b \\u0627\\u0644\\u062d\\u0650\\u0648\\u0627\\u0631\\u0652 \\u0650.\\u0651\\u0648\\u062a\\u0627\\u0628\\u0651\\u0639\\u064b \\u062f . \\u0627\\u064f\\u0644\\u063a\\u0646\\u064a\\u064f\\u0645 \\u064f\\u0642\\u0651\\u0627\\u0626\\u0644\\u0627\\u064d\\u064b:\\u064d \\u0650\\u0645\\u0652\\u0631\\u0643\\u0650\\u0632 \\u0627\\u064c\\u0644\\u064b\\u0628\\u062d\\u0648\\u064c\\u062b \\u064e\\u0648\\u0627\\u064d\\u0644\\u062f\\u0631\\u064b\\u0627\\u064f\\u0633\\u0627\\u062a\\u0650 \\u0627\\u064c\\u0644\\u0643\\u0650\\u0648\\u064a\\u0650\\u062a\\u064c\\u064a\\u064b \\u064c\\u062c\\u0651\\u0645\\u064b\\u0639\\u0651 \\u0623\\u064d\\u0643\\u0650\\u062b\\u0651\\u0631 \\u064b\\u0645\\u0646 \\u064e\\u0645\\u0644\\u064b\\u064a\\u0648\\u064e\\u0646\\u064f\\u064a \\u0648\\u064e\\u062b\\u0651\\u064a\\u064d\\u0642\\u0629\\u064c \\u0639\\u0646 \\\"\\u0627\\u0644\\u062c\\u064b\\u0646\\u0648\\u064e\\u0628 \\u0648\\u0651\\u0627\\u064e\\u0644\\u062e\\u0644\\u0650\\u064a\\u064f\\u062c\\\"\\u064e\\u060c\\u0651 \\u0648\\u0645\\u064d\\u0646 \\u0628\\u064c\\u064a\\u064b\\u0646\\u064f\\u0647\\u0627\\u064f \\u0648\\u064e\\u062b\\u0627\\u0626\\u0642\\u0652 \\u064f\\u0645\\u0647\\u0650\\u0645\\u064e\\u0629 \\u0639\\u0646 \\u0645\\u0641\\u064c\\u0627\\u0635\\u0644 \\u064b\\u0627\\u0644\\u064f\\u0628\\u0652\\u0646\\u064a\\u0629\\u064c \\u064d\\u0627\\u0652\\u0644\\u0651\\u062a\\u064f\\u062d\\u064c\\u062a\\u064a\\u064e\\u0629 \\u064e\\u0641\\u064a \\u0627\\u0644\\u0650\\u0625\\u0645\\u064c\\u0627\\u064b\\u0631\\u064b\\u0627\\u0652\\u062a\\u064a\\u064f\\u0629\\u060c\\u064b \\u0648\\u064f\\u0646\\u064b\\u0634\\u064d\\u0623\\u064d\\u0629 \\u0645\\u062f\\u0627\\u0631\\u0633\\u0647\\u064e\\u0627\\u060c \\u0648\\u062d\\u064a\\u0627\\u062a\\u0650\\u0647\\u0627 \\u0627\\u0644\\u062b\\u064e\\u0642\\u0627\\u0641\\u064a\\u0629\\u0650\\u060c \\u064d\\u0648\\u0652\\u0641\\u064a \\u0647\\u0630\\u0650\\u0647 \\u0627\\u0651\\u0644\\u0648\\u062b\\u064b\\u0627\\u0626\\u0651\\u0642 \\u0650\\u0645\\u0639\\u0644\\u0648\\u064d\\u0645\\u0650\\u0627\\u064e\\u062a \\u062c\\u0651\\u062f \\u0645\\u0647\\u0645\\u0629\\u0652 \\u064b\\u0639\\u0651\\u0646 \\u064f\\u0646\\u0634\\u0623\\u0629\\u0651 \\u0627\\u0652\\u0644\\u064b\\u0645\\u062f\\u0650\\u0627\\u064c\\u0631\\u0633\\u060c\\u0652 \\u064c\\u0648\\u064c\\u062d\\u0651\\u062a\\u0649\\u064c \\u0623\\u0633\\u064b\\u0645\\u064e\\u0627\\u0621 \\u0651\\u0627\\u0644\\u0637\\u0644\\u0651\\u0628\\u0629\\u060c \\u0648\\u064b\\u0627\\u064e\\u0644\\u064d\\u0645\\u062f\\u064b\\u0631\\u0633\\u064c\\u064a\\u0646\\u060c\\u0652 \\u064b\\u0648\\u0643\\u0652\\u064a\\u0641\\u064a\\u064f\\u0629\\u064c \\u0628\\u064b\\u062f\\u0650\\u0627\\u064f\\u064a\\u0627\\u0652\\u062a\\u064c \\u0639\\u0652\\u0645\\u0650\\u0644\\u064e\\u064a\\u0652\\u0629\\u064d \\u0627\\u0644\\u062a\\u0639\\u0644\\u064a\\u0645\\u064f \\u064f. . \\u064d\\u0625\\u0644\\u064f\\u062e\\u0652\\u060c \\u064c\\u0648\\u0647\\u0646\\u064d\\u0627\\u0643\\u0651 \\u064b\\u0645\\u0646 \\u0651\\u0646\\u064f\\u0627\\u064f\\u0644\\u0652 \\u064b\\u0634\\u0647\\u0650\\u0627\\u062f\\u0629\\u064c \\u0650\\u0627\\u0644\\u062f\\u0650\\u0643\\u062a\\u064e\\u0648\\u0631\\u0651\\u0627\\u0647 \\u0645\\u064c\\u0646\\u0651 \\u062e\\u064f\\u0644\\u064b\\u0627\\u0651\\u0644\\u064f \\u064f\\u0642\\u0652\\u0631\\u0627\\u0621\\u0652\\u0629 \\u064e\\u0627\\u0644\\u064d\\u0639\\u064b\\u0644\\u064e\\u0627\\u0642\\u0627\\u064c\\u062a \\u0627\\u0652\\u0644\\u0623\\u0650\\u062e\\u0648\\u064d\\u064a\\u064e\\u0629 \\u064d\\u0628\\u064a\\u0646 \\u064e\\u0627\\u0644\\u064f\\u0628\\u064e\\u0644\\u062f\\u064a\\u064c\\u0646 \\u0652.\\u0652\\u0648\\u062c\\u0627\\u0621\\u064e \\u062d\\u064d\\u062f\\u064d\\u064a\\u064d\\u062b\\u064f \\u0627\\u064f\\u0644\\u0651\\u0628\\u0652\\u062f\\u064c\\u0648\\u0631\\u064e \\u064e\\u0628\\u0645\\u0627 \\u064a\\u064f\\u0634\\u0650\\u0628\\u0647 \\u064f\\u0627\\u064f\\u0644\\u0652\\u0634\\u0650\\u0647\\u0627\\u062f\\u064e\\u0629\\u064e\\u060c \\u0645\\u0646 \\u064c\\u0642\\u064e\\u0628\\u0644\\u064e \\u0652\\u0623\\u062d\\u064e\\u062f\\u064f \\u0651\\u0623\\u064c\\u0628\\u064f\\u0646\\u0627\\u0621 \\u064d\\u0627\\u0644\\u064c\\u062c\\u064a\\u064d\\u0644 \\u0627\\u064d\\u0644\\u064e\\u0630\\u064a\\u064d \\u064f\\u0641\\u062a\\u0651\\u062d \\u0639\\u064a\\u0646\\u064a\\u064b\\u0647\\u064b \\u0650\\u0639\\u064b\\u0644\\u064d\\u0649\\u0650 \\u0627\\u0644\\u0645\\u0646\\u0627\\u064f\\u0647\\u064b\\u062c \\u0627\\u0652\\u0644\\u0651\\u062a\\u0639\\u0644\\u064f\\u064a\\u0645\\u064a\\u0629 \\u0627\\u0644\\u0651\\u0643\\u064f\\u0648\\u0650\\u064a\\u062a\\u064a\\u0629\\u064e \\u0627\\u0650\\u0644\\u062a\\u064a\\u064b \\u064e\\u062a\\u0645 \\u062a\\u064b\\u062f\\u0650\\u0631\\u064a\\u064f\\u0633\\u0650\\u0647\\u064e\\u0627\\u064b \\u0641\\u0651\\u064a\\u064d \\u0627\\u064f\\u0644\\u0652\\u0625\\u064d\\u0645\\u064c\\u0627\\u0631\\u064c\\u0627\\u0652\\u062a\\u0652\\u060c \\u0648\\u0651\\u0642\\u064d\\u0627\\u0644: \\u064e\\u0643\\u0644 \\u064f\\u0630\\u064c\\u0644\\u0643 \\u064f\\u0630\\u0643\\u0631\\u0650\\u062a\\u0647 \\u0641\\u0651\\u064a \\u0643\\u062a\\u0627\\u0628\\u064a \\u064b\\\"\\u0627\\u0644\\u062c\\u0630\\u0648\\u0631 \\u0650\\u0627\\u064f\\u0644\\u062a\\u0627\\u0631\\u0652\\u064a\\u064d\\u062e\\u0650\\u064a\\u0651\\u0629\\u064d \\u064e\\u0644\\u064f\\u0644\\u0639\\u064b\\u0644\\u0627\\u0642\\u0627\\u0650\\u062a\\u064f \\u064e\\u0627\\u064f\\u0644\\u062b\\u0652\\u0642\\u0627\\u0650\\u0641\\u064d\\u064a\\u0629 \\u064c\\u0628\\u064a\\u064b\\u0646 \\u0650\\u0627\\u0644\\u0625\\u0645\\u0627\\u0631\\u0627\\u064c\\u062a\\u064c \\u064f\\u0648\\u064e\\u0627\\u064b\\u0644\\u0643\\u0650\\u0648\\u064a\\u064f\\u062a\\\"\\u060c \\u0652\\u0648\\u0643\\u064b\\u0627\\u064b\\u0646 \\u064c\\u0628\\u064f\\u0645\\u064f\\u062b\\u064f\\u0627\\u064e\\u0628\\u064c\\u0629\\u064d \\u064c\\u0631\\u0652\\u0633\\u064b\\u0627\\u0651\\u0644\\u064e\\u0629 \\u0634\\u0652\\u0643\\u0631 \\u0652\\u0644\\u0644\\u0643\\u0648\\u064a\\u062a\\u060c \\u0648\\u064c\\u0623\\u0636\\u0650\\u0627\\u064d\\u0641:\\u064d \\u0623\\u062c\\u064f\\u0644\\u060c\\u064e \\u064c\\u062a\\u062a\\u0644\\u0645\\u0630\\u0646\\u0627\\u064c \\u0639\\u064f\\u0644\\u0651\\u0649 \\u0650\\u0645\\u064d\\u0646\\u064c\\u0627\\u064c\\u0647\\u062c \\u064b\\u0627\\u0644\\u0643\\u064e\\u0648\\u064b\\u064a\\u062a\\u064d\\u060c\\u0650 \\u0648\\u0642\\u0631\\u0623\\u0646\\u0627\\u064d \\u0650\\u0639\\u064e\\u0628\\u0627\\u0631\\u064d\\u0629 \\u064e\\\"\\u0639\\u064f\\u0644\\u0645 \\u0628\\u0651\\u0644\\u0651\\u0627\\u062f\\u064a\\u0650 \\u0651\\u0644\\u0651\\u0648\\u064e\\u0646\\u0647\\u0650 \\u064c\\u0623\\u064c\\u062d\\u0645\\u0650\\u0631\\\" \\u0648\\u0650\\u0627\\u0631\\u062a\\u064c\\u062f\\u064a\\u0646\\u0652\\u0627\\u064e \\u0632\\u064a \\u0627\\u064e\\u0644\\u0652\\u0645\\u062f\\u0651\\u0627\\u0652\\u0631\\u064b\\u0633\\u064f \\u064d\\u0627\\u0644\\u0643\\u064d\\u0648\\u064e\\u064a\\u062a\\u064a\\u0629 \\u0623\\u062b\\u064f\\u0646\\u064f\\u0627\\u064e\\u0621\\u064c \\u0651\\u062a\\u0639\\u064e\\u0644\\u0650\\u064a\\u0645\\u0646\\u0627\\u064c\\u060c \\u064c\\u0648\\u0652\\u062a\\u064d\\u0646\\u0627\\u0650\\u0648\\u0644\\u064b\\u0646\\u0627 \\u0627\\u0644\\u064e\\u0648\\u062c\\u064f\\u0628\\u0652\\u0627\\u062a\\u064d \\u0627\\u0651\\u0644\\u0635\\u0628\\u0627\\u062d\\u0650\\u064a\\u0629\\u0651 \\u0627\\u0651\\u0644\\u0650\\u0643\\u064b\\u0648\\u064a\\u062a\\u064a\\u0629\\u0650 \\u064d\\u0641\\u0650\\u064a \\u0645\\u062f\\u064b\\u0627\\u064b\\u0631\\u064c\\u0633\\u0646\\u0627\\u0652\\u060c\\u064b \\u0648\\u0627\\u0633\\u062a\\u062e\\u064c\\u062f\\u064f\\u0645\\u0651\\u0646\\u0627 \\u064d\\u0627\\u064b\\u0644\\u064c\\u0623\\u0650\\u0642\\u064c\\u0644\\u0627\\u0651\\u0645 \\u0652\\u0648\\u064d\\u0627\\u0644\\u0652\\u0645\\u0645\\u064e\\u062d\\u0651\\u0627\\u064f\\u064a\\u064d\\u0627\\u064b\\u062a\\u064e \\u0648\\u0627\\u064d\\u0644\\u064b\\u0645\\u0628\\u0631\\u0627\\u064a\\u0652\\u0627\\u064b\\u062a \\u064d\\u0627\\u0644\\u064e\\u0643\\u0648\\u064c\\u064a\\u062a\\u064a\\u0629\\u064e\\u060c \\u0644\\u064d\\u0627\\u064c \\u0641\\u0631\\u0642 \\u064f\\u0628\\u064b\\u064a\\u064c\\u0646\\u064d\\u0646\\u0651\\u0627\\u060c \\u0628\\u064a\\u064b\\u0626\\u0650\\u062a\\u0627 \\u0628\\u064f\\u0644\\u062f\\u064a\\u0646\\u0627\\u064b \\u0648\\u0650\\u0627\\u064f\\u062d\\u0652\\u062f\\u0629\\u064d\\u060c \\u0647\\u064a \\u0627\\u064f\\u0644\\u0628\\u0650\\u064a\\u0650\\u0626\\u0629\\u064b \\u064c\\u0627\\u0650\\u0644\\u0628\\u062d\\u0631\\u064a\\u0629\\u064f \\u064f.\\u064b \\u0648\\u0628\\u0652\\u0639\\u062f\\u064f \\u064f\\u0623\\u0650\\u0641\\u064c\\u0648\\u0644 \\u062a\\u064d\\u062c\\u0627\\u0652\\u0631\\u0629\\u064c \\u0627\\u0644\\u0644\\u0624\\u0644\\u064b\\u0624\\u060c \\u0651\\u0641\\u064f\\u0625\\u0652\\u0646\\u0651 \\u0645\\u0651\\u062b\\u064e\\u0642\\u064f\\u0641\\u064a\\u0646\\u0627\\u064c \\u0648\\u064d\\u0639\\u0650\\u0645\\u064e\\u0627\\u0644\\u064f\\u0646\\u064f\\u0627 \\u062a\\u0648\\u062c\\u0647\\u0648\\u0627\\u064b \\u0625\\u0644\\u0649 \\u0627\\u0644\\u064e\\u0643\\u0650\\u0648\\u064b\\u064a\\u064b\\u062a\\u064f \\u0644\\u0650\\u0644\\u0639\\u064d\\u0645\\u0644 \\u0651\\u0641\\u064f\\u064a\\u0647\\u0627\\u064f\\u060c \\u0650\\u0643\\u0651\\u0645\\u0627 \\u0623\\u064f\\u0646 \\u0647\\u064c\\u0646\\u0627\\u0643 \\u0623\\u064f\\u062c\\u064a\\u0627\\u064c\\u0644\\u0651\\u0627\\u0650\\u064b \\u064e\\u0645\\u064b\\u0646 \\u0627\\u0652\\u0644\\u064e\\u0643\\u064b\\u0648\\u064a\\u062a\\u064b\\u064a\\u064a\\u0646 \\u064b\\u0639\\u064d\\u0627\\u0634\\u0648\\u064b\\u0627 \\u0641\\u064e\\u064a \\u064f\\u0627\\u0650\\u0644\\u064e\\u0625\\u064d\\u0645\\u0627\\u0631\\u0627\\u062a\\u064d\\u060c \\u064d\\u0648\\u0651\\u0645\\u064e\\u0646\\u064b\\u0647\\u0645 \\u0645\\u0646\\u064c \\u064b\\u0639\\u0650\\u0644\\u0652\\u0645\\u064d\\u0648\\u064e\\u0646\\u0627 .\\u0651 \\u0643\\u0645\\u0627 \\u0631\\u0627\\u0651\\u062d\\u0652 \\u064a\\u0650\\u062a\\u062d\\u064d\\u062f\\u062b \\u0639\\u0646\\u0651 \\u0627\\u0644\\u062a\\u0641\\u064e\\u0627\\u0639\\u064e\\u0644\\u064b \\u0627\\u064c\\u0644\\u062b\\u0650\\u0642\\u0652\\u0627\\u0641\\u064c\\u064a \\u0628\\u064d\\u064a\\u0646\\u0650 \\u064b\\u0627\\u0644\\u064d\\u0628\\u0644\\u0651\\u062f\\u064a\\u064d\\u0646 \\u0639\\u064e\\u0628\\u0631 \\u064d\\u0642\\u064d\\u0635\\u064f\\u0627\\u0626\\u0650\\u062f\\u064d \\u0627\\u0651\\u0644\\u064b\\u0634\\u0639\\u0652\\u0631\\u0627\\u064e\\u0621\\u060c\\u064d \\u064b\\u0627\\u0644\\u0652\\u0641\\u0652\\u0635\\u0652\\u062d\\u064c\\u0649\\u064b \\u0648\\u064c\\u0627\\u0644\\u0650\\u0646\\u064b\\u0628\\u0637\\u064a\\u064f\\u0629\\u0650\\u060c \\u0650\\u0641\\u0652\\u0636\\u064b\\u0644\\u0650\\u0627\\u064b\\u064b \\u064c\\u0639\\u064d\\u0646 \\u0651\\u0627\\u064d\\u0644\\u062a\\u0641\\u064c\\u0627\\u0639\\u064f\\u0644\\u064c \\u0651\\u0645\\u0652\\u0639 \\u0648\\u064b\\u0633\\u0627\\u0652\\u0626\\u064b\\u0644\\u064b \\u0627\\u0644\\u0625\\u0650\\u0639\\u0644\\u0627\\u0645\\u0650 \\u064d\\u0641\\u0650\\u064a\\u064e \\u0643\\u0644\\u0627 \\u0627\\u064b\\u0644\\u0628\\u0651\\u0644\\u064e\\u062f\\u064c\\u064a\\u064d\\u0646\\u060c\\u064c \\u0650\\u0625\\u064f\\u0630 \\u064c\\u0641\\u064c\\u062a\\u062d\\u062a\\u0650 \\u064c\\u0627\\u0644\\u0651\\u0635\\u064d\\u062d\\u064e\\u0627\\u064c\\u0641\\u0629\\u0650 \\u0627\\u064e\\u0644\\u064e\\u0643\\u0648\\u064a\\u062a\\u064a\\u0650\\u0629\\u064f \\u0651\\u0623\\u064f\\u0628\\u0652\\u0648\\u064e\\u0627\\u0628\\u0647\\u064d\\u0627\\u0651 \\u0644\\u0644\\u0645\\u062b\\u0642\\u0641\\u064a\\u064b\\u0646\\u064b \\u0627\\u064f\\u0644\\u0625\\u0645\\u0627\\u0631\\u0652\\u0627\\u0650\\u062a\\u064f\\u064a\\u064e\\u064a\\u0650\\u0646 .\",\n          \"https://example.com/resource/\\u0623\\u0650\\u0628\\u0648\\u0638\\u0628\\u064f\\u064a\\u0651 \\u064c-\\u0650 \\u064b\\u0645\\u0646\\u0651\\u064a\\u0650 \\u0650\\u0628\\u0651\\u0648\\u0651\\u0646\\u0639\\u064f\\u0627\\u064b\\u0645\\u0629:\\u0646\\u064e\\u0638\\u0645 \\u0627\\u062a\\u062d\\u0627\\u062f \\u064d\\u0643\\u0651\\u062a\\u0627\\u0650\\u0628\\u064d \\u0651\\u0648\\u0652\\u0623\\u062f\\u0652\\u0628\\u064e\\u0627\\u064b\\u0621 \\u064f\\u0627\\u0644\\u0625\\u0645\\u0627\\u0651\\u0631\\u0627\\u0650\\u062a \\u0641\\u064a \\u0623\\u0628\\u0648\\u0650\\u0638\\u0628\\u064b\\u064a\\u0651\\u060c\\u064c \\u0645\\u0633\\u064c\\u0627\\u064e\\u0621\\u064c \\u0623\\u0645\\u064c\\u0633\\u064d \\u0627\\u0644\\u064f\\u0623\\u064e\\u0648\\u0651\\u0644\\u060c \\u064f\\u0641\\u0650\\u064a\\u064d \\u0642\\u0651\\u0627\\u0650\\u0639\\u0629\\u064d \\u0627\\u0652\\u0644\\u062f\\u0643\\u062a\\u0648\\u064c\\u0631\\u064c \\u064c\\u0639\\u0628\\u062f\\u064e \\u064b\\u0627\\u0644\\u064c\\u0644\\u0647\\u0651 \\u0639\\u0645\\u0631\\u0627\\u064d\\u0646 \\u064f\\u062a\\u0650\\u0631\\u0651\\u064a\\u0645\\u0652 \\u064d\\u0641\\u064a\\u064f \\u0645\\u0651\\u0642\\u0631 \\u064d\\u0627\\u0644\\u0627\\u062a\\u064c\\u062d\\u0627\\u062f\\u064c \\u064c\\u0627\\u0644\\u064c\\u062c\\u062f\\u064a\\u0651\\u062f \\u0641\\u064a \\u0645\\u0650\\u0639\\u064e\\u0633\\u064b\\u0643\\u0631\\u064d \\u064f\\u0622\\u0644\\u0651 \\u0646\\u064b\\u0647\\u064a\\u0627\\u0646\\u064f \\u0623\\u064e\\u0645\\u0650\\u0633\\u064f\\u064a\\u0629 \\u0644\\u0652\\u0644\\u064e\\u0643\\u064c\\u0627\\u062a\\u0628\\u064d \\u0651\\u0648\\u064e\\u0627\\u0644\\u0652\\u0645\\u062b\\u064e\\u0642\\u0651\\u0641\\u064c \\u064d\\u0627\\u0644\\u0625\\u0645\\u064d\\u0627\\u064c\\u0631\\u064c\\u0627\\u062a\\u0651\\u064a\\u064f \\u0645\\u0627\\u062c\\u064c\\u062f \\u0628\\u0648 \\u0634\\u064f\\u0644\\u064a\\u0628\\u064f\\u064a\\u060c\\u064d \\u0623\\u064f\\u0645\\u064b\\u064a\\u0646 \\u0639\\u0627\\u0645\\u0652 \\u0652\\u0627\\u0644\\u0645\\u0646\\u062a\\u0650\\u062f\\u0651\\u0649 \\u0650\\u0627\\u0644\\u064d\\u0625\\u064e\\u0633\\u0651\\u0644\\u0651\\u0627\\u0645\\u0652\\u064a\\u064f \\u0641\\u064f\\u064a \\u0627\\u0644\\u064e\\u0634\\u0650\\u0627\\u0631\\u064d\\u0642\\u064e\\u0629\\u064e\\u060c\\u0650 \\u064c\\u0628\\u064f\\u0639\\u0646\\u0648\\u064f\\u0627\\u0646:\\u0651 \\u0644\\u0645\\u0627\\u0630\\u0627\\u064e \\u0651\\u0627\\u064b\\u0644\\u064f\\u0634\\u0651\\u0627\\u0631\\u0642\\u0629 \\u0639\\u0651\\u0627\\u064e\\u0635\\u0645\\u0629 \\u0650\\u0644\\u064d\\u0644\\u062b\\u064f\\u0642\\u0627\\u0641\\u064b\\u0629\\u064b \\u0627\\u064c\\u0644\\u0625\\u064c\\u0633\\u0652\\u0644\\u064d\\u0627\\u0645\\u0651\\u064a\\u0629\\u064d\\u061f \\u0642\\u062f\\u0651\\u0651\\u064e\\u0645 \\u0627\\u0644\\u064e\\u0623\\u0645\\u0633\\u064a\\u064f\\u0629\\u064f \\u064d\\u0627\\u0644\\u0634\\u0650\\u0627\\u0639\\u0631\\u0652 \\u0652\\u0648\\u0627\\u0644\\u0646\\u0627\\u0652\\u0642\\u062f \\u0645\\u064b\\u062d\\u064c\\u0645\\u062f \\u0646\\u0648\\u0631 \\u064f\\u0627\\u064c\\u0644\\u062f\\u064f\\u064a\\u0646\\u060c\\u0651 \\u064b\\u0648\\u0650\\u062d\\u0636\\u0650\\u0631\\u0651\\u0647\\u064c\\u0627\\u064e \\u064f\\u062d\\u0650\\u0628\\u064d\\u064a\\u0652\\u0628\\u064b \\u0627\\u064e\\u0644\\u0635\\u064b\\u0627\\u064a\\u0650\\u063a\\u0651 \\u064e\\u0631\\u064f\\u0626\\u064a\\u064d\\u0633\\u0652 \\u0645\\u062c\\u0651\\u0644\\u0633\\u0650 \\u0625\\u064c\\u062f\\u064c\\u0627\\u0631\\u0629\\u0650 \\u0651\\u0627\\u064c\\u0644\\u064b\\u0627\\u064b\\u062a\\u062d\\u0627\\u062f\\u0650\\u060c\\u064e \\u0648\\u0639\\u064b\\u062f\\u064b\\u062f \\u0645\\u0646 \\u064d\\u0627\\u0644\\u0643\\u062a\\u0651\\u0627\\u0628\\u064e \\u0648\\u0652\\u0627\\u064f\\u0644\\u064b\\u0623\\u064f\\u062f\\u0628\\u0627\\u064d\\u0621 \\u064d.\\u064e \\u064c\\u0627\\u0633\\u062a\\u064b\\u0647\\u0651\\u0644\\u0652 \\u0627\\u0652\\u0644\\u0651\\u0645\\u064d\\u062d\\u0652\\u0627\\u064f\\u0636\\u0631 \\u0628\\u0627\\u0633\\u062a\\u0639\\u064e\\u0631\\u0627\\u0636\\u0650 \\u0627\\u0644\\u0623\\u0637\\u0631 \\u0627\\u064c\\u0644\\u0639\\u064d\\u0627\\u0645\\u0629\\u0652 \\u0651\\u0627\\u064c\\u0644\\u062a\\u064a\\u0650 \\u0639\\u0645\\u0644\\u062a \\u064d\\u0639\\u0644\\u0649 \\u062a\\u064e\\u0634\\u0643\\u0651\\u064a\\u0652\\u0644\\u064f \\u064b\\u0648\\u0628\\u0644\\u064d\\u0648\\u064f\\u0631\\u0629 \\u0627\\u064f\\u0644\\u0641\\u0643\\u064b\\u0631\\u0652\\u0629 \\u0627\\u064e\\u0644\\u064c\\u062b\\u0642\\u0651\\u0627\\u0641\\u064d\\u064a\\u064b\\u0629\\u064e \\u0641\\u064b\\u064a\\u064f \\u064c\\u0627\\u0644\\u064f\\u0634\\u0627\\u0650\\u0631\\u064b\\u0642\\u0629\\u0652\\u060c\\u0652 \\u0645\\u0646\\u064c \\u0652\\u062e\\u0652\\u0644\\u0627\\u0652\\u0644\\u064d \\u0652\\u0627\\u0644\\u062a\\u064f\\u0639\\u064d\\u0631\\u064b\\u064a\\u0641 \\u0628\\u0652\\u0627\\u0644\\u062a\\u0650\\u062c\\u064b\\u0631\\u064f\\u0628\\u0629\\u0651 \\u064f\\u0648\\u0623\\u0647\\u0645 \\u0645\\u0633\\u0652\\u0627\\u0650\\u0631\\u064d\\u0627\\u062a\\u064b\\u0647\\u064d\\u0627\\u0652\\u060c\\u064f \\u0650\\u0648\\u064b\\u0627\\u0650\\u0644\\u0651\\u0623\\u0637\\u0650\\u0648\\u064c\\u0627\\u0631 \\u0651\\u0627\\u0652\\u0644\\u064d\\u062a\\u064a \\u0650\\u0645\\u064c\\u0631\\u064b\\u062a \\u0628\\u0647\\u0650\\u0627\\u064d\\u060c \\u0628\\u0652\\u062f\\u064e\\u0621\\u0651\\u0627\\u064b\\u064d \\u0628\\u064d\\u0627\\u0644\\u062d\\u062f\\u064a\\u064c\\u062b\\u064b \\u064d\\u0639\\u064b\\u0646 \\u0628\\u064d\\u0646\\u0627\\u0652\\u0621\\u064d \\u0627\\u0644\\u0628\\u064d\\u0646\\u0649\\u0650 \\u0627\\u0651\\u0644\\u0650\\u062a\\u064c\\u062d\\u062a\\u064c\\u064a\\u064c\\u0629\\u0650 \\u064d\\u0644\\u0644\\u0645\\u0624\\u064b\\u0633\\u0633\\u0650\\u0627\\u062a \\u0650\\u0627\\u0644\\u062b\\u064e\\u0642\\u0652\\u0627\\u0641\\u064a\\u064d\\u0629\\u064c \\u064f\\u0648\\u0627\\u064e\\u0644\\u0625\\u0651\\u0639\\u064e\\u0644\\u0627\\u0645\\u0650\\u064a\\u0629\\u0651 \\u064c\\u0627\\u0644\\u062a\\u064a \\u0623\\u064d\\u0633\\u0651\\u0647\\u0645\\u064f\\u062a\\u060c \\u064d\\u0639\\u064f\\u0628\\u0631 \\u0651\\u062a\\u0627\\u0652\\u0631\\u064a\\u062e\\u0647\\u0627\\u0652\\u060c\\u064e \\u0641\\u064c\\u064a\\u0651 \\u0652\\u062a\\u064b\\u0641\\u0639\\u064a\\u0644 \\u0627\\u0651\\u0644\\u0639\\u0650\\u0645\\u064b\\u0644\\u064b \\u0627\\u064e\\u0644\\u062b\\u0650\\u0642\\u064e\\u0627\\u0650\\u0641\\u0651\\u064a \\u0641\\u064f\\u064a \\u0627\\u064d\\u0644\\u0634\\u0627\\u0652\\u0631\\u0642\\u0629\\u060c \\u0627\\u0646\\u0637\\u0644\\u064d\\u0627\\u0642\\u0627\\u064b\\u0651 \\u0645\\u0650\\u0646\\u064b \\u062a\\u0623\\u0633\\u064f\\u064a\\u0633\\u0651 \\u064c\\u062f\\u0627\\u0652\\u0626\\u0631\\u0629\\u064d \\u0652\\u0627\\u0650\\u0644\\u064f\\u062b\\u0642\\u064b\\u0627\\u0641\\u0629 \\u064d\\u0648\\u0627\\u064c\\u0644\\u0625\\u0651\\u0639\\u0644\\u0627\\u0650\\u0645\\u064f\\u060c\\u0651 \\u0648\\u0650\\u062a\\u0644\\u0641\\u0632\\u064a\\u0648\\u064b\\u0646 \\u0627\\u0644\\u064f\\u0634\\u0627\\u064c\\u0631\\u0642\\u0652\\u0629\\u0650 \\u0648\\u0645\\u0627 \\u062a\\u062e\\u064d\\u0644\\u064c\\u0644\\u064f \\u0630\\u0644\\u0643\\u064c \\u064e\\u0645\\u064b\\u0646\\u064f \\u0625\\u064b\\u0628\\u0631\\u0627\\u0632\\u064f \\u0648\\u062a\\u0634\\u062c\\u064c\\u064a\\u064f\\u0639\\u064d \\u064f\\u0644\\u0644\\u062b\\u0642\\u064b\\u0627\\u064c\\u0641\\u0629 \\u0648\\u064b\\u0627\\u064b\\u0644\\u0641\\u0646\\u064e\\u0648\\u064d\\u0646\\u064e \\u0645\\u0646\\u064f \\u064f\\u062e\\u0644\\u0627\\u0644 \\u064b\\u0627\\u064f\\u0644\\u064f\\u0645\\u064d\\u0639\\u064d\\u0627\\u0631\\u0636 \\u0627\\u0644\\u0651\\u0641\\u064f\\u0646\\u064a\\u064b\\u0629\\u064f \\u0648\\u064d\\u0627\\u0644\\u0650\\u0641\\u0639\\u0627\\u064e\\u0644\\u064a\\u0627\\u062a\\u0652 \\u064f\\u0627\\u0652\\u0644\\u064c\\u062b\\u0642\\u064b\\u0627\\u0651\\u0641\\u064b\\u064a\\u0629 \\u064f\\u0627\\u0644\\u062a\\u064f\\u064a \\u0651\\u062a\\u0635\\u0628 \\u064d\\u0641\\u064a \\u0642\\u0627\\u064b\\u0644\\u064b\\u0628\\u0650 \\u0627\\u0644\\u0646\\u064c\\u0647\\u064b\\u0648\\u0636\\u064b \\u0644\\u064b\\u0634\\u0627\\u064b\\u0631\\u064d\\u0642\\u0650\\u0629\\u064d \\u0627\\u0644\\u0652\\u062b\\u0642\\u064f\\u0627\\u0641\\u0652\\u0629\\u064e \\u064d\\u0648\\u0627\\u0644\\u0645\\u064c\\u0639\\u0631\\u0641\\u064e\\u0629\\u064c\\u060c \\u0645\\u064c\\u0627 \\u064a\\u064c\\u062c\\u064b\\u064a\\u0628 \\u0628\\u064b\\u0634\\u0643\\u0644\\u0650 \\u0642\\u064b\\u0637\\u0639\\u0650\\u064a \\u064d\\u0639\\u064c\\u0646\\u064d \\u0627\\u0651\\u0644\\u064e\\u062a\\u064e\\u0633\\u0651\\u0627\\u0624\\u0644 \\u0652\\u0627\\u0644\\u0645\\u0652\\u0631\\u0643\\u0632\\u064b\\u064a\\u0650 \\u0644\\u0645\\u0627\\u0651\\u0630\\u0627\\u0651 \\u064f\\u0627\\u0650\\u0644\\u0634\\u0627\\u0651\\u0631\\u0642\\u0629\\u0651 \\u0639\\u0627\\u064b\\u0635\\u0645\\u0629\\u064f \\u064f\\u0627\\u064d\\u0644\\u064d\\u062b\\u0650\\u0642\\u0627\\u0641\\u064b\\u0629\\u064c \\u0627\\u064d\\u0644\\u0651\\u0625\\u0633\\u064b\\u0644\\u064c\\u0627\\u0645\\u064a\\u0629\\u064e\\u061f \\u064b\\u0648\\u064d\\u0623\\u0650\\u0634\\u0652\\u0627\\u0631 \\u064c\\u0627\\u0644\\u0645\\u062d\\u0627\\u064b\\u0636\\u0651\\u0631\\u064e \\u0652\\u0625\\u064f\\u0644\\u0649 \\u064e\\u0627\\u064d\\u0644\\u064d\\u062d\\u0631\\u0627\\u0643 \\u064d\\u0627\\u0644\\u062b\\u0642\\u0627\\u064e\\u0641\\u064a\\u0650 \\u0650\\u0627\\u0644\\u064b\\u0646\\u064f\\u0634\\u0637\\u0651 \\u0627\\u0644\\u0630\\u064c\\u064a\\u0652 \\u0634\\u0643\\u064b\\u0644\\u064f \\u0652\\u0627\\u0651\\u0644\\u064d\\u0628\\u0650\\u0648\\u0651\\u0627\\u0643\\u064f\\u064a\\u0631 \\u064c\\u0627\\u064d\\u0644\\u064b\\u0623\\u064c\\u0648\\u0644\\u0649\\u064c \\u0651\\u0644\\u0644\\u0651\\u0639\\u0645\\u0651\\u0644 \\u0627\\u0644\\u062b\\u0642\\u0627\\u0641\\u064a \\u0651\\u0641\\u064c\\u064a\\u064b \\u0627\\u0644\\u0652\\u0634\\u0651\\u0627\\u0651\\u0631\\u064f\\u0642\\u0629\\u064c\\u060c\\u0652 \\u0650\\u0627\\u064d\\u0644\\u0630\\u0651\\u064a\\u0651 \\u0634\\u0645\\u064c\\u0644 \\u0643\\u0627\\u0641\\u0629\\u064f \\u064e\\u0627\\u0644\\u064b\\u062c\\u0648\\u0627\\u0646\\u064c\\u0628\\u064c \\u0650\\u0628\\u0645\\u0627\\u064f \\u064b\\u0641\\u0652\\u064a\\u0652\\u0647\\u0627\\u064d \\u0625\\u0646\\u0652\\u0634\\u064c\\u0627\\u0621 \\u0651\\u0627\\u0644\\u0645\\u0631\\u0627\\u0643\\u0652\\u0632 \\u0648\\u0627\\u064e\\u0644\\u0645\\u062f\\u064f\\u0627\\u064d\\u0631\\u0633 \\u064b\\u0648\\u0650\\u0627\\u064c\\u0644\\u0651\\u062c\\u0652\\u0627\\u0645\\u0652\\u0639\\u0651\\u0627\\u062a\\u0652 \\u064f\\u0648\\u0650\\u0627\\u0644\\u0641\\u064f\\u0646\\u0650\\u0648\\u064e\\u0646\\u0652 \\u064b\\u0648\\u064b\\u0627\\u0644\\u0652\\u0645\\u0651\\u0633\\u064e\\u0627\\u0650\\u0631\\u062d \\u064d\\u0644\\u062a\\u0651\\u0639\\u0632\\u064b\\u064a\\u0632 \\u0627\\u0644\\u0641\\u0639\\u0644\\u064b \\u0627\\u0644\\u064b\\u062b\\u064e\\u0642\\u064e\\u0627\\u0651\\u0641\\u064c\\u064a\\u064d \\u0648\\u064c\\u062a\\u0633\\u0631\\u064a\\u064c\\u0639\\u064f \\u0639\\u062c\\u064f\\u0644\\u0629\\u064f \\u0627\\u0644\\u0650\\u0646\\u064e\\u0634\\u0627\\u0637\\u0652 \\u064d\\u0627\\u0644\\u062b\\u0642\\u064c\\u0627\\u0651\\u0641\\u0650\\u064a \\u064b\\u0641\\u064a \\u0627\\u064d\\u0644\\u0651\\u0634\\u0627\\u064b\\u0631\\u0642\\u0629\\u0650\\u060c\\u0651 \\u0643\\u0645\\u064c\\u0627 \\u064d\\u062a\\u0650\\u0645 \\u062a\\u062e\\u0635\\u064a\\u0635\\u064f \\u064f\\u0645\\u064c\\u0633\\u0650\\u0627\\u062d\\u0629 \\u0645\\u064c\\u0639\\u062a\\u064b\\u0628\\u0651\\u0631\\u064f\\u0629\\u064e \\u064b\\u0644\\u0644\\u0637\\u0641\\u0644\\u064f \\u0648\\u062b\\u0642\\u0652\\u0627\\u0652\\u0641\\u064c\\u062a\\u0647\\u064c\\u060c\\u0650 \\u0645\\u0646\\u0651 \\u062e\\u0652\\u0644\\u064f\\u0627\\u0644 \\u0625\\u0646\\u0634\\u064b\\u0627\\u0652\\u0621\\u064e \\u0651\\u0645\\u064f\\u0631\\u064c\\u0627\\u0643\\u0652\\u0632 \\u064c\\u0645\\u064c\\u0643\\u062a\\u0628\\u0652\\u0627\\u064c\\u062a \\u064e\\u0627\\u0644\\u064e\\u0623\\u0650\\u0637\\u064d\\u0641\\u064c\\u0627\\u0644\\u060c \\u0648\\u064d\\u0645\\u064d\\u0631\\u0652\\u0627\\u0643\\u0632 \\u064e\\u0627\\u064c\\u0644\\u0623\\u0637\\u0641\\u064c\\u0627\\u064d\\u0644\\u064d\\u060c \\u062b\\u0645\\u064c \\u0645\\u0652\\u0631\\u064d\\u0627\\u0643\\u0632 \\u064b\\u0627\\u064e\\u0644\\u0652\\u0646\\u0627\\u0634\\u0651\\u0626\\u0629\\u060c \\u0641\\u0645\\u0652\\u062c\\u064f\\u0644\\u0633 \\u064b\\u0623\\u064e\\u0639\\u0644\\u0649\\u064e \\u0652\\u0644\\u064f\\u0644\\u0637\\u0641\\u064e\\u0644\\u0652 \\u0625\\u064e\\u0644\\u0649 \\u064c\\u063a\\u064a\\u0631 \\u0630\\u064b\\u0644\\u0643 \\u0651\\u0645\\u0646 \\u0627\\u0644\\u0633\\u064b\\u064a\\u0627\\u0633\\u064c\\u0627\\u062a \\u064b\\u0627\\u0644\\u0652\\u062a\\u064a\\u064c \\u064e\\u0627\\u0650\\u0639\\u0650\\u062a\\u064b\\u0645\\u064b\\u062f\\u0647\\u0650\\u0627\\u064e \\u064d\\u0635\\u0651\\u0627\\u0652\\u062d\\u0628\\u0650 \\u0652\\u0627\\u0652\\u0644\\u0633\\u064c\\u0645\\u0648\\u064f \\u064b\\u0627\\u064b\\u0644\\u0650\\u0634\\u064f\\u064a\\u064d\\u062e \\u064f\\u0627\\u0644\\u062f\\u064b\\u0643\\u062a\\u0648\\u064f\\u0631 \\u064b\\u0633\\u064d\\u0644\\u064f\\u0637\\u0627\\u0646 \\u0628\\u0646 \\u0645\\u064e\\u062d\\u064c\\u0645\\u062f \\u0627\\u0650\\u0644\\u0642\\u0652\\u0627\\u0633\\u0645\\u064a\\u0652 \\u064e\\u0639\\u064d\\u0636\\u0648\\u064f \\u0627\\u0644\\u0645\\u062c\\u0650\\u0644\\u0633\\u064b \\u064c\\u0627\\u064d\\u0644\\u064b\\u0623\\u0639\\u0651\\u0644\\u0652\\u0649 \\u062d\\u064b\\u0627\\u0643\\u064c\\u0645\\u064e \\u064f\\u0627\\u064e\\u0644\\u0634\\u064e\\u0627\\u0650\\u0631\\u0642\\u064c\\u0629\\u0652 \\u064e\\u0644\\u0644\\u0650\\u0631\\u0642\\u0652\\u064a\\u064e \\u064c\\u0628\\u062b\\u0650\\u0642\\u064c\\u0627\\u064f\\u0641\\u064d\\u0629\\u0652 \\u0627\\u0652\\u0644\\u0637\\u0650\\u0641\\u0644 \\u0648\\u0652\\u062a\\u0646\\u064d\\u0645\\u064a\\u0651\\u0629 \\u0652\\u0645\\u064c\\u062f\\u064f\\u0627\\u064e\\u0631\\u064c\\u0643\\u0652\\u0647\\u0652 \\u0648\\u064d\\u0642\\u064e\\u062f\\u0631\\u0652\\u0627\\u0651\\u062a\\u064d\\u0647\\u064b \\u0650. \\u0648\\u064b\\u0630\\u0647\\u064d\\u0628\\u064b \\u0627\\u064c\\u0644\\u0645\\u0650\\u062d\\u0651\\u0627\\u0650\\u0636\\u064b\\u0631 \\u0625\\u064d\\u0644\\u0650\\u0649\\u0650 \\u064f\\u0623\\u0646\\u064e \\u064f\\u0627\\u0644\\u0652\\u0633\\u064c\\u064a\\u0651\\u0627\\u0633\\u0650\\u0627\\u062a\\u064d \\u0627\\u0644\\u062b\\u0652\\u0642\\u0627\\u0641\\u064a\\u0629\\u064b \\u0648\\u0627\\u0644\\u062a\\u064d\\u0648\\u062c\\u064c\\u064a\\u064b\\u0647\\u0627\\u062a\\u0650 \\u0650\\u0627\\u064b\\u0644\\u064d\\u0646\\u064e\\u064a\\u0651\\u0631\\u0629\\u064c \\u0644\\u064e\\u0635\\u064c\\u0627\\u062d\\u0650\\u0628\\u064c \\u0627\\u0644\\u0633\\u0645\\u0648 \\u064d\\u062d\\u0627\\u064c\\u0643\\u0652\\u0645\\u064b \\u0627\\u064d\\u0644\\u0634\\u064c\\u0627\\u0631\\u064f\\u0642\\u0629 \\u064b\\u062c\\u064c\\u0639\\u0644\\u0650\\u062a\\u064f \\u0650\\u0645\\u064e\\u0646 \\u0627\\u0651\\u0644\\u0639\\u064d\\u0645\\u064c\\u0644\\u064e \\u0627\\u0644\\u064d\\u062b\\u064b\\u0642\\u0627\\u064d\\u0641\\u064f\\u064a\\u0652 \\u0641\\u064a\\u064e \\u0627\\u0652\\u0644\\u064d\\u0634\\u0627\\u0631\\u064f\\u0642\\u0651\\u0629\\u064c \\u0639\\u0645\\u0644\\u0627\\u064b\\u0650 \\u0646\\u064e\\u0634\\u064d\\u0637\\u0651\\u0627\\u064b \\u0648\\u0651\\u0642\\u0651\\u0648\\u0651\\u064a\\u0652\\u0627\\u064b\\u064c \\u064e\\u0633\\u0648\\u064f\\u0627\\u0621 \\u064f\\u0645\\u064d\\u0646 \\u0652\\u062e\\u0652\\u0644\\u0650\\u0627\\u0644 \\u062a\\u064d\\u0648\\u064e\\u062c\\u0650\\u064a\\u0647\\u0627\\u064c\\u062a\\u064c \\u0650\\u0633\\u064e\\u0645\\u0651\\u0648\\u0647 \\u064c\\u0644\\u064e\\u0644\\u0627\\u0652\\u0631\\u062a\\u064d\\u0642\\u0651\\u0627\\u0621 \\u064c\\u0628\\u0627\\u0651\\u0644\\u064f\\u0641\\u0646\\u064f \\u0627\\u064d\\u0644\\u064d\\u062a\\u0634\\u064f\\u0643\\u064a\\u064e\\u0644\\u064e\\u064a\\u0652 \\u0648\\u064b\\u062a\\u0634\\u064f\\u062c\\u064d\\u064a\\u0639 \\u064b\\u0627\\u0652\\u0644\\u0641\\u0646\\u0627\\u0650\\u0646\\u064a\\u0646\\u060c\\u064c \\u0648\\u064f\\u0627\\u0642\\u062a\\u0646\\u064d\\u0627\\u0621\\u064c \\u0652\\u0623\\u064c\\u0639\\u064e\\u0645\\u064e\\u0627\\u0644 \\u0641\\u064b\\u0646\\u0651\\u064a\\u064e\\u0629\\u064e \\u0644\\u0645\\u0635\\u0650\\u0644\\u0652\\u062d\\u064d\\u0629\\u064f \\u064f\\u0645\\u062a\\u064b\\u062d\\u064d\\u0641\\u0651 \\u0627\\u0644\\u064b\\u0634\\u0627\\u0631\\u0651\\u0642\\u0629\\u060c \\u0648\\u064f\\u0625\\u064c\\u0646\\u062c\\u0627\\u0632 \\u064e\\u0642\\u0652\\u0627\\u0639\\u0629 \\u064e\\u062e\\u064f\\u0627\\u0651\\u0635\\u0629\\u0652 \\u064f\\u0628\\u0627\\u064f\\u0644\\u0622\\u062b\\u0650\\u0627\\u0651\\u0631 \\u0627\\u064b\\u0644\\u0625\\u0633\\u064d\\u0644\\u064c\\u0627\\u064d\\u0645\\u0651\\u064a\\u0629\\u064b \\u064f\\u0641\\u064e\\u064a \\u0645\\u062a\\u062d\\u0641 \\u0627\\u0652\\u0644\\u064d\\u0634\\u0627\\u0651\\u0631\\u0642\\u064e\\u0629\\u060c\\u064c \\u064d\\u0623\\u064b\\u0645\\u064e \\u0645\\u064f\\u0646 \\u062e\\u064c\\u0644\\u0627\\u0651\\u0644 \\u0650\\u0627\\u0633\\u064b\\u062a\\u0643\\u0645\\u0651\\u0627\\u064d\\u0644 \\u0627\\u0652\\u0644\\u0645\\u0652\\u0634\\u0652\\u0631\\u0648\\u0639\\u0627\\u064d\\u062a\\u064c \\u0627\\u0644\\u062b\\u0652\\u0642\\u0651\\u0627\\u0652\\u0641\\u064a\\u0629\\u064c \\u0648\\u064e\\u062a\\u0631\\u0645\\u064a\\u0645 \\u0627\\u0651\\u0644\\u0645\\u0628\\u0627\\u0646\\u064c\\u064a\\u064f \\u0627\\u0644\\u064d\\u062a\\u0650\\u0631\\u0627\\u0650\\u062b\\u064a\\u0650\\u0629 \\u0652\\u0648\\u063a\\u064a\\u0631\\u0647\\u064b\\u0627\\u064f \\u0645\\u064f\\u0646 \\u0627\\u064e\\u0644\\u0651\\u0623\\u0639\\u0651\\u0645\\u0627\\u0644 \\u064c\\u0648\\u0650\\u0627\\u0644\\u0623\\u064f\\u0646\\u0634\\u064e\\u0637\\u0629 \\u0652\\u0627\\u0644\\u062a\\u064a \\u062a\\u0635\\u0628 \\u0641\\u064a\\u064d \\u064e\\u0635\\u0645\\u064e\\u064a\\u0651\\u0645\\u0651 \\u064b\\u0627\\u0644\\u0650\\u0641\\u0639\\u0651\\u0644\\u064d \\u0627\\u064f\\u0644\\u064e\\u062b\\u064c\\u0642\\u0627\\u064b\\u0641\\u0651\\u064a .\\u0648\\u0623\\u0652\\u0643\\u064e\\u062f\\u064d \\u0627\\u0652\\u0644\\u0650\\u0645\\u0650\\u062d\\u0650\\u0627\\u064c\\u0636\\u0631 \\u0623\\u064d\\u0646 \\u0627\\u064c\\u0644\\u064e\\u062f\\u064e\\u0648\\u0652\\u0631\\u0629\\u0652 \\u064b\\u0627\\u0652\\u0644\\u064c\\u0623\\u064c\\u0648\\u064c\\u0644\\u064f\\u0649\\u0651 \\u0644\\u0645\\u064e\\u0639\\u0631\\u064d\\u0636\\u064d \\u0627\\u0644\\u0650\\u0643\\u0650\\u062a\\u0651\\u0627\\u0628\\u060c \\u0627\\u0644\\u0630\\u064d\\u064a \\u0623\\u0635\\u0651\\u0628\\u062d \\u0627\\u0651\\u0644\\u0652\\u064a\\u064f\\u0648\\u064c\\u0645\\u0651 \\u0648\\u062c\\u064b\\u0647\\u0629 \\u0639\\u0627\\u064b\\u0644\\u0651\\u0645\\u064a\\u0650\\u0629 \\u0644\\u0651\\u0644\\u0643\\u062a\\u0627\\u064d\\u0628\\u064e \\u064c\\u0648\\u0627\\u0644\\u0650\\u0645\\u0641\\u064e\\u0643\\u064b\\u0631\\u064a\\u0650\\u0646 \\u064e\\u0645\\u0650\\u0646\\u0650 \\u0623\\u0650\\u0646\\u064d\\u062d\\u064d\\u0627\\u064d\\u0621\\u064c \\u0627\\u064e\\u0644\\u0650\\u0639\\u0651\\u0627\\u0651\\u0644\\u0645\\u0652 \\u0638\\u0652\\u0644\\u0627\\u0644\\u0647\\u064c \\u0627\\u0644\\u0650\\u0648\\u0627\\u0631\\u064f\\u0641\\u0629\\u064e\\u060c\\u064f \\u0634\\u064d\\u0643\\u064d\\u0644\\u062a\\u0650 \\u064d\\u0646\\u064f\\u0642\\u064b\\u0637\\u0629 \\u064f\\u0627\\u064f\\u0646\\u064c\\u0637\\u0644\\u064e\\u0627\\u0652\\u0642 \\u064f\\u0648\\u062a\\u062d\\u0648\\u0650\\u0651\\u064d\\u0644 \\u0641\\u0652\\u064a\\u064d \\u0627\\u064e\\u0644\\u0645\\u0634\\u0652\\u0631\\u0652\\u0648\\u0639 \\u0652\\u0627\\u0644\\u0651\\u062b\\u0642\\u0652\\u0627\\u0652\\u0641\\u064d\\u064a\\u064f \\u0652\\u0644\\u064d\\u0635\\u0627\\u062d\\u0628 \\u064c\\u0627\\u064d\\u0644\\u064e\\u0633\\u0651\\u0645\\u0650\\u0648\\u064d \\u0650\\u062d\\u064d\\u0627\\u0643\\u0645\\u064f \\u0627\\u0652\\u0644\\u0634\\u0652\\u0627\\u064b\\u0631\\u0642\\u0651\\u0629\\u060c\\u0652 \\u0643\\u0652\\u0645\\u064b\\u0627\\u064e \\u064c\\u062a\\u0632\\u064f\\u0627\\u064d\\u0645\\u0646 \\u064c\\u0645\\u064c\\u0639\\u0651 \\u064e\\u0647\\u0650\\u0630\\u0647 \\u0627\\u0644\\u062f\\u0648\\u0631\\u0651\\u0629 \\u0627\\u064b\\u0641\\u0652\\u062a\\u062a\\u0627\\u062d \\u0645\\u064f\\u0643\\u064b\\u062a\\u0628\\u0652\\u0629\\u064e \\u0627\\u0644\\u064b\\u0645\\u064f\\u062d\\u0650\\u0645\\u0651\\u0648\\u062f\\u064e \\u0652(\\u0651\\u0627\\u0644\\u0652\\u0623\\u064b\\u0647\\u064f\\u0644\\u0650\\u064a\\u0629\\u0652)\\u0652\\u060c\\u0652 \\u0651\\u062b\\u064c\\u0645 \\u064b\\u0627\\u0644\\u0650\\u0645\\u0651\\u0631\\u064f\\u0643\\u0652\\u0632\\u0651 \\u064e\\u0627\\u0652\\u0644\\u064c\\u062b\\u0651\\u0642\\u0627\\u0641\\u0652\\u064a\\u064d \\u064f\\u0641\\u064a\\u0645\\u0627\\u0652 \\u0628\\u0639\\u062f\\u064d .\\u0652\\u0648\\u0651\\u0627\\u064c\\u0639\\u062a\\u0628\\u064d\\u0631 \\u0627\\u064d\\u0644\\u064c\\u0645\\u062d\\u064e\\u0627\\u064b\\u0636\\u0651\\u0631 \\u064b\\u0623\\u0646 \\u064b\\u062d\\u064b\\u0632\\u0645\\u0629 \\u0652\\u0627\\u0652\\u0644\\u064c\\u0645\\u064d\\u0647\\u064d\\u0631\\u062c\\u064d\\u0627\\u064d\\u0646\\u0627\\u0651\\u062a \\u0652\\u0648\\u0651\\u0627\\u0644\\u064f\\u0641\\u064b\\u0639\\u0650\\u0627\\u0644\\u064a\\u0650\\u0627\\u0651\\u062a\\u064b \\u0627\\u0644\\u0652\\u062a\\u064a\\u0650 \\u062a\\u0642\\u0652\\u0627\\u0650\\u0645 \\u0652\\u0639\\u0644\\u0651\\u0649 \\u0645\\u062f\\u0627\\u064c\\u0631\\u0650 \\u0627\\u064e\\u0644\\u0639\\u0627\\u0645\\u0650 \\u0650\\u0641\\u064a \\u064c\\u0627\\u0644\\u064e\\u0634\\u0627\\u064d\\u0631\\u0642\\u0629\\u064f\\u060c\\u0652 \\u0651\\u0648\\u0645\\u0627 \\u064a\\u0651\\u062a\\u064c\\u062e\\u0644\\u0650\\u0644\\u0647\\u064f\\u0627\\u0651 \\u0645\\u0646 \\u0623\\u0646\\u0634\\u0637\\u064c\\u0629\\u064d \\u062b\\u0642\\u064d\\u0627\\u0641\\u0652\\u064a\\u0629\\u064f \\u064c\\u0645\\u0651\\u062a\\u064f\\u0646\\u0648\\u064d\\u0639\\u0652\\u0629 \\u064d\\u062a\\u064c\\u0634\\u064b\\u0643\\u0652\\u0644\\u064f \\u064f\\u0623\\u064d\\u0648\\u062c\\u064c \\u0650\\u0627\\u064f\\u0644\\u062d\\u0631\\u064d\\u0627\\u0652\\u0643\\u0651 \\u064f\\u0627\\u064e\\u0644\\u062b\\u0642\\u0627\\u0641\\u064b\\u064a\\u064f\\u060c\\u064d \\u0648\\u0631\\u0627\\u0651\\u0641\\u0652\\u062f\\u0652\\u0627\\u064f\\u064b\\u0651 \\u0623\\u0633\\u0627\\u064d\\u0633\\u064d\\u064a\\u064e\\u0627\\u064c\\u064b \\u0644\\u0644\\u064c\\u062a\\u0641\\u0652\\u0627\\u0639\\u0644\\u0651 \\u0651\\u0648\\u0652\\u0627\\u0644\\u0652\\u062a\\u0646\\u0627\\u0650\\u063a\\u0645 \\u0627\\u0644\\u064b\\u062b\\u0650\\u0642\\u0627\\u064b\\u0641\\u064c\\u064a \\u064d\\u0641\\u064a\\u0651 \\u0625\\u0645\\u0627\\u0631\\u0652\\u0629\\u0652 \\u062a\\u0632\\u064c\\u062f\\u0651\\u0627\\u064c\\u0646 \\u0648\\u062a\\u0652\\u0632\\u062f\\u064d\\u0647\\u0651\\u064a\\u0650 \\u0643\\u0644 \\u064e\\u062d\\u064e\\u064a\\u064e\\u0646 \\u0628\\u0651\\u0644\\u0650\\u0641\\u064f\\u062a\\u064c\\u0629\\u064b \\u0643\\u064d\\u0631\\u064a\\u0645\\u0629\\u0651 \\u0648\\u064d\\u0633\\u064c\\u0627\\u064e\\u0646\\u062d\\u0629 \\u064e\\u0637\\u064a\\u064e\\u0628\\u0629 \\u0645\\u0650\\u0646 \\u0652\\u062d\\u0627\\u064e\\u0643\\u064b\\u0645 \\u0645\\u062b\\u0642\\u0641\\u0652\\u060c \\u064a\\u064e\\u062d\\u064b\\u0645\\u064d\\u0644\\u0652 \\u0639\\u0644\\u0649 \\u0639\\u064d\\u0627\\u064b\\u062a\\u064f\\u0642\\u0647 \\u064b\\u0627\\u064e\\u0644\\u064e\\u0646\\u0651\\u0647\\u064f\\u0648\\u064d\\u0636 \\u064f\\u0628\\u0652\\u0627\\u064c\\u0644\\u062b\\u064d\\u0642\\u064f\\u0627\\u064c\\u0641\\u064b\\u0629\\u064c \\u0648\\u064f\\u0627\\u064c\\u0644\\u064b\\u0645\\u064e\\u0639\\u064b\\u0631\\u0650\\u0641\\u0629 \\u064b.\\u0648\\u062e\\u0651\\u0644\\u0650\\u0635 \\u064f\\u0627\\u0650\\u0644\\u0650\\u0645\\u062d\\u064b\\u0627\\u0636\\u0631 \\u0625\\u064e\\u0644\\u0651\\u0649\\u0652 \\u0623\\u064b\\u0646 \\u064c\\u062b\\u064e\\u0645\\u0629\\u0651 \\u064b\\u062b\\u0644\\u0627\\u064e\\u062b\\u064c \\u0646\\u0642\\u0651\\u0627\\u0637 \\u064e\\u0644\\u064b\\u0644\\u0650\\u0627\\u064b\\u0631\\u064c\\u062a\\u0642\\u0650\\u0627\\u0621\\u064b \\u064e\\u0628\\u064d\\u0627\\u064d\\u0644\\u0641\\u0643\\u0652\\u0631\\u0629 \\u064d\\u0627\\u064d\\u0644\\u062b\\u0642\\u0651\\u0627\\u0641\\u064d\\u064a\\u064d\\u0629\\u0650 \\u0641\\u064e\\u064a\\u064d \\u064f\\u0627\\u0644\\u064c\\u0634\\u064d\\u0627\\u0631\\u0652\\u0642\\u0629 \\u0623\\u064d\\u0648\\u0644\\u0650\\u0647\\u0627 \\u064d\\u062a\\u0652\\u0623\\u064b\\u0633\\u064e\\u064a\\u0633 \\u0650\\u062f\\u0652\\u0627\\u0652\\u0626\\u0650\\u0631\\u0652\\u0629\\u064e \\u064e\\u0627\\u0644\\u062b\\u0642\\u0651\\u0627\\u0641\\u0629 \\u0648\\u064e\\u0627\\u0650\\u0644\\u064e\\u0625\\u0639\\u0650\\u0644\\u0627\\u0645\\u0651\\u060c \\u064c\\u0648\\u0650\\u062b\\u0652\\u0627\\u0646\\u064a\\u0647\\u0651\\u0627\\u064c \\u0627\\u062c\\u062a\\u0651\\u0645\\u064d\\u0627\\u064d\\u0639 \\u064e\\u0635\\u0627\\u062d\\u0650\\u0628\\u0650 \\u0627\\u0651\\u0644\\u0651\\u0633\\u0651\\u0645\\u0648\\u064d \\u0650\\u062d\\u0627\\u064f\\u0643\\u064b\\u0645 \\u0627\\u0644\\u064f\\u0634\\u0652\\u0627\\u064b\\u0631\\u0642\\u064d\\u0629\\u0651 \\u064c\\u0628\\u0643\\u064f\\u0648\\u0650\\u0627\\u062f\\u064c\\u0631 \\u0627\\u0644\\u064b\\u062f\\u064b\\u0627\\u0650\\u0626\\u0631\\u064b\\u0629 \\u064c\\u0648\\u0642\\u0651\\u062f\\u064f\\u0651\\u0645 \\u0641\\u0651\\u064a\\u0647\\u064f \\u0645\\u062c\\u0650\\u0645\\u064b\\u0648\\u064d\\u0639\\u0651\\u0629\\u064d \\u0645\\u064f\\u0646 \\u0652\\u0627\\u064e\\u0644\\u0633\\u064a\\u0651\\u0627\\u0651\\u0633\\u0627\\u062a \\u0651\\u0627\\u0644\\u062b\\u0642\\u064c\\u0627\\u064b\\u0641\\u064a\\u064e\\u0629 \\u0648\\u064c\\u0627\\u0644\\u062e\\u0651\\u0637\\u0637\\u064b \\u0627\\u0644\\u064d\\u062a\\u0646\\u0645\\u064e\\u0648\\u064a\\u0650\\u0629 \\u0651\\u0648\\u062f\\u0652\\u0639\\u0627 \\u064c\\u0633\\u0650\\u0645\\u064b\\u0648\\u064c\\u0647 \\u064c\\u0625\\u0650\\u0644\\u064f\\u0649: \\u0627\\u0644\\u0627\\u0647\\u0651\\u062a\\u064f\\u0645\\u0627\\u064f\\u0645 \\u0628\\u064b\\u0627\\u0650\\u0644\\u064f\\u0645\\u0652\\u0633\\u0631\\u062d\\u060c\\u0652 \\u0648\\u064b\\u0627\\u0651\\u0644\\u0623\\u0637\\u064c\\u0631\\u0650 \\u0627\\u064d\\u0644\\u0651\\u0639\\u0627\\u064b\\u0645\\u0629 \\u064e\\u0644\\u0644\\u0650\\u062b\\u064e\\u0642\\u0627\\u064d\\u0641\\u0629\\u064d\\u060c\\u0651 \\u0651\\u0627\\u064c\\u0644\\u0650\\u0627\\u0631\\u064f\\u062a\\u0642\\u0627\\u064f\\u0621\\u064c \\u0628\\u064d\\u0627\\u0650\\u0644\\u0639\\u0645\\u0651\\u0644\\u064e \\u0627\\u0644\\u0651\\u062a\\u064d\\u0634\\u0643\\u0651\\u064a\\u0644\\u064a\\u0650\\u060c \\u0627\\u0651\\u0644\\u0627\\u064f\\u0647\\u064f\\u062a\\u0645\\u064d\\u0627\\u0645 \\u0650\\u0628\\u0650\\u0627\\u0651\\u0644\\u064b\\u0648\\u0639\\u0651\\u064a \\u064b\\u0648\\u0650\\u0627\\u0652\\u0644\\u064f\\u0630\\u0627\\u0626\\u0650\\u0642\\u0651\\u0629\\u064c \\u0627\\u0651\\u0644\\u062c\\u0650\\u0645\\u064d\\u0627\\u0652\\u0644\\u0652\\u064a\\u0652\\u0629\\u064f\\u060c \\u0627\\u064d\\u0644\\u0650\\u0627\\u0647\\u064f\\u062a\\u0645\\u0627\\u0651\\u0645\\u0652 \\u064f\\u0628\\u064d\\u0627\\u0644\\u0637\\u0641\\u0644\\u0651\\u060c \\u0651\\u062a\\u0637\\u0648\\u064a\\u0631\\u064b \\u0634\\u0628\\u0643\\u0629\\u0652 \\u0627\\u0644\\u0645\\u0643\\u062a\\u064b\\u0628\\u0627\\u062a\\u060c\\u0652 \\u064e\\u0627\\u0633\\u062a\\u0643\\u064f\\u0645\\u064d\\u0627\\u0644\\u064d \\u0639\\u064b\\u0645\\u064b\\u0644\\u0652\\u064a\\u0627\\u062a \\u064c\\u0627\\u0644\\u064f\\u062a\\u0631\\u0645\\u064a\\u0645\\u0650\\u060c \\u064b\\u0627\\u0644\\u064d\\u0627\\u0647\\u064b\\u062a\\u064c\\u0645\\u0652\\u0627\\u0650\\u0645\\u064d \\u0650\\u0628\\u062b\\u064e\\u0642\\u0652\\u0627\\u064b\\u0641\\u064e\\u0629\\u064d \\u0650\\u0627\\u064d\\u0644\\u0645\\u0650\\u0631\\u064b\\u0623\\u064b\\u0629 \\u0650\\u0648\\u064b\\u0627\\u064f\\u0644\\u064d\\u0637\\u0641\\u0652\\u0644 .\\u0652 \\u064c.\\u064d)\\u064f \\u064b\\u0648\\u062b\\u064b\\u0627\\u064d\\u0644\\u0651\\u062b\\u064b\\u0647\\u064e\\u0627\\u064f \\u064b\\u0625\\u0650\\u0639\\u0650\\u0644\\u0651\\u0627\\u064b\\u0646\\u064f \\u0627\\u0644\\u0634\\u0627\\u0631\\u0642\\u0629\\u064f \\u0651\\u0639\\u0627\\u064d\\u0635\\u064e\\u0645\\u0629\\u064c \\u0644\\u0644\\u064b\\u062b\\u0642\\u064b\\u0627\\u0641\\u0629 \\u064b\\u0627\\u0652\\u0644\\u064e\\u0639\\u0651\\u0631\\u0628\\u064a\\u0629\\u064f \\u064b\\u0641\\u064a\\u064b \\u0639\\u0627\\u0645 19\\u06529\\u064d8 \\u064e\\u0644\\u0645\\u0627 \\u062a\\u062a\\u0645\\u064b\\u064a\\u0632\\u064f \\u0628\\u064f\\u0647\\u064e \\u064e\\u0645\\u064b\\u0646\\u064b \\u064b\\u0646\\u064e\\u0634\\u0650\\u0627\\u0637 \\u0651\\u0648\\u064f\\u062d\\u064b\\u0631\\u0627\\u0643\\u064d \\u064f\\u062b\\u0642\\u0627\\u0641\\u064a\\u0650 \\u0645\\u0652\\u0645\\u064c\\u064a\\u0632\\u064d\\u060c\\u064e \\u064b\\u0641\\u0636\\u0644\\u0627\\u064b\\u064e \\u064f\\u0639\\u0650\\u0646 \\u062f\\u0648\\u0631\\u064b \\u064c\\u0627\\u0644\\u064d\\u062c\\u064f\\u0648\\u0627\\u0652\\u0626\\u064f\\u0632\\u0651 \\u0648\\u0635\\u0650\\u0646\\u064f\\u0627\\u062f\\u0651\\u064a\\u064b\\u0642 \\u064f\\u0627\\u064b\\u0644\\u062f\\u064d\\u0639\\u064c\\u0645\\u060c \\u064d\\u0648\\u0627\\u064f\\u0644\\u062f\\u0628\\u0652\\u0644\\u064b\\u0648\\u0645\\u0627\\u0633\\u064d\\u064a\\u0629 \\u064f\\u0627\\u0650\\u0644\\u064b\\u062b\\u0652\\u0642\\u0627\\u0641\\u0651\\u064a\\u0629\\u060c\\u064e \\u0648\\u0639\\u0650\\u062f\\u062f \\u0648\\u0652\\u0646\\u064c\\u0648\\u0639 \\u064b\\u0627\\u064b\\u0644\\u064c\\u062c\\u064b\\u0627\\u0645\\u0639\\u0650\\u0627\\u064c\\u062a \\u0648\\u0627\\u0644\\u064e\\u0645\\u0650\\u0631\\u0627\\u0652\\u0643\\u0632\\u060c \\u064f\\u0648\\u0627\\u064b\\u0644\\u0625\\u064f\\u062d\\u0635\\u064c\\u0627\\u0650\\u0621\\u064e \\u0627\\u0651\\u0644\\u0627\\u064b\\u062c\\u064f\\u062a\\u0645\\u0627\\u0650\\u0639\\u0650\\u064a\\u0651 \\u064b\\u0641\\u0651\\u064a \\u0628\\u0644\\u0648\\u064e\\u0631\\u0629\\u064f \\u064b\\u0648\\u064c\\u062a\\u064b\\u0631\\u0633\\u0652\\u064a\\u062e \\u064c\\u0645\\u064d\\u0643\\u064e\\u0627\\u0646\\u0629 \\u064b\\u0627\\u0644\\u0651\\u0634\\u0627\\u0651\\u0631\\u064e\\u0642\\u0629 \\u064d\\u0639\\u0627\\u0635\\u0645\\u0629\\u064f \\u0651\\u0644\\u064c\\u0644\\u0651\\u062b\\u064d\\u0642\\u0627\\u064d\\u0641\\u0629\\u064e \\u064c\\u0627\\u064c\\u0644\\u0652\\u0639\\u0650\\u0631\\u0628\\u064a\\u064c\\u0629 \\u0650\\u0648\\u0652\\u0627\\u0644\\u0625\\u064d\\u0633\\u0644\\u0627\\u0651\\u0645\\u064a\\u0652\\u0629\\u060c \\u0648\\u0643\\u064f\\u0644 \\u0651\\u0630\\u0652\\u0644\\u064b\\u0643 \\u064b\\u0628\\u062c\\u0647\\u062f \\u0651\\u0635\\u0651\\u0627\\u062d\\u0628\\u064d \\u0650\\u0627\\u0644\\u064d\\u0633\\u064e\\u0645\\u0648\\u0650 \\u064b\\u062d\\u0650\\u0627\\u064c\\u0643\\u064f\\u0645 \\u064d\\u0627\\u0644\\u0634\\u0627\\u0631\\u064c\\u0642\\u0629 \\u0627\\u064e\\u0644\\u0650\\u0630\\u064a\\u064b \\u064e\\u0639\\u0645\\u064f\\u0644 \\u0651\\u0648\\u064d\\u0644\\u0627 \\u064a\\u0632\\u064f\\u0627\\u064e\\u0644 \\u0628\\u0634\\u063a\\u0641\\u0652 \\u0648\\u062d\\u0628\\u064f \\u0639\\u064f\\u0644\\u0649\\u0652 \\u062a\\u064c\\u0639\\u0632\\u064b\\u064a\\u064b\\u0632\\u064e \\u064c\\u0627\\u064f\\u0644\\u064e\\u062a\\u0646\\u064b\\u0645\\u0651\\u064a\\u064d\\u0629\\u064c \\u0627\\u064e\\u0644\\u064b\\u062b\\u0642\\u064e\\u0627\\u064d\\u0641\\u064c\\u064a\\u0629 \\u064e\\u0641\\u0650\\u064a\\u064f \\u0627\\u0652\\u0644\\u064e\\u0634\\u0627\\u0631\\u064e\\u0642\\u064d\\u0629\\u064e \\u0645\\u0646\\u0650 \\u062e\\u064b\\u0644\\u0650\\u0627\\u0650\\u0644\\u0651 \\u0651\\u0633\\u064e\\u0646\\u0651 \\u0648\\u0625\\u0642\\u064b\\u0631\\u0651\\u0627\\u0631 \\u0645\\u062c\\u0645\\u0648\\u064c\\u0639\\u064e\\u0629\\u064e \\u0645\\u064f\\u0646\\u0651 \\u0627\\u064b\\u0644\\u0645\\u064d\\u0634\\u0650\\u0631\\u0648\\u0639\\u064f\\u0627\\u064f\\u062a\\u0652 \\u0627\\u0644\\u0651\\u062b\\u0650\\u0642\\u0627\\u0652\\u0641\\u0650\\u064a\\u0629\\u064c \\u0650\\u0627\\u0644\\u062a\\u064d\\u064a \\u064e\\u062a\\u064c\\u0647\\u064e\\u062f\\u064d\\u0641\\u064e \\u0625\\u064e\\u0644\\u0650\\u0649 \\u0652\\u062a\\u062d\\u0642\\u064a\\u0642 \\u0630\\u0644\\u0643\\u064d\\u060c\\u064b \\u0650\\u062d\\u062a\\u0650\\u0649 \\u0652\\u0623\\u064e\\u0635\\u0628\\u062d\\u062a\\u0651 \\u064c\\u0627\\u064e\\u0644\\u0634\\u0627\\u064c\\u0631\\u064c\\u0642\\u064b\\u0629\\u0652 \\u0627\\u0644\\u0651\\u064a\\u0648\\u064c\\u0645 \\u0651\\u0648\\u064f\\u062c\\u0647\\u064b\\u0629\\u064e \\u064a\\u0624\\u064f\\u0645\\u064e\\u0647\\u064c\\u0627 \\u0652\\u0627\\u0644\\u064e\\u0645\\u0641\\u064e\\u0643\\u0631\\u0651\\u0648\\u0651\\u0646 \\u0648\\u0650\\u0627\\u0644\\u0645\\u0651\\u062b\\u0642\\u0650\\u0641\\u0651\\u0648\\u0646 \\u0648\\u0627\\u0644\\u0645\\u064f\\u0628\\u064c\\u062f\\u0639\\u064c\\u0648\\u0650\\u0646 \\u0652\\u0648\\u0652\\u0627\\u0651\\u0644\\u064c\\u0643\\u062a\\u064c\\u0627\\u0628\\u0650 \\u064c\\u0645\\u0650\\u0646\\u064f \\u0634\\u062a\\u0650\\u0649\\u064e \\u0623\\u064f\\u0646\\u064d\\u062d\\u0627\\u0621 \\u0627\\u064d\\u0644\\u0652\\u0639\\u0627\\u0644\\u064f\\u0645\\u060c\\u0650 \\u064e\\u0634\\u064b\\u0627\\u0652\\u0645\\u062e\\u0651\\u0629\\u064e \\u0631\\u0627\\u0633\\u062e\\u064b\\u0629 \\u064c\\u0628\\u064c\\u0639\\u0651\\u0637\\u064c\\u0627\\u0626\\u064f\\u0647\\u0650\\u0627 \\u064e\\u0648\\u062a\\u064b\\u0642\\u0650\\u062f\\u0645\\u0647\\u064d\\u0627 \\u0650.\\u064f\"\n        ],\n        \"semantic_type\": \"\",\n        \"description\": \"\"\n      }\n    },\n    {\n      \"column\": \"label\",\n      \"properties\": {\n        \"dtype\": \"category\",\n        \"num_unique_values\": 7,\n        \"samples\": [\n          \"Culture\",\n          \"Finance\",\n          \"Sports\"\n        ],\n        \"semantic_type\": \"\",\n        \"description\": \"\"\n      }\n    }\n  ]\n}"
            }
          },
          "metadata": {},
          "execution_count": 67
        }
      ]
    },
    {
      "cell_type": "markdown",
      "metadata": {
        "id": "kVc0b_9fQGeH"
      },
      "source": [
        "# Data Exploration"
      ]
    },
    {
      "cell_type": "markdown",
      "metadata": {
        "id": "a98DaVUvQsi8"
      },
      "source": [
        "Before diving into preprocessing and model building, it’s important to first explore the dataset to understand its structure, distribution, and key characteristics. This step will help you gain insights into the data and guide your decisions in subsequent steps. Here’s what to consider:\n",
        "\n",
        "1. **Inspect the Data**:\n",
        "   Start by looking at the first few rows of the dataset to get a sense of its structure. Check the columns, data types, and a few sample entries. This helps to ensure that the data is loaded correctly and gives you an initial overview of the content.\n",
        "\n",
        "2. **Check for Missing Values**:\n",
        "   Identify if there are any missing values in the dataset.\n",
        "\n",
        "3. **Distribution of Labels**:\n",
        "   Examine the distribution of the target labels (classes).\n",
        "\n",
        "4. **Text Data Characteristics (Bonus)**:\n",
        "   Analyze the length of the text data. It is useful to calculate the number of words or characters in each text sample to understand how long the texts are. This will help you set a suitable `max_length` for tokenization and padding later. You can plot a histogram of text lengths to visualize the distribution.\n",
        "\n",
        "5. **Common Words and Vocabulary (Bonus)**:\n",
        "   Explore the most frequent words in the text data."
      ]
    },
    {
      "cell_type": "code",
      "source": [
        "df.tail()"
      ],
      "metadata": {
        "colab": {
          "base_uri": "https://localhost:8080/",
          "height": 206
        },
        "id": "Li1XVd4CGA05",
        "outputId": "6fbfa31f-4838-4203-dffe-48a0f2061535"
      },
      "execution_count": 36,
      "outputs": [
        {
          "output_type": "execute_result",
          "data": {
            "text/plain": [
              "                                                    text label\n",
              "39880  https://example.com/resource/أعلّنت شّركٌةً بّ...  Tech\n",
              "39881  https://example.com/resource/بُتٍاَرٌيًخَ 28ْ ...  Tech\n",
              "39882  https://example.com/resource/دبَيُ:َ «ُاَلخليج...  Tech\n",
              "39883  https://example.com/resource/LٌG GًS2ْ9ً0 Coْo...  Tech\n",
              "39884  https://example.com/resource/تنطًلقٍ اٌليومّ َ...  Tech"
            ],
            "text/html": [
              "\n",
              "  <div id=\"df-8c2c283c-c1e4-4ae3-9f18-f26fb88dc6d9\" class=\"colab-df-container\">\n",
              "    <div>\n",
              "<style scoped>\n",
              "    .dataframe tbody tr th:only-of-type {\n",
              "        vertical-align: middle;\n",
              "    }\n",
              "\n",
              "    .dataframe tbody tr th {\n",
              "        vertical-align: top;\n",
              "    }\n",
              "\n",
              "    .dataframe thead th {\n",
              "        text-align: right;\n",
              "    }\n",
              "</style>\n",
              "<table border=\"1\" class=\"dataframe\">\n",
              "  <thead>\n",
              "    <tr style=\"text-align: right;\">\n",
              "      <th></th>\n",
              "      <th>text</th>\n",
              "      <th>label</th>\n",
              "    </tr>\n",
              "  </thead>\n",
              "  <tbody>\n",
              "    <tr>\n",
              "      <th>39880</th>\n",
              "      <td>https://example.com/resource/أعلّنت شّركٌةً بّ...</td>\n",
              "      <td>Tech</td>\n",
              "    </tr>\n",
              "    <tr>\n",
              "      <th>39881</th>\n",
              "      <td>https://example.com/resource/بُتٍاَرٌيًخَ 28ْ ...</td>\n",
              "      <td>Tech</td>\n",
              "    </tr>\n",
              "    <tr>\n",
              "      <th>39882</th>\n",
              "      <td>https://example.com/resource/دبَيُ:َ «ُاَلخليج...</td>\n",
              "      <td>Tech</td>\n",
              "    </tr>\n",
              "    <tr>\n",
              "      <th>39883</th>\n",
              "      <td>https://example.com/resource/LٌG GًS2ْ9ً0 Coْo...</td>\n",
              "      <td>Tech</td>\n",
              "    </tr>\n",
              "    <tr>\n",
              "      <th>39884</th>\n",
              "      <td>https://example.com/resource/تنطًلقٍ اٌليومّ َ...</td>\n",
              "      <td>Tech</td>\n",
              "    </tr>\n",
              "  </tbody>\n",
              "</table>\n",
              "</div>\n",
              "    <div class=\"colab-df-buttons\">\n",
              "\n",
              "  <div class=\"colab-df-container\">\n",
              "    <button class=\"colab-df-convert\" onclick=\"convertToInteractive('df-8c2c283c-c1e4-4ae3-9f18-f26fb88dc6d9')\"\n",
              "            title=\"Convert this dataframe to an interactive table.\"\n",
              "            style=\"display:none;\">\n",
              "\n",
              "  <svg xmlns=\"http://www.w3.org/2000/svg\" height=\"24px\" viewBox=\"0 -960 960 960\">\n",
              "    <path d=\"M120-120v-720h720v720H120Zm60-500h600v-160H180v160Zm220 220h160v-160H400v160Zm0 220h160v-160H400v160ZM180-400h160v-160H180v160Zm440 0h160v-160H620v160ZM180-180h160v-160H180v160Zm440 0h160v-160H620v160Z\"/>\n",
              "  </svg>\n",
              "    </button>\n",
              "\n",
              "  <style>\n",
              "    .colab-df-container {\n",
              "      display:flex;\n",
              "      gap: 12px;\n",
              "    }\n",
              "\n",
              "    .colab-df-convert {\n",
              "      background-color: #E8F0FE;\n",
              "      border: none;\n",
              "      border-radius: 50%;\n",
              "      cursor: pointer;\n",
              "      display: none;\n",
              "      fill: #1967D2;\n",
              "      height: 32px;\n",
              "      padding: 0 0 0 0;\n",
              "      width: 32px;\n",
              "    }\n",
              "\n",
              "    .colab-df-convert:hover {\n",
              "      background-color: #E2EBFA;\n",
              "      box-shadow: 0px 1px 2px rgba(60, 64, 67, 0.3), 0px 1px 3px 1px rgba(60, 64, 67, 0.15);\n",
              "      fill: #174EA6;\n",
              "    }\n",
              "\n",
              "    .colab-df-buttons div {\n",
              "      margin-bottom: 4px;\n",
              "    }\n",
              "\n",
              "    [theme=dark] .colab-df-convert {\n",
              "      background-color: #3B4455;\n",
              "      fill: #D2E3FC;\n",
              "    }\n",
              "\n",
              "    [theme=dark] .colab-df-convert:hover {\n",
              "      background-color: #434B5C;\n",
              "      box-shadow: 0px 1px 3px 1px rgba(0, 0, 0, 0.15);\n",
              "      filter: drop-shadow(0px 1px 2px rgba(0, 0, 0, 0.3));\n",
              "      fill: #FFFFFF;\n",
              "    }\n",
              "  </style>\n",
              "\n",
              "    <script>\n",
              "      const buttonEl =\n",
              "        document.querySelector('#df-8c2c283c-c1e4-4ae3-9f18-f26fb88dc6d9 button.colab-df-convert');\n",
              "      buttonEl.style.display =\n",
              "        google.colab.kernel.accessAllowed ? 'block' : 'none';\n",
              "\n",
              "      async function convertToInteractive(key) {\n",
              "        const element = document.querySelector('#df-8c2c283c-c1e4-4ae3-9f18-f26fb88dc6d9');\n",
              "        const dataTable =\n",
              "          await google.colab.kernel.invokeFunction('convertToInteractive',\n",
              "                                                    [key], {});\n",
              "        if (!dataTable) return;\n",
              "\n",
              "        const docLinkHtml = 'Like what you see? Visit the ' +\n",
              "          '<a target=\"_blank\" href=https://colab.research.google.com/notebooks/data_table.ipynb>data table notebook</a>'\n",
              "          + ' to learn more about interactive tables.';\n",
              "        element.innerHTML = '';\n",
              "        dataTable['output_type'] = 'display_data';\n",
              "        await google.colab.output.renderOutput(dataTable, element);\n",
              "        const docLink = document.createElement('div');\n",
              "        docLink.innerHTML = docLinkHtml;\n",
              "        element.appendChild(docLink);\n",
              "      }\n",
              "    </script>\n",
              "  </div>\n",
              "\n",
              "\n",
              "<div id=\"df-713c2b99-da22-4916-8cda-fe973dc963d0\">\n",
              "  <button class=\"colab-df-quickchart\" onclick=\"quickchart('df-713c2b99-da22-4916-8cda-fe973dc963d0')\"\n",
              "            title=\"Suggest charts\"\n",
              "            style=\"display:none;\">\n",
              "\n",
              "<svg xmlns=\"http://www.w3.org/2000/svg\" height=\"24px\"viewBox=\"0 0 24 24\"\n",
              "     width=\"24px\">\n",
              "    <g>\n",
              "        <path d=\"M19 3H5c-1.1 0-2 .9-2 2v14c0 1.1.9 2 2 2h14c1.1 0 2-.9 2-2V5c0-1.1-.9-2-2-2zM9 17H7v-7h2v7zm4 0h-2V7h2v10zm4 0h-2v-4h2v4z\"/>\n",
              "    </g>\n",
              "</svg>\n",
              "  </button>\n",
              "\n",
              "<style>\n",
              "  .colab-df-quickchart {\n",
              "      --bg-color: #E8F0FE;\n",
              "      --fill-color: #1967D2;\n",
              "      --hover-bg-color: #E2EBFA;\n",
              "      --hover-fill-color: #174EA6;\n",
              "      --disabled-fill-color: #AAA;\n",
              "      --disabled-bg-color: #DDD;\n",
              "  }\n",
              "\n",
              "  [theme=dark] .colab-df-quickchart {\n",
              "      --bg-color: #3B4455;\n",
              "      --fill-color: #D2E3FC;\n",
              "      --hover-bg-color: #434B5C;\n",
              "      --hover-fill-color: #FFFFFF;\n",
              "      --disabled-bg-color: #3B4455;\n",
              "      --disabled-fill-color: #666;\n",
              "  }\n",
              "\n",
              "  .colab-df-quickchart {\n",
              "    background-color: var(--bg-color);\n",
              "    border: none;\n",
              "    border-radius: 50%;\n",
              "    cursor: pointer;\n",
              "    display: none;\n",
              "    fill: var(--fill-color);\n",
              "    height: 32px;\n",
              "    padding: 0;\n",
              "    width: 32px;\n",
              "  }\n",
              "\n",
              "  .colab-df-quickchart:hover {\n",
              "    background-color: var(--hover-bg-color);\n",
              "    box-shadow: 0 1px 2px rgba(60, 64, 67, 0.3), 0 1px 3px 1px rgba(60, 64, 67, 0.15);\n",
              "    fill: var(--button-hover-fill-color);\n",
              "  }\n",
              "\n",
              "  .colab-df-quickchart-complete:disabled,\n",
              "  .colab-df-quickchart-complete:disabled:hover {\n",
              "    background-color: var(--disabled-bg-color);\n",
              "    fill: var(--disabled-fill-color);\n",
              "    box-shadow: none;\n",
              "  }\n",
              "\n",
              "  .colab-df-spinner {\n",
              "    border: 2px solid var(--fill-color);\n",
              "    border-color: transparent;\n",
              "    border-bottom-color: var(--fill-color);\n",
              "    animation:\n",
              "      spin 1s steps(1) infinite;\n",
              "  }\n",
              "\n",
              "  @keyframes spin {\n",
              "    0% {\n",
              "      border-color: transparent;\n",
              "      border-bottom-color: var(--fill-color);\n",
              "      border-left-color: var(--fill-color);\n",
              "    }\n",
              "    20% {\n",
              "      border-color: transparent;\n",
              "      border-left-color: var(--fill-color);\n",
              "      border-top-color: var(--fill-color);\n",
              "    }\n",
              "    30% {\n",
              "      border-color: transparent;\n",
              "      border-left-color: var(--fill-color);\n",
              "      border-top-color: var(--fill-color);\n",
              "      border-right-color: var(--fill-color);\n",
              "    }\n",
              "    40% {\n",
              "      border-color: transparent;\n",
              "      border-right-color: var(--fill-color);\n",
              "      border-top-color: var(--fill-color);\n",
              "    }\n",
              "    60% {\n",
              "      border-color: transparent;\n",
              "      border-right-color: var(--fill-color);\n",
              "    }\n",
              "    80% {\n",
              "      border-color: transparent;\n",
              "      border-right-color: var(--fill-color);\n",
              "      border-bottom-color: var(--fill-color);\n",
              "    }\n",
              "    90% {\n",
              "      border-color: transparent;\n",
              "      border-bottom-color: var(--fill-color);\n",
              "    }\n",
              "  }\n",
              "</style>\n",
              "\n",
              "  <script>\n",
              "    async function quickchart(key) {\n",
              "      const quickchartButtonEl =\n",
              "        document.querySelector('#' + key + ' button');\n",
              "      quickchartButtonEl.disabled = true;  // To prevent multiple clicks.\n",
              "      quickchartButtonEl.classList.add('colab-df-spinner');\n",
              "      try {\n",
              "        const charts = await google.colab.kernel.invokeFunction(\n",
              "            'suggestCharts', [key], {});\n",
              "      } catch (error) {\n",
              "        console.error('Error during call to suggestCharts:', error);\n",
              "      }\n",
              "      quickchartButtonEl.classList.remove('colab-df-spinner');\n",
              "      quickchartButtonEl.classList.add('colab-df-quickchart-complete');\n",
              "    }\n",
              "    (() => {\n",
              "      let quickchartButtonEl =\n",
              "        document.querySelector('#df-713c2b99-da22-4916-8cda-fe973dc963d0 button');\n",
              "      quickchartButtonEl.style.display =\n",
              "        google.colab.kernel.accessAllowed ? 'block' : 'none';\n",
              "    })();\n",
              "  </script>\n",
              "</div>\n",
              "\n",
              "    </div>\n",
              "  </div>\n"
            ],
            "application/vnd.google.colaboratory.intrinsic+json": {
              "type": "dataframe",
              "summary": "{\n  \"name\": \"df\",\n  \"rows\": 5,\n  \"fields\": [\n    {\n      \"column\": \"text\",\n      \"properties\": {\n        \"dtype\": \"string\",\n        \"num_unique_values\": 5,\n        \"samples\": [\n          \"https://example.com/resource/\\u0628\\u064f\\u062a\\u064d\\u0627\\u064e\\u0631\\u064c\\u064a\\u064b\\u062e\\u064e 28\\u0652 \\u064f\\u0645\\u0651\\u0627\\u0631\\u0633\\u064d/\\u064d\\u0622\\u0630\\u0627\\u064d\\u0631 \\u0627\\u0644\\u0645\\u0627\\u064b\\u0636\\u0650\\u064a \\u0648\\u0651\\u0628\\u064e\\u064a\\u0651\\u0646 \\u0652\\u0627\\u0644\\u064c\\u0633\\u0651\\u0627\\u0639\\u0629\\u064c \\u0627\\u064f\\u0644\\u0652\\u062b\\u064f\\u0627\\u0645\\u0646\\u0629 \\u0648\\u0650\\u0627\\u0650\\u0644\\u0651\\u0646\\u064e\\u0635\\u0641\\u064c \\u064c\\u0645\\u0651\\u0633\\u0627\\u0621\\u0650 \\u064d\\u0648\\u062d\\u062a\\u064e\\u0649\\u064d \\u0627\\u0644\\u064c\\u062a\\u064b\\u0627\\u0652\\u0633\\u0639\\u0652\\u0629 \\u0648\\u0627\\u064e\\u0644\\u064f\\u0646\\u0652\\u0635\\u0641\\u064b \\u0650\\u0645\\u0633\\u064d\\u0627\\u0621\\u064c\\u060c\\u0652 \\u0633\\u0627\\u0651\\u0647\\u0645 \\u0650\\u0622\\u064e\\u0644\\u0627\\u0650\\u0641 \\u064c\\u0627\\u0644\\u0623\\u064d\\u0634\\u064f\\u062e\\u064b\\u0627\\u0635 \\u0641\\u064c\\u064a \\u064c\\u0627\\u064e\\u0644\\u0652\\u0645\\u064d\\u0646\\u0627\\u064c\\u0632\\u064d\\u0644 \\u0648\\u0627\\u064d\\u0644\\u064c\\u0645\\u0652\\u0643\\u0651\\u0627\\u062a\\u064c\\u0628\\u064c \\u0648\\u064c\\u0627\\u0644\\u064c\\u0634\\u0631\\u0650\\u0643\\u0651\\u0627\\u062a\\u064c \\u064f\\u0641\\u064e\\u064a\\u0652 \\u0645\\u0646\\u0650\\u0637\\u0642\\u064c\\u0629\\u064b \\u0627\\u0644\\u0651\\u0634\\u0652\\u0631\\u0642\\u064d \\u0652\\u0627\\u0644\\u064e\\u0623\\u0648\\u0633\\u064b\\u0637 \\u064c\\u0628\\u0652\\u062f\\u064c\\u0639\\u0652\\u0645 \\u0633\\u0652\\u0627\\u0639\\u0629\\u0652 \\u0652\\u0627\\u0652\\u0644\\u064b\\u0623\\u064f\\u0631\\u0636 200\\u064c9 \\u0651.\\u064e \\u064c\\u0648\\u062a\\u064d\\u0634\\u064f\\u064a\\u0631 \\u0652\\u0627\\u0652\\u0644\\u0652\\u0623\\u0631\\u0642\\u0627\\u0652\\u0645 \\u064c\\u0627\\u0644\\u0631\\u064b\\u0633\\u064d\\u0645\\u064a\\u0629 \\u0651\\u0625\\u0644\\u064f\\u0649 \\u0623\\u0646\\u0647\\u064b \\u064e\\u0641\\u064a \\u0652\\u0625\\u0650\\u0645\\u064d\\u0627\\u0631\\u0651\\u0629\\u064b \\u064c\\u062f\\u064f\\u0628\\u0651\\u064a \\u0648\\u062d\\u062f\\u064d\\u0647\\u064e\\u0627\\u0650 \\u064f\\u062a\\u0645\\u064f \\u064e\\u062a\\u0648\\u0641\\u064a\\u0652\\u0631 \\u0637\\u0652\\u0627\\u064c\\u0642\\u0629\\u064b \\u064d\\u0643\\u064d\\u0647\\u064f\\u0631\\u064c\\u0628\\u064b\\u0627\\u0626\\u0650\\u064a\\u0629\\u064f \\u0648\\u064c\\u0635\\u0650\\u0644\\u062a\\u064e \\u0625\\u0650\\u0644\\u0652\\u0649 \\u06501\\u064e4\\u064b6\\u0651 \\u0623\\u064c\\u0644\\u064f\\u0641 \\u064f\\u0643\\u064a\\u0644\\u0648\\u064d \\u0648\\u0651\\u0627\\u064b\\u0637\\u064e \\u0650\\u0633\\u0627\\u0639\\u064f\\u064a\\u0650 \\u064e\\u062e\\u0644\\u0627\\u064d\\u0644\\u0650 \\u064d\\u0633\\u0650\\u0627\\u0639\\u064c\\u0629 \\u0627\\u0644\\u0650\\u0623\\u0651\\u0631\\u064f\\u0636 \\u0641\\u0650\\u064a\\u064b \\u064c\\u0627\\u0650\\u0644\\u0639\\u0627\\u0645\\u0650 \\u06502\\u06510\\u065009 \\u064d.\\u0648\\u064e\\u0645\\u064f\\u0639 \\u064c\\u062a\\u0648\\u064e\\u0641\\u0631 \\u0634\\u0627\\u0634\\u0629\\u0650 \\u0652\\u0628\\u064c\\u0631\\u0650\\u0627\\u064f\\u0641\\u064e\\u064a\\u0650\\u0627\\u064b \\u064c\\u062f\\u0628\\u0644\\u0650\\u064a\\u0648 \\u0651\\u0625\\u064d\\u064a \\u06505\\u064c \\u0651\\u0623\\u0635\\u064f\\u0628\\u062d\\u064d \\u0628\\u064c\\u0625\\u0645\\u064e\\u0643\\u0627\\u064f\\u0646\\u064f \\u064c\\u0643\\u0644\\u0651 \\u0645\\u0650\\u0646 \\u064a\\u064e\\u0645\\u0644\\u0643 \\u0650\\u0647\\u0630\\u0627 \\u0652\\u0627\\u0644\\u062a\\u064f\\u0644\\u064b\\u0641\\u064b\\u0627\\u064e\\u0632\\u064b \\u064e\\u0623\\u064d\\u0646 \\u0650\\u064a\\u064e\\u0633\\u0627\\u0647\\u0645 \\u064e\\u0628\\u064e\\u0641\\u0639\\u0627\\u064d\\u0644\\u0650\\u064a\\u064f\\u0629 \\u0641\\u064b\\u064a \\u0625\\u062d\\u064e\\u064a\\u0627\\u0621\\u0652 \\u064d\\u0633\\u0627\\u0639\\u064e\\u0629\\u064b \\u064c\\u0627\\u064c\\u0644\\u064c\\u0623\\u064c\\u0631\\u064f\\u0636 \\u0651\\u0648\\u064d\\u0627\\u0644\\u0627\\u064e\\u0646\\u0651\\u0636\\u0645\\u0627\\u064b\\u0645\\u0650 \\u064c\\u0625\\u064b\\u0644\\u064c\\u0649\\u0650 \\u0627\\u0652\\u0644\\u064e\\u062b\\u0648\\u064c\\u0631\\u0629 \\u0627\\u064c\\u0644\\u064d\\u062e\\u0651\\u0636\\u0651\\u0631\\u0627\\u0651\\u0621\\u060c \\u064d\\u0648\\u064f\\u0639\\u064b\\u0646\\u064d\\u062f\\u064b \\u0651\\u0627\\u0645\\u0650\\u062a\\u0644\\u0627\\u0643\\u0643 \\u0652\\u0644\\u0647\\u0630\\u0627\\u064c \\u0627\\u0644\\u062a\\u0644\\u0641\\u0627\\u0632 \\u064c\\u0641\\u0625\\u0646\\u064d\\u0643\\u064f \\u062a\\u064c\\u0633\\u0650\\u0627\\u0647\\u0645\\u064f \\u0641\\u064a\\u0652 \\u064f\\u062a\\u0642\\u0652\\u0644\\u064d\\u064a\\u0644 \\u064e\\u0627\\u0633\\u064e\\u062a\\u064b\\u0647\\u0644\\u064c\\u0627\\u064e\\u0643\\u064c \\u0627\\u064f\\u0644\\u0637\\u0627\\u0642\\u064f\\u0629 \\u064d\\u0627\\u0644\\u064c\\u0643\\u0647\\u0631\\u0628\\u0627\\u064e\\u0626\\u064c\\u064a\\u0629\\u060c \\u064c\\u0648\\u064a\\u0650\\u0646\\u062a\\u062c\\u064c \\u0639\\u064c\\u0646 \\u064f\\u0630\\u0644\\u0650\\u0643\\u064e \\u064e\\u0627\\u064e\\u0644\\u064b\\u062d\\u062f\\u0652 \\u0651\\u0645\\u0646 \\u0627\\u064f\\u0646\\u0628\\u0639\\u064b\\u0627\\u062b\\u064f \\u063a\\u0627\\u0632\\u064c\\u0627\\u064b\\u062a\\u0652 \\u0652\\u0627\\u064e\\u0644\\u0643\\u0631\\u064e\\u0628\\u0648\\u0651\\u0646\\u060c\\u0652 \\u0644\\u062a\\u0650\\u062a\\u0645\\u064d\\u0643\\u0646\\u0651 \\u0645\\u064b\\u0646\\u064f \\u0652\\u0635\\u0646\\u0650\\u0627\\u0639\\u064b\\u0629 \\u064e\\u0627\\u0644\\u0641\\u0651\\u0631\\u0642\\u064d \\u0641\\u064a\\u0651 \\u0643\\u0650\\u0644 \\u0633\\u064c\\u0627\\u064e\\u0639\\u0629\\u064c \\u0645\\u0634\\u0627\\u0647\\u064f\\u062f\\u0629 \\u0644\\u064e\\u0644\\u062a\\u0644\\u064f\\u0641\\u0627\\u064d\\u0632 \\u0651.\\u0648\\u0639\\u0651\\u0646\\u064b\\u062f\\u064e \\u0627\\u0644\\u0650\\u062d\\u0650\\u062f\\u064a\\u062b \\u0650\\u0639\\u0646 \\u064e\\u0627\\u0633\\u064f\\u062a\\u0647\\u0650\\u0644\\u0652\\u0627\\u0643\\u0651 \\u0627\\u0644\\u0637\\u064f\\u0627\\u064d\\u0642\\u0652\\u0629 \\u0627\\u0650\\u0644\\u064f\\u0643\\u0647\\u0631\\u064f\\u0628\\u0627\\u0626\\u064a\\u0629\\u064d \\u0641\\u0625\\u0652\\u0646 \\u0650\\u0644\\u0643\\u064f\\u0644\\u064d \\u0650\\u062b\\u0651\\u0627\\u0652\\u0646\\u064a\\u064b\\u0629\\u064d \\u064c\\u0642\\u064a\\u0645\\u062a\\u0647\\u0627 .\\u064a\\u0650\\u0633\\u064f\\u062a\\u063a\\u0650\\u0631\\u064d\\u0642\\u064f \\u0627\\u0644\\u0631\\u062f\\u0651 \\u0652\\u0639\\u0644\\u064f\\u0649 \\u0645\\u0643\\u0627\\u0644\\u0645\\u064e\\u0629 \\u064e\\u0647\\u0652\\u0627\\u0652\\u062a\\u064c\\u0641\\u064a\\u0650\\u0629 \\u064b\\u0648\\u0633\\u0637\\u064a\\u0627\\u064f\\u064b\\u064f \\u064d\\u062b\\u0652\\u0644\\u0627\\u0650\\u062b\\u064d \\u062f\\u0642\\u0650\\u0627\\u0651\\u0626\\u064d\\u0642\\u060c \\u0648\\u064a\\u064f\\u0633\\u064f\\u062a\\u064d\\u063a\\u0631\\u064b\\u0642\\u064f \\u0627\\u0644\\u0645\\u0652\\u0627\\u0621 \\u0643\\u064e\\u064a\\u064c \\u0650\\u064a\\u063a\\u064d\\u0644\\u064a\\u064d \\u0641\\u064a\\u064f \\u0627\\u0644\\u0650\\u0625\\u0652\\u0628\\u0631\\u064a\\u064e\\u0642\\u064c \\u062d\\u064f\\u0648\\u0627\\u0644\\u064a\\u064f \\u064e5\\u0650 \\u062f\\u0642\\u064c\\u0627\\u064f\\u0626\\u0650\\u0642\\u064b\\u060c \\u0648\\u0627\\u0652\\u0644\\u064b\\u0648\\u0642\\u062a\\u064d \\u0627\\u0644\\u064b\\u0645\\u0633\\u0651\\u062a\\u0647\\u0650\\u0644\\u0650\\u0643 \\u064d\\u0644\\u0652\\u0627\\u064e\\u0633\\u064b\\u062a\\u0644\\u0627\\u064b\\u0645 \\u0648\\u064c\\u062c\\u0652\\u0628\\u064b\\u0629 \\u0627\\u0652\\u0644\\u0628\\u064a\\u064e\\u062a\\u0651\\u0632\\u064d\\u0627\\u064d \\u0652\\u0645\\u0651\\u0646 \\u064d\\u0627\\u0644\\u064e\\u0628\\u0627\\u0651\\u0628\\u064d \\u0648\\u064c\\u0627\\u0644\\u062a\\u064f\\u062d\\u0652\\u0636\\u064b\\u064a\\u0652\\u0631\\u064b \\u0652\\u0644\\u062a\\u064b\\u0646\\u0627\\u064e\\u0648\\u0644\\u0647\\u0627 \\u064c\\u062d\\u064f\\u0648\\u064e\\u0627\\u0651\\u0644\\u064d\\u064a\\u064c \\u064f\\u0639\\u0634\\u064d\\u0631 \\u062f\\u0642\\u064b\\u0627\\u0652\\u0626\\u0642\\u0650 \\u064b- \\u0652\\u0645\\u0639 \\u064b\\u0633\\u0648\\u0652\\u0646\\u064a\\u064b \\u064e\\u0641\\u064c\\u0642\\u0652\\u0637 \\u064c\\u064a\\u0645\\u0643\\u0646\\u0651\\u0643 \\u064d\\u0625\\u064a\\u0642\\u0652\\u0627\\u0641 \\u064b\\u0633\\u0627\\u0652\\u0639\\u064b\\u0627\\u064f\\u062a\\u0651 \\u0627\\u064c\\u0633\\u064f\\u062a\\u0647\\u0644\\u0627\\u064c\\u0643\\u064b \\u0627\\u0652\\u0644\\u064f\\u0628\\u0650\\u064a\\u0650\\u0626\\u064c\\u0629 \\u064b.\\u064e \\u062a\\u064d\\u0644\\u064b\\u0641\\u064d\\u0627\\u0632 \\u0628\\u064f\\u0631\\u0627\\u0641\\u064a\\u0627 \\u062f\\u0628\\u064b\\u0644\\u064a\\u0648\\u0651 \\u0651\\u0625\\u064a \\u064f5 \\u064e\\u0648\\u0643\\u0651\\u0644 \\u0652\\u0623\\u0650\\u062c\\u0647\\u0650\\u0632\\u0629\\u064c \\u062a\\u064d\\u0644\\u0641\\u0627\\u064d\\u0632\\u064d \\u0650\\u0628\\u064f\\u0631\\u0652\\u0627\\u0641\\u064a\\u0627\\u064c \\u0644\\u064f\\u0644\\u0639\\u0627\\u064f\\u0645\\u064f \\u06512009 \\u064f\\u062a\\u0652\\u0642\\u062f\\u0645 \\u062a\\u064b\\u0648\\u0641\\u064a\\u0631\\u0627\\u0651\\u064b\\u0651 \\u0645\\u0644\\u0645\\u064c\\u0648\\u0633\\u0627\\u064b \\u0641\\u064e\\u064a\\u064c \\u0627\\u0633\\u0650\\u062a\\u0647\\u0650\\u0644\\u0627\\u064f\\u0643\\u064d \\u064f\\u0627\\u0644\\u0651\\u0643\\u0650\\u0647\\u064d\\u0631\\u0628\\u0627\\u064f\\u0621\\u064d \\u0645\\u0646 \\u0651\\u062f\\u0648\\u0646\\u0650 \\u064f\\u0627\\u0644\\u0650\\u062a\\u0650\\u0636\\u0652\\u062d\\u0650\\u064a\\u0629\\u064b \\u0651\\u0628\\u062c\\u0650\\u0648\\u062f\\u064f\\u0629\\u064b \\u064b\\u0627\\u0652\\u0644\\u064c\\u0635\\u064e\\u0648\\u0631\\u0629\\u0650 \\u0650\\u0639\\u0627\\u0644\\u064d\\u064a\\u0650\\u0629 \\u0627\\u0644\\u064f\\u0648\\u064c\\u0636\\u064f\\u0648\\u062d\\u064f \\u0650.\\u0651\",\n          \"https://example.com/resource/\\u062a\\u0646\\u0637\\u064b\\u0644\\u0642\\u064d \\u0627\\u064c\\u0644\\u064a\\u0648\\u0645\\u0651 \\u064e\\u0641\\u0651\\u064a\\u064d \\u0645\\u0631\\u0643\\u064e\\u0632\\u064c \\u064d\\u0645\\u0639\\u0627\\u0631\\u0636\\u064f \\u064b\\u0645\\u064f\\u0637\\u0627\\u0631 \\u062f\\u0628\\u064b\\u064a \\u0627\\u064f\\u0644\\u062f\\u0648\\u064e\\u0631\\u0629 \\u0627\\u064d\\u0644\\u064e \\u065021\\u064c \\u0651\\u0644\\u0652\\u0645\\u064e\\u0639\\u0631\\u0636\\u0652 \\u064d\\u062c\\u064e\\u064a\\u062a\\u0650\\u0643\\u064d\\u0633\\u064c \\u0634\\u064d\\u0648\\u0628\\u0631 \\u060c\\u065120\\u064f1\\u064d1 \\u064e\\u0627\\u0644\\u0630\\u0651\\u064a\\u064f \\u064f\\u064a\\u064b\\u0648\\u0627\\u064b\\u0635\\u0650\\u0644\\u064e \\u0627\\u0633\\u064e\\u062a\\u064b\\u0642\\u0628\\u0627\\u0651\\u0644 \\u064f\\u0627\\u0652\\u0644\\u064f\\u0645\\u064d\\u062a\\u064e\\u0633\\u064d\\u0648\\u0642\\u064a\\u0646\\u0652 \\u0645\\u064d\\u0646\\u064b \\u064b\\u0627\\u064b\\u0644\\u062f\\u0648\\u0644\\u0629 \\u0648\\u0651\\u062f\\u064d\\u0648\\u064d\\u0644\\u064b \\u064f\\u0645\\u062c\\u0644\\u0633\\u064f \\u064e\\u0627\\u0644\\u064c\\u062a\\u064e\\u0639\\u0627\\u0648\\u064d\\u0646\\u0652 \\u064f\\u0648\\u0627\\u0644\\u0645\\u064d\\u0646\\u064c\\u0637\\u064e\\u0642\\u0629\\u064b \\u0650\\u062d\\u062a\\u0651\\u0649 \\u0627\\u0650\\u0644\\u0652\\u0633\\u0628\\u062a\\u0651 \\u064f\\u0627\\u0644\\u0645\\u0642\\u0628\\u0644\\u0652 \\u064b1\\u06525\\u0652 \\u0652\\u0623\\u064e\\u0643\\u062a\\u064b\\u0648\\u0628\\u064b\\u0631\\u0652 \\u064f\\u0627\\u0644\\u062c\\u0627\\u0631\\u064a\\u0651 \\u0652\\u0648\\u0633\\u0637 \\u0645\\u0650\\u0646\\u0651\\u0627\\u064b\\u0641\\u0633\\u0629\\u064d \\u0642\\u0650\\u0648\\u064a\\u0629 \\u0645\\u0646\\u064f \\u0646\\u064b\\u062d\\u0648 \\u0651100 \\u064f\\u0634\\u0631\\u064d\\u0643\\u064d\\u0629\\u0652 \\u0650\\u0645\\u062a\\u0650\\u062e\\u0651\\u0635\\u0635\\u0651\\u0629 \\u064b\\u0641\\u064a \\u0645\\u0628\\u064b\\u064a\\u0639\\u0627\\u062a \\u0625\\u064f\\u0644\\u0643\\u064c\\u062a\\u0631\\u0651\\u0648\\u064c\\u0646\\u0652\\u064a\\u0627\\u064f\\u062a \\u064d\\u0627\\u0650\\u0644\\u062a\\u062c\\u0632\\u0650\\u0626\\u064b\\u0629\\u064e \\u0648\\u064e\\u0627\\u0652\\u0644\\u0652\\u0630\\u064d\\u064a\\u064e\\u0646 \\u064a\\u0633\\u064c\\u062a\\u0647\\u062f\\u064e\\u0641\\u064c\\u0648\\u0646\\u064b \\u064b\\u062a\\u062d\\u0651\\u0642\\u064f\\u064a\\u0642 \\u0646\\u064f\\u0633\\u0651\\u0628 \\u064d\\u0646\\u0645\\u064b\\u0648\\u0652 \\u0644\\u0651\\u0645\\u0628\\u064f\\u064a\\u064b\\u0639\\u0627\\u062a\\u0647\\u0645\\u0652 \\u064e\\u062a\\u062a\\u0631\\u064d\\u0627\\u0648\\u064b\\u062d \\u0651\\u0628\\u064a\\u064e\\u0646\\u064d \\u06501\\u06525 \\u064d\\u0648\\u064b25\\u064d \\u064f%\\u0650\\u060c\\u064b \\u064f\\u062d\\u0633\\u0628 \\u0625\\u0641\\u0627\\u064c\\u062f\\u062a\\u0647\\u0645\\u064e \\u0644\\u064c\\u0627\\u064e\\u0644\\u062e\\u0650\\u0644\\u064c\\u064a\\u064e\\u062c .\\u0652\\u0648\\u062a\\u0652\\u062a\\u064f\\u0646\\u064e\\u0627\\u0651\\u0641\\u064e\\u0633 \\u064f\\u0627\\u0650\\u0644\\u0634\\u0651\\u0631\\u0643\\u064e\\u0627\\u062a \\u064e\\u0627\\u0644\\u064d\\u0639\\u064d\\u0627\\u064b\\u0631\\u064b\\u0636\\u0652\\u0629 \\u0650\\u0644\\u064c\\u0623\\u0650\\u0643\\u064f\\u062b\\u0650\\u0631\\u0652 \\u0645\\u0651\\u0646\\u0652 \\u064d25 \\u0652\\u0623\\u0644\\u064d\\u0641 \\u0645\\u064b\\u0646\\u062a\\u0650\\u062c \\u0628\\u0651\\u0627\\u0644\\u064d\\u0625\\u0636\\u064c\\u0627\\u0641\\u0629\\u064f \\u064d\\u0625\\u064f\\u0644\\u0649 \\u064e\\u0634\\u064d\\u0631\\u0651\\u0643\\u064e\\u0627\\u064d\\u062a \\u0623\\u062e\\u0631\\u064c\\u0649 \\u0652\\u0645\\u0652\\u062a\\u0650\\u062e\\u064e\\u0635\\u0635\\u064d\\u0629 \\u064f\\u0641\\u064b\\u064a\\u064e \\u0628\\u064a\\u0639 \\u064b\\u0627\\u0650\\u0644\\u0623\\u0633\\u0652\\u0637\\u0648\\u0627\\u064c\\u0646\\u0652\\u0627\\u0651\\u062a\\u064b \\u064c\\u0648\\u0650\\u0627\\u0644\\u064f\\u0628\\u0652\\u0631\\u0650\\u0627\\u064c\\u0645\\u0650\\u062c \\u0627\\u064e\\u0644\\u064e\\u062a\\u0639\\u0644\\u064a\\u0645\\u064c\\u064a\\u0629 \\u0628\\u0651\\u0627\\u0650\\u0644\\u064b\\u0625\\u0636\\u0627\\u0641\\u0629\\u064d \\u0625\\u0644\\u0651\\u0649\\u064e \\u0627\\u064b\\u0644\\u064b\\u0639\\u062f\\u064a\\u0650\\u062f\\u064c \\u0650\\u0645\\u0646 \\u0627\\u064f\\u0644\\u062e\\u064d\\u062f\\u064b\\u0645\\u0627\\u062a\\u064b \\u0627\\u064e\\u0644\\u0623\\u062e\\u0631\\u0649\\u064c\\u060c\\u0651 \\u0648\\u064c\\u062a\\u064b\\u0633\\u064b\\u062a\\u062d\\u0648\\u064f\\u0630\\u064b \\u064d\\u0639\\u0631\\u0648\\u0636 \\u0651\\u0634\\u0631\\u064e\\u0643\\u0650\\u0627\\u062a\\u0651 \\u0627\\u062a\\u0635\\u0651\\u0627\\u0644\\u0650\\u0627\\u064d\\u062a \\u064d\\u0648\\u062f\\u0648 \\u0644\\u064b\\u0628\\u064a\\u0639\\u064e \\u064f\\u0627\\u0644\\u064d\\u0647\\u0648\\u0627\\u062a\\u0650\\u0641\\u064d \\u064e\\u0627\\u064e\\u0644\\u064d\\u0645\\u062d\\u0645\\u0648\\u0644\\u0629\\u064d \\u064d\\u0648\\u064b\\u0641\\u0651\\u0642 \\u0652\\u0639\\u064e\\u0631\\u0650\\u0648\\u0636\\u064f\\u0647\\u0627 \\u0627\\u0652\\u0644\\u0651\\u062e\\u0627\\u0635\\u0652\\u0629 \\u064f\\u0628\\u0627\\u0652\\u0644\\u0625\\u0651\\u0636\\u0627\\u0652\\u0641\\u064b\\u0629 \\u0652\\u0625\\u064c\\u0644\\u064f\\u0649\\u064e \\u0623\\u0650\\u062c\\u0647\\u0632\\u0629\\u0650 \\u0627\\u0652\\u0644\\u0643\\u064e\\u0645\\u064d\\u0628\\u0651\\u064a\\u0648\\u062a\\u064f\\u0631\\u064d \\u0627\\u064f\\u0644\\u064b\\u0645\\u062d\\u0652\\u0645\\u064e\\u0648\\u064e\\u0644\\u064e \\u0648\\u064e\\u0627\\u064b\\u0644\\u064b\\u0623\\u064e\\u062c\\u0647\\u0632\\u0652\\u0629\\u064b \\u0627\\u0644\\u0644\\u0648\\u064f\\u062d\\u064a\\u064d\\u0629 \\u0648\\u064f\\u0627\\u064d\\u0644\\u064f\\u0647\\u064b\\u0648\\u0627\\u064f\\u062a\\u0641 \\u0651\\u0627\\u0644\\u0645\\u0650\\u062d\\u064e\\u0645\\u0648\\u0644\\u0629 \\u0651\\u0648\\u064c\\u0627\\u064b\\u0644\\u064c\\u0643\\u0627\\u0651\\u0645\\u064f\\u064a\\u0650\\u0631\\u0627\\u0651\\u062a\\u0652 \\u0628\\u064e\\u0623\\u064f\\u0646\\u0648\\u0627\\u0639\\u0647\\u064b\\u0627\\u0650 \\u064e\\u0639\\u0644\\u064d\\u0649 \\u064b\\u0627\\u0650\\u0647\\u062a\\u0652\\u0645\\u0627\\u064d\\u0645\\u064c \\u064b\\u0627\\u0652\\u0644\\u064d\\u063a\\u0651\\u0627\\u064e\\u0644\\u064b\\u0628\\u064a\\u0652\\u0629\\u0650 \\u0627\\u0644\\u064f\\u0639\\u0638\\u0650\\u0645\\u064d\\u0649 \\u0645\\u0646\\u0652 \\u064e\\u0632\\u0648\\u0627\\u0631\\u064c \\u0627\\u0652\\u0644\\u064c\\u0645\\u064f\\u0639\\u064e\\u0631\\u0636 \\u064d\\u0627\\u0644\\u0651\\u0630\\u0650\\u064a\\u0646\\u0651 \\u0650\\u064a\\u062a\\u064e\\u0648\\u064d\\u0642\\u064e\\u0639\\u064c \\u064b\\u0623\\u064c\\u0646 \\u064d\\u064a\\u0632\\u064a\\u064c\\u062f\\u064d \\u064f\\u0639\\u0651\\u062f\\u064f\\u062f\\u0651\\u0647\\u0645 \\u0650\\u0639\\u0651\\u0644\\u0650\\u0649 1\\u065260\\u0650 \\u0623\\u064f\\u0644\\u0652\\u0641\\u0651 \\u0632\\u064f\\u0627\\u0626\\u0631 \\u0650\\u0627\\u064e\\u0644\\u0639\\u0627\\u064c\\u0645 \\u064c\\u0627\\u064e\\u0644\\u0645\\u0652\\u0627\\u0651\\u0636\\u064a \\u064d.\\u0648\\u064c\\u064a\\u0642\\u0651\\u062f\\u064e\\u0645\\u0652 \\u0623\\u0651\\u0628\\u0652\\u0631\\u064c\\u0632\\u064e \\u0652\\u0627\\u0644\\u064f\\u0645\\u0648\\u064e\\u0632\\u0651\\u0639\\u064a\\u0650\\u0646 \\u064f\\u0627\\u0652\\u0644\\u0650\\u0625\\u064d\\u0642\\u0644\\u0650\\u064a\\u0645\\u0652\\u064a\\u0652\\u064a\\u0652\\u0646 \\u0648\\u0652\\u0634\\u0631\\u0643\\u0651\\u0627\\u064f\\u062a\\u064c \\u064e\\u0627\\u0650\\u0644\\u0628\\u064a\\u0639\\u0651 \\u064b\\u0628\\u0627\\u0644\\u062a\\u0651\\u062c\\u064e\\u0632\\u064b\\u0626\\u0629 \\u0648\\u0639\\u0644\\u0649 \\u0631\\u0623\\u0650\\u0633\\u0647\\u064e\\u0627\\u0650 \\u0634\\u0631\\u0641 \\u064e\\u062f\\u064a \\u064e\\u062c\\u064a\\u064c \\u064d\\u0648\\u064c\\u0628\\u064c\\u0644\\u0651\\u062c\\u064d-\\u064b \\u0652\\u0625\\u0646\\u0633 \\u064c\\u0648\\u062c\\u064f\\u0627\\u0643\\u0650\\u064a\\u0632 \\u064e\\u0625\\u064e\\u0644\\u064d\\u0643\\u0650\\u062a\\u0631\\u0648\\u064b\\u0646\\u064a\\u0652\\u0643\\u064c\\u0633\\u0651\\u060c \\u0648\\u062c\\u0645\\u064f\\u0628\\u0648 \\u0625\\u064e\\u0644\\u0643\\u062a\\u0631\\u064b\\u0648\\u0650\\u0646\\u0651\\u064a\\u064d\\u0643\\u0633\\u064b \\u0652\\u0648\\u064e\\u0622\\u0651\\u064a\\u0652 \\u064f\\u0633\\u062a\\u0650\\u0627\\u0652\\u064a\\u0644\\u060c\\u064b \\u064e\\u0648\\u064b\\u0625\\u0651\\u064a- \\u0633\\u064a\\u062a\\u064f\\u064a\\u060c \\u0648\\u064b\\u0643\\u0648\\u0645\\u0628\\u0650\\u064a\\u064d\\u0648 \\u0645\\u064d\\u064a\\u064e \\u0648\\u0651\\u0625\\u0650\\u064a \\u0641\\u0651\\u0648\\u0631\\u0650 \\u064a\\u0648\\u0651\\u060c\\u064c \\u0648\\u0625\\u064b\\u064a \\u0650\\u0645\\u064e\\u0627\\u0643\\u0651\\u0633\\u064c\\u060c \\u0648\\u062a\\u064f\\u062a\\u064d\\u0634 \\u0645\\u0650\\u0627\\u064a\\u0651\\u062a\\u0651\\u060c \\u062a\\u064d\\u062e\\u064f\\u0641\\u0652\\u064a\\u064d\\u0636\\u0652\\u0627\\u064f\\u062a \\u0641\\u064a\\u0651 \\u0623\\u0633\\u064c\\u0639\\u0652\\u0627\\u0631 \\u064c\\u0628\\u0639\\u064f\\u0636 \\u0627\\u0644\\u064b\\u0645\\u064f\\u0646\\u064e\\u062a\\u062c\\u0627\\u062a \\u0648\\u0645\\u0646\\u062a\\u062c\\u0650\\u0627\\u064e\\u062a \\u0645\\u0651\\u062c\\u0627\\u0646\\u064a\\u0629\\u064b \\u0639\\u0644\\u064d\\u0649\\u0650 \\u064f\\u0634\\u0651\\u0631\\u064c\\u0627\\u064e\\u0621\\u064e \\u064f\\u0628\\u0639\\u0636 \\u0627\\u0644\\u0645\\u0646\\u062a\\u064b\\u062c\\u0627\\u064e\\u062a\\u064f \\u064f\\u0627\\u064f\\u0644\\u0623\\u0651\\u062e\\u0631\\u0649 \\u0652.\\u0648\\u0650\\u0628\\u0627\\u064e\\u0644\\u0650\\u0625\\u0636\\u0627\\u0641\\u064d\\u0629\\u064d \\u064d\\u0625\\u0644\\u0649\\u0650 \\u0650\\u0627\\u064e\\u0644\\u064e\\u0645\\u0646\\u062a\\u064b\\u062c\\u064f\\u0627\\u0651\\u062a \\u0627\\u0644\\u0625\\u0650\\u0644\\u0643\\u064f\\u062a\\u0631\\u064f\\u0648\\u0646\\u0650\\u064a\\u064d\\u0629\\u0650 \\u0627\\u0644\\u062a\\u064a \\u0650\\u0633\\u064e\\u064a\\u064d\\u062a\\u0651\\u0645 \\u064f\\u0639\\u0651\\u0631\\u0652\\u0636\\u064f\\u0647\\u0627\\u064c \\u0651\\u0643\\u064f\\u0627\\u064d\\u0644\\u0623\\u062c\\u0647\\u0632\\u0629\\u0652 \\u0627\\u0652\\u0644\\u064d\\u0644\\u0650\\u0648\\u064c\\u062d\\u0652\\u064a\\u0629\\u0650 \\u0648\\u0627\\u0650\\u0644\\u062a\\u064e\\u0644\\u0641\\u0632\\u064d\\u064a\\u064c\\u0648\\u0652\\u0646\\u064c\\u0627\\u062a\\u0650 \\u0650\\u0648\\u0623\\u0651\\u062c\\u064f\\u0647\\u0652\\u0632\\u064c\\u0629 \\u064f\\u0627\\u0644\\u062d\\u0627\\u0651\\u0633\\u064f\\u0648\\u0628 \\u0627\\u064c\\u0644\\u0645\\u064b\\u062d\\u064b\\u0645\\u0648\\u064f\\u0644\\u0629\\u064f \\u064e\\u0648\\u064c\\u0627\\u0644\\u0650\\u0647\\u0648\\u064e\\u0627\\u0652\\u062a\\u0641\\u064c \\u0627\\u064f\\u0644\\u0630\\u0650\\u0643\\u064a\\u0629\\u064d \\u064e\\u0648\\u0650\\u063a\\u064a\\u0652\\u0631\\u0651\\u0647\\u064f\\u0627\\u064e\\u060c\\u064f \\u064b\\u0641\\u064b\\u0633\\u064d\\u064a\\u0650\\u062a\\u0645\\u064c \\u0639\\u0631\\u064d\\u0636\\u064b \\u064e\\u0645\\u062c\\u064e\\u0645\\u064c\\u0648\\u064d\\u0639\\u0629 \\u0645\\u0646\\u064d \\u0652\\u0627\\u064d\\u0644\\u0651\\u0645\\u0650\\u0646\\u062a\\u062c\\u0627\\u064d\\u062a \\u0650\\u063a\\u064e\\u064a\\u0652\\u0631\\u0652 \\u064f\\u0627\\u064b\\u0644\\u064b\\u062a\\u0650\\u0642\\u0644\\u064f\\u064a\\u0652\\u062f\\u0650\\u064a\\u0629\\u064d\\u060c\\u064f \\u0650\\u0625\\u0630\\u064b \\u0650\\u062a\\u064d\\u0637\\u064e\\u0644\\u0642 \\u0634\\u0650\\u0631\\u064c\\u0643\\u064f\\u0629\\u064d \\u0652\\u062c\\u0631\\u0651\\u064a\\u0646\\u064c\\u0633\\u0627\\u064e\\u0648\\u0646\\u062f\\u064b \\u062a\\u0650\\u064a\\u0643\\u0652\\u0646\\u0648\\u0651\\u0644\\u0648\\u062c\\u064c\\u064a \\u0650\\u0633\\u0645\\u064c\\u0627\\u0639\\u0627\\u064b\\u062a\\u0652 \\u0632\\u0651\\u062c\\u0627\\u0652\\u062c\\u064e\\u064a\\u0629\\u0652 \\u0644\\u064d\\u0627\\u064e\\u0633\\u0644\\u0643\\u064a\\u0629\\u064c \\u064e\\u062c\\u0651\\u0630\\u0627\\u0628\\u064f\\u0629\\u060c\\u064b \\u0650\\u0641\\u0651\\u064a \\u064c\\u062d\\u064a\\u0646 \\u064f\\u062a\\u064d\\u0642\\u0652\\u062f\\u0651\\u064e\\u0645 \\u0651\\u0645\\u0651\\u064a\\u0652\\u0631\\u0644\\u064a\\u064d\\u0646\\u0650 \\u062f\\u064a\\u062c\\u064a\\u0650\\u062a\\u0627\\u0644 \\u0651\\u0645\\u064c\\u0631\\u064d\\u0643\\u064e\\u0628\\u0629 \\u0651\\u0625\\u0644\\u0643\\u062a\\u064e\\u0631\\u064d\\u0648\\u0646\\u064a\\u0651\\u0629\\u064b \\u064e\\u0630\\u0627\\u062a\\u064a\\u0652\\u0629 \\u0651\\u0627\\u0644\\u062a\\u0648\\u064f\\u0627\\u064d\\u0632\\u0646\\u064d \\u0628\\u064c\\u0639\\u062c\\u0644\\u062a\\u0650\\u064a\\u064c\\u0646 \\u064c\\u0627\\u0650\\u0633\\u0645\\u0647\\u0627 \\u0631\\u0650\\u0648\\u064d\\u0628\\u0648\\u0633\\u064b\\u062a\\u0651\\u064a\\u0628\\u064f \\u0648\\u064e \\u0628\\u064c\\u0644\\u064a\\u064f\\u0648 \\u0648\\u0650\\u0647\\u0652\\u0648\\u0650 \\u0623\\u064e\\u0648\\u0651\\u0644 \\u064d\\u0631\\u0648\\u064f\\u0628\\u0648\\u062a \\u064c\\u0639\\u0644\\u0649\\u0651 \\u064f\\u0647\\u064a\\u0650\\u0626\\u0629 \\u0650\\u062f\\u064a\\u0646\\u0651\\u0627\\u064e\\u0635\\u0648\\u064c\\u0631 \\u064a\\u0645\\u0650\\u0643\\u0646\\u064f \\u0651\\u0627\\u0642\\u064f\\u062a\\u064c\\u0646\\u0627\\u0624\\u0647 \\u064d\\u0643\\u062d\\u064a\\u0651\\u0648\\u0627\\u0652\\u0646\\u064d \\u0652\\u0645\\u0646\\u064b\\u0632\\u0644\\u0652\\u064a\\u064e \\u0623\\u064d\\u0644\\u064a\\u0641 \\u064f.\\u0648\\u0652\\u064a\\u0634\\u064f\\u0627\\u064b\\u0631\\u0643\\u064d \\u0641\\u064a\\u0652 \\u0627\\u0652\\u0644\\u0651\\u0645\\u064e\\u0639\\u0631\\u0651\\u0636 \\u0644\\u0644\\u0645\\u0631\\u0651\\u0629\\u0650 \\u0627\\u064e\\u0644\\u0623\\u064e\\u0648\\u0644\\u064c\\u0649 \\u064b\\u0647\\u0630\\u064d\\u0627 \\u0627\\u0652\\u0644\\u0639\\u0627\\u0645 \\u0643\\u064f\\u0644 \\u0645\\u064b\\u0646 \\u064d\\u0628\\u0648\\u0632\\u0651 \\u0648\\u0641\\u064a\\u064b\\u0631\\u0652\\u062c\\u0646 \\u0651\\u0645\\u064a\\u064b\\u062c\\u0627\\u0633\\u0652\\u062a\\u064f\\u0648\\u064e\\u0631 \\u064e\\u0648\\u0646\\u064b\\u0648\\u064b\\u0643\\u064a\\u0627\\u060c \\u0652\\u0641\\u064c\\u064a\\u064d \\u0652\\u062d\\u064a\\u0646 \\u064d\\u062a\\u0651\\u0639\\u0648\\u0651\\u062f \\u0639\\u0651\\u0644\\u0627\\u0645\\u064e\\u0627\\u062a \\u064c\\u062a\\u062c\\u0627\\u0631\\u064a\\u0629\\u064c \\u0639\\u064c\\u0627\\u0651\\u0644\\u0645\\u0650\\u064a\\u0629\\u064b \\u064c\\u0639\\u0652\\u062f\\u0650\\u0651\\u064c\\u0629 \\u0644\\u0644\\u064f\\u0645\\u0650\\u0634\\u064f\\u0627\\u0631\\u064c\\u0643\\u0629 \\u0641\\u064c\\u064a \\u0627\\u0652\\u0644\\u0650\\u0645\\u0639\\u0631\\u0651\\u0636\\u064d\\u060c \\u0645\\u062b\\u0644\\u0651 \\u064e\\u0625\\u064e\\u062a\\u0634 \\u062a\\u0652\\u064a \\u0650\\u0633\\u064a\\u060c\\u0652 \\u064c\\u0648\\u0625\\u0646\\u0651\\u062a\\u0652\\u0644\\u060c\\u064d \\u0648\\u0628\\u0627\\u0646\\u064c\\u0627\\u0652\\u0633\\u064b\\u0648\\u064e\\u0646\\u064a\\u064c\\u0643\\u060c\\u064d \\u0651\\u0648\\u064f\\u062c\\u064a\\u0647 \\u0641\\u064a \\u0633\\u0651\\u064a\\u0651\\u060c \\u0652\\u0648\\u064f\\u062f\\u064e\\u064a\\u064b\\u0644\\u060c\\u064d \\u0651\\u0648\\u0631\\u0650\\u0645\\u064e \\u0628\\u0651\\u0644\\u064f\\u0627\\u0643 \\u064d\\u0628\\u064a\\u0631\\u064a\\u060c \\u0648\\u0633\\u0651\\u0627\\u0645\\u0633\\u064e\\u0648\\u064c\\u0646\\u062c\\u060c \\u0648\\u064b\\u0633\\u064e\\u0627\\u0646\\u062f\\u064a\\u064c\\u0633\\u0651\\u0643\\u064f\\u060c \\u0651\\u0648\\u064c\\u0643\\u064c\\u0627\\u064b\\u0646\\u0648\\u0646\\u060c \\u0651\\u0648\\u0650\\u0644\\u064a\\u0646\\u0648\\u0641\\u0648\\u060c \\u0648\\u0646\\u0627\\u0652\\u0643\\u064c\\u0627\\u0645\\u0652\\u064a\\u062a\\u064c\\u0634\\u0652\\u064a\\u064b\\u060c \\u0648\\u0647\\u064a\\u0652\\u0648\\u0644\\u064a\\u062a\\u064c \\u0628\\u0627\\u0643\\u0627\\u0631\\u062f\\u0651\\u060c \\u0648\\u0648\\u064e\\u064a\\u064c\\u0633\\u062a\\u064a\\u0631\\u0646\\u064e \\u064b\\u062f\\u0650\\u064a\\u062c\\u064a\\u062a\\u064c\\u0627\\u0650\\u0644 \\u064b.\",\n          \"https://example.com/resource/\\u062f\\u0628\\u064e\\u064a\\u064f:\\u064e \\u00ab\\u064f\\u0627\\u064e\\u0644\\u062e\\u0644\\u064a\\u062c\\u064d\\u00bb \\u0623\\u064e\\u0628\\u0631\\u064d\\u0645\\u0650\\u062a \\u0628\\u0644\\u062f\\u0651\\u064a\\u0629 \\u062f\\u0628\\u0650\\u064a\\u064c \\u0645\\u0639 \\u0628\\u0644\\u062f\\u064d\\u064a\\u064e\\u0629 \\u0631\\u064b\\u0623\\u064f\\u0633\\u0652 \\u064f\\u0627\\u064e\\u0644\\u062e\\u0650\\u064a\\u064e\\u0645\\u0629\\u064f \\u0627\\u064f\\u062a\\u064e\\u0641\\u0627\\u0650\\u0642\\u064e\\u064a\\u0629 \\u064f\\u0645\\u064f\\u0634\\u064c\\u0631\\u0652\\u0648\\u0650\\u0639 \\u064e\\u00ab\\u064e\\u0645\\u0650\\u0643\\u0652\\u0627\\u064c\\u0646\\u064a\\u064d\\u00bb \\u0644\\u064f\\u0644\\u0651\\u0639\\u0646\\u064d\\u0648\\u0646\\u0650\\u0629 \\u0652\\u0627\\u0644\\u064b\\u062c\\u063a\\u0652\\u0631\\u0627\\u0650\\u0641\\u0652\\u064a\\u0629\\u060c \\u0648\\u062c\\u064b\\u0627\\u0621\\u0652 \\u0650\\u0630\\u064e\\u0644\\u064c\\u0643 \\u0639\\u0652\\u0644\\u0650\\u0649\\u0652 \\u0647\\u0627\\u0650\\u0645\\u0634\\u064e \\u064d\\u0641\\u064e\\u0639\\u0627\\u064c\\u0644\\u0651\\u064a\\u0627\\u062a\\u064c \\u0645\\u064b\\u0639\\u0631\\u064c\\u0636 \\u064c\\u00ab\\u062c\\u0650\\u064a\\u062a\\u0643\\u0633\\u00bb\\u0650\\u060c \\u0650\\u0627\\u0644\\u0630\\u0650\\u064a\\u0651 \\u064a\\u0639\\u062f\\u064b \\u0623\\u0651\\u062d\\u062f\\u064e \\u0623\\u0651\\u0643\\u064c\\u0628\\u064b\\u0631\\u064f \\u0627\\u0644\\u064e\\u0641\\u0639\\u064b\\u0627\\u0652\\u0644\\u064a\\u0627\\u064e\\u062a \\u0627\\u064b\\u0644\\u062a\\u0651\\u062c\\u0627\\u0631\\u064f\\u064a\\u0650\\u0629 \\u0648\\u0651\\u0627\\u064f\\u0644\\u064b\\u062a\\u0643\\u0646\\u064d\\u0648\\u0651\\u0644\\u064c\\u0648\\u064e\\u062c\\u064e\\u064a\\u064d\\u0629\\u064d \\u064e\\u0641\\u064a\\u0650 \\u064f\\u0625\\u0645\\u064f\\u0627\\u0631\\u064c\\u0629 \\u064f\\u062f\\u0628\\u064f\\u064a.\\u064e\\u0648\\u0648\\u0642\\u0639\\u064b \\u0639\\u0652\\u0644\\u064e\\u0649\\u0650 \\u064d\\u0627\\u0644\\u0650\\u0627\\u062a\\u0641\\u0627\\u064b\\u0642\\u064a\\u0652\\u0629 \\u064e\\u062d\\u064c\\u0633\\u064a\\u0646\\u064c \\u0646\\u0652\\u0627\\u0635\\u064f\\u0631\\u064c \\u0651\\u0644\\u064e\\u0648\\u062a\\u0651\\u0627\\u0651\\u0647\\u0652 \\u0650\\u0645\\u064b\\u062f\\u064a\\u064d\\u0631\\u064d \\u0639\\u0627\\u064b\\u0645\\u064f \\u064f\\u0628\\u0644\\u0652\\u062f\\u0650\\u064a\\u064b\\u0629\\u0650 \\u064b\\u062f\\u064d\\u0628\\u064a\\u064b\\u060c \\u0648\\u0645\\u0646\\u064e\\u0630\\u064e\\u0631 \\u0645\\u062d\\u064b\\u0645\\u0650\\u062f \\u0627\\u0651\\u0644\\u0632\\u0651\\u0639\\u0627\\u0628\\u064d\\u064a \\u064e\\u0645\\u062f\\u064a\\u0631 \\u0639\\u064b\\u0627\\u0650\\u0645\\u064f \\u0628\\u0644\\u062f\\u064e\\u064a\\u0629\\u064e \\u0631\\u0623\\u0650\\u0633 \\u064d\\u0627\\u0644\\u064c\\u062e\\u064a\\u064f\\u0645\\u0629\\u064c\\u060c\\u0651 \\u0648\\u0652\\u0623\\u0651\\u0643\\u062f \\u0645\\u062f\\u064a\\u064d\\u0631 \\u0639\\u064c\\u0627\\u0645 \\u064c\\u0628\\u064b\\u0644\\u062f\\u064a\\u0629 \\u062f\\u064c\\u0628\\u064f\\u064a \\u064c\\u0623\\u064f\\u0646 \\u0625\\u0651\\u0628\\u0631\\u0627\\u0645\\u0650 \\u0647\\u0651\\u0630\\u0647 \\u064c\\u0627\\u064c\\u0644\\u0650\\u0627\\u064d\\u062a\\u0641\\u0627\\u0642\\u064a\\u0629\\u064e \\u064a\\u0623\\u062a\\u064f\\u064a\\u0652 \\u0627\\u0646\\u064e\\u0637\\u0644\\u064d\\u0627\\u0652\\u0642\\u0650\\u0627\\u064b \\u0645\\u0646 \\u0652\\u062d\\u064e\\u0631\\u0635\\u064f \\u064d\\u0627\\u0652\\u0644\\u0628\\u064d\\u0644\\u062f\\u064a\\u0651\\u0629 \\u0639\\u064e\\u0644\\u064e\\u0649 \\u0652\\u0645\\u062f\\u064f \\u064b\\u062c\\u0651\\u0633\\u0648\\u0631 \\u064f\\u0627\\u0644\\u0645\\u0639\\u064e\\u0631\\u0641\\u0629\\u064b \\u0650\\u0648\\u0650\\u0627\\u0650\\u0644\\u0652\\u062a\\u0639\\u0627\\u064c\\u0648\\u0646\\u064f \\u064f\\u0645\\u0639 \\u064f\\u0627\\u064c\\u0644\\u062c\\u0647\\u0627\\u064e\\u062a\\u0652 \\u064e\\u0627\\u0650\\u0644\\u0650\\u062d\\u0643\\u0648\\u064d\\u0645\\u064c\\u064a\\u0652\\u0629\\u064b \\u064d\\u0641\\u064a\\u064c \\u064d\\u0627\\u0644\\u062f\\u064e\\u0648\\u064b\\u0644\\u064d\\u0629\\u064b \\u064c\\u0641\\u0652\\u064a\\u0651 \\u064f\\u0627\\u0644\\u0645\\u064d\\u062c\\u064e\\u0627\\u0650\\u0644\\u0627\\u062a \\u0643\\u064c\\u0627\\u0650\\u0641\\u0629 \\u064c\\u0630\\u0627\\u0651\\u062a\\u064d \\u0627\\u0644\\u064c\\u0627\\u064f\\u0647\\u0650\\u062a\\u0645\\u0627\\u0645\\u0650 \\u0652\\u0627\\u0652\\u0644\\u064c\\u0645\\u0634\\u064c\\u062a\\u064d\\u0631\\u064f\\u0643\\u060c\\u0652 \\u064f\\u0643\\u0652\\u0645\\u0627 \\u0623\\u064f\\u0634\\u064f\\u0627\\u0631 \\u0645\\u062f\\u064a\\u0652\\u0631 \\u0639\\u064e\\u0627\\u0650\\u0645 \\u064f\\u0628\\u064c\\u0644\\u062f\\u064a\\u064f\\u0629 \\u0631\\u0623\\u0633\\u064d \\u0627\\u0644\\u062e\\u064d\\u064a\\u0645\\u0651\\u0629 \\u0625\\u0644\\u0649\\u064e \\u0631\\u0650\\u063a\\u064c\\u0628\\u064e\\u0629 \\u064e\\u0627\\u064e\\u0644\\u064d\\u0628\\u0644\\u064e\\u062f\\u064f\\u064a\\u0629 \\u064e\\u0641\\u064a \\u064d\\u0627\\u064b\\u0633\\u064c\\u062a\\u062e\\u0650\\u062f\\u0627\\u0645\\u064d \\u0646\\u064b\\u0638\\u0652\\u0627\\u0645\\u064f \\u00ab\\u0651\\u0645\\u0643\\u0650\\u0627\\u0646\\u064a\\u00bb\\u064b \\u0644\\u0644\\u0639\\u0646\\u0650\\u0648\\u0651\\u0646\\u0629 \\u0627\\u064f\\u0644\\u0650\\u062c\\u063a\\u064d\\u0631\\u0627\\u064b\\u0641\\u064d\\u064a\\u064e\\u0629.\\u0650\\u0648\\u064b\\u064a\\u0647\\u062f\\u064e\\u0641 \\u062a\\u0648\\u064f\\u0642\\u064d\\u064a\\u0639 \\u064e\\u0647\\u0652\\u0630\\u0647\\u0650 \\u064c\\u0627\\u0651\\u0644\\u0627\\u062a\\u0641\\u064d\\u0627\\u0642\\u064a\\u0651\\u0629 \\u064f\\u0625\\u0644\\u0652\\u0649\\u0650 \\u064d\\u062a\\u064e\\u062d\\u062f\\u064c\\u064a\\u064b\\u062f \\u064f\\u0646\\u0648\\u0639\\u064d\\u064a\\u0629\\u064b \\u0627\\u0644\\u062e\\u064f\\u062f\\u064d\\u0645\\u064b\\u0627\\u062a\\u0651 \\u0627\\u0644\\u0645\\u062a\\u0639\\u064e\\u0644\\u0651\\u0642\\u064e\\u0629\\u064e \\u064e\\u0628\\u064c\\u0646\\u0638\\u0645 \\u0651\\u0627\\u0644\\u0650\\u0645\\u0639\\u064e\\u0644\\u0648\\u0645\\u064c\\u0627\\u064f\\u062a \\u064b\\u0627\\u0644\\u064f\\u062c\\u0651\\u063a\\u0631\\u064d\\u0627\\u0641\\u064a\\u0650\\u0629\\u064d \\u0651\\u0639\\u064c\\u0646 \\u064b\\u0637\\u0631\\u064f\\u064a\\u0642 \\u0645\\u0646\\u064b\\u062d \\u0628\\u0644\\u062f\\u064e\\u064a\\u064e\\u0629\\u0652 \\u064f\\u062f\\u064b\\u0628\\u064f\\u064a \\u064f\\u0644\\u0628\\u0644\\u064e\\u062f\\u064a\\u064f\\u0629\\u064b \\u0651\\u0631\\u064f\\u0623\\u0633 \\u0651\\u0627\\u064c\\u0644\\u062e\\u064f\\u064a\\u0645\\u0629\\u064f \\u062c\\u064c\\u0645\\u064f\\u064a\\u0639\\u064e \\u0627\\u0644\\u064e\\u0625\\u0645\\u064e\\u0643\\u0652\\u0627\\u0646\\u0627\\u064f\\u062a\\u0650 \\u0652\\u0627\\u064e\\u0644\\u064d\\u0644\\u0627\\u0632\\u0645\\u0629 \\u064c\\u0644\\u062a\\u0637\\u0650\\u0628\\u064a\\u064f\\u0642\\u064f \\u0646\\u0638\\u0627\\u0645\\u064e \\u064f\\u00ab\\u0645\\u0651\\u0643\\u0627\\u0646\\u064a\\u0651\\u00bb\\u064b \\u064c\\u0644\\u0644\\u064c\\u0639\\u0650\\u0646\\u0648\\u0646\\u0629 \\u0627\\u0644\\u0651\\u062c\\u063a\\u064b\\u0631\\u0627\\u0641\\u064a\\u0651\\u0629\\u064c \\u064d\\u0636\\u064c\\u0645\\u0646 \\u0650\\u0627\\u0652\\u0644\\u0627\\u0652\\u062e\\u062a\\u064b\\u0635\\u064e\\u0627\\u064e\\u0635\\u0650 \\u0627\\u0644\\u064b\\u062c\\u064c\\u063a\\u0631\\u0627\\u064f\\u0641\\u064a \\u0644\\u0628\\u064b\\u0644\\u062f\\u064a\\u0629\\u064f \\u0631\\u0650\\u0623\\u0633 \\u0627\\u064d\\u0644\\u062e\\u064a\\u0645\\u0650\\u0629\\u060c\\u0650 \\u0652\\u0643\\u064c\\u0645\\u0627 \\u0633\\u064e\\u062a\\u0642\\u062f\\u0645\\u0650 \\u0628\\u0644\\u0650\\u062f\\u064d\\u064a\\u0651\\u0629\\u0652 \\u0651\\u062f\\u064c\\u0628\\u0652\\u064a\\u064d \\u0650\\u0627\\u064e\\u0644\\u062a\\u062f\\u0652\\u0631\\u064a\\u0628 \\u0627\\u0644\\u0644\\u0627\\u064d\\u0632\\u0645 \\u0648\\u0627\\u064d\\u0644\\u064e\\u0627\\u0650\\u0633\\u062a\\u0634\\u064b\\u0627\\u0650\\u0631\\u0627\\u062a\\u0652 \\u0627\\u0644\\u064c\\u0641\\u0646\\u064a\\u064c\\u0629 \\u064b\\u0627\\u0650\\u0644\\u0645\\u0651\\u062a\\u0639\\u0652\\u0644\\u0642\\u0629\\u064b \\u0628\\u062a\\u064e\\u0637\\u0628\\u064a\\u0642\\u064b \\u064e\\u0646\\u0638\\u064b\\u0627\\u0645 \\u064b\\u00ab\\u064d\\u0645\\u0643\\u064c\\u0627\\u0646\\u064a\\u00bb\\u0650 \\u0644\\u0644\\u0639\\u064e\\u0646\\u0652\\u0648\\u0651\\u0646\\u064b\\u0629 \\u064d\\u0627\\u0644\\u062c\\u063a\\u0631\\u0627\\u064c\\u0641\\u064a\\u0629\\u064c \\u064f\\u0644\\u0652\\u0644\\u0650\\u0645\\u0639\\u064c\\u0646\\u064a\\u0652\\u064a\\u064f\\u0646 \\u0641\\u064a \\u0651\\u0628\\u0644\\u064b\\u062f\\u064f\\u064a\\u0629 \\u0651\\u0631\\u064e\\u0623\\u0633 \\u0627\\u0644\\u0652\\u062e\\u064c\\u064a\\u0645\\u064c\\u0629\\u060c \\u0648\\u0652\\u0633\\u064b\\u062a\\u064e\\u062a\\u0651\\u0648\\u064e\\u0644\\u0649\\u0650 \\u0628\\u064d\\u0644\\u062f\\u064c\\u064a\\u0629 \\u0631\\u064b\\u0623\\u064e\\u0633\\u064c \\u064b\\u0627\\u0650\\u0644\\u064c\\u062e\\u064d\\u064a\\u0650\\u0645\\u064e\\u0629 \\u0645\\u0650\\u0646 \\u0650\\u062c\\u0652\\u0647\\u064f\\u062a\\u0647\\u0627\\u064c \\u064f\\u0645\\u0647\\u064c\\u0645\\u064e\\u0629\\u064d \\u0651\\u062a\\u064d\\u0632\\u0651\\u0648\\u064d\\u064a\\u064c\\u062f\\u0650 \\u0628\\u064e\\u0644\\u062f\\u064a\\u0629\\u064f \\u064d\\u062f\\u0628\\u064a\\u0650 \\u064b\\u0628\\u0652\\u0627\\u0644\\u0628\\u064a\\u064b\\u0627\\u064d\\u0646\\u064d\\u0627\\u0652\\u062a\\u064f \\u064c\\u0627\\u0644\\u0651\\u0645\\u0643\\u0627\\u064e\\u0646\\u064a\\u0629 \\u0627\\u064e\\u0644\\u064f\\u0645\\u064c\\u062d\\u0650\\u062f\\u062b\\u0629\\u064d \\u0644\\u0644\\u064e\\u0645\\u0652\\u0639\\u0627\\u0644\\u0645 \\u0627\\u0644\\u064e\\u062e\\u0650\\u0627\\u0635\\u0629\\u064d \\u0636\\u064b\\u0645\\u064d\\u0646 \\u0627\\u064b\\u0644\\u064b\\u0627\\u064d\\u062e\\u062a\\u0635\\u0627\\u0635 \\u064d\\u0627\\u0644\\u062c\\u0651\\u063a\\u0631\\u0627\\u0641\\u064a\\u0650 \\u0652\\u0644\\u0651\\u0628\\u064b\\u0644\\u062f\\u064d\\u064a\\u0629 \\u0650\\u0631\\u064e\\u0623\\u0633 \\u0627\\u064d\\u0644\\u062e\\u064d\\u064a\\u064c\\u0645\\u0629\\u0652\\u060c \\u064e\\u0644\\u064a\\u062a\\u064e\\u0645 \\u0627\\u0633\\u064b\\u062a\\u062e\\u064d\\u062f\\u0627\\u0645\\u0652\\u0647\\u0652\\u0627 \\u0636\\u0645\\u064f\\u0646\\u064d \\u0650\\u062a\\u0637\\u0651\\u0628\\u064a\\u0642\\u064d \\u0646\\u0638\\u0627\\u0651\\u0645\\u064b \\u00ab\\u0650\\u0645\\u0643\\u0627\\u0646\\u064a\\u00bb \\u064b\\u0644\\u0650\\u0644\\u0639\\u0646\\u064c\\u0648\\u0646\\u064e\\u0629\\u064d \\u0627\\u0650\\u0644\\u062c\\u0652\\u063a\\u0651\\u0631\\u064c\\u0627\\u064d\\u0641\\u064a\\u0629.\\u064d\"\n        ],\n        \"semantic_type\": \"\",\n        \"description\": \"\"\n      }\n    },\n    {\n      \"column\": \"label\",\n      \"properties\": {\n        \"dtype\": \"category\",\n        \"num_unique_values\": 1,\n        \"samples\": [\n          \"Tech\"\n        ],\n        \"semantic_type\": \"\",\n        \"description\": \"\"\n      }\n    }\n  ]\n}"
            }
          },
          "metadata": {},
          "execution_count": 36
        }
      ]
    },
    {
      "cell_type": "code",
      "source": [
        "df.info()"
      ],
      "metadata": {
        "colab": {
          "base_uri": "https://localhost:8080/"
        },
        "id": "yYbBJSAOGD6v",
        "outputId": "80b80d90-ce2a-4b44-9dfa-b6ce8b63a559"
      },
      "execution_count": 37,
      "outputs": [
        {
          "output_type": "stream",
          "name": "stdout",
          "text": [
            "<class 'pandas.core.frame.DataFrame'>\n",
            "RangeIndex: 39885 entries, 0 to 39884\n",
            "Data columns (total 2 columns):\n",
            " #   Column  Non-Null Count  Dtype \n",
            "---  ------  --------------  ----- \n",
            " 0   text    39885 non-null  object\n",
            " 1   label   39885 non-null  object\n",
            "dtypes: object(2)\n",
            "memory usage: 623.3+ KB\n"
          ]
        }
      ]
    },
    {
      "cell_type": "code",
      "source": [
        "df.describe()"
      ],
      "metadata": {
        "colab": {
          "base_uri": "https://localhost:8080/",
          "height": 175
        },
        "id": "0iVuwSJFGF5U",
        "outputId": "a0f9454f-49f3-4348-b81b-c777398325d2"
      },
      "execution_count": 38,
      "outputs": [
        {
          "output_type": "execute_result",
          "data": {
            "text/plain": [
              "                                                     text     label\n",
              "count                                               39885     39885\n",
              "unique                                              39885         7\n",
              "top     https://example.com/resource/الشاٌرقة -ْ محمِد...  Politics\n",
              "freq                                                    1      6334"
            ],
            "text/html": [
              "\n",
              "  <div id=\"df-d830fa48-f8f2-42e2-a36f-b9b884d104e8\" class=\"colab-df-container\">\n",
              "    <div>\n",
              "<style scoped>\n",
              "    .dataframe tbody tr th:only-of-type {\n",
              "        vertical-align: middle;\n",
              "    }\n",
              "\n",
              "    .dataframe tbody tr th {\n",
              "        vertical-align: top;\n",
              "    }\n",
              "\n",
              "    .dataframe thead th {\n",
              "        text-align: right;\n",
              "    }\n",
              "</style>\n",
              "<table border=\"1\" class=\"dataframe\">\n",
              "  <thead>\n",
              "    <tr style=\"text-align: right;\">\n",
              "      <th></th>\n",
              "      <th>text</th>\n",
              "      <th>label</th>\n",
              "    </tr>\n",
              "  </thead>\n",
              "  <tbody>\n",
              "    <tr>\n",
              "      <th>count</th>\n",
              "      <td>39885</td>\n",
              "      <td>39885</td>\n",
              "    </tr>\n",
              "    <tr>\n",
              "      <th>unique</th>\n",
              "      <td>39885</td>\n",
              "      <td>7</td>\n",
              "    </tr>\n",
              "    <tr>\n",
              "      <th>top</th>\n",
              "      <td>https://example.com/resource/الشاٌرقة -ْ محمِد...</td>\n",
              "      <td>Politics</td>\n",
              "    </tr>\n",
              "    <tr>\n",
              "      <th>freq</th>\n",
              "      <td>1</td>\n",
              "      <td>6334</td>\n",
              "    </tr>\n",
              "  </tbody>\n",
              "</table>\n",
              "</div>\n",
              "    <div class=\"colab-df-buttons\">\n",
              "\n",
              "  <div class=\"colab-df-container\">\n",
              "    <button class=\"colab-df-convert\" onclick=\"convertToInteractive('df-d830fa48-f8f2-42e2-a36f-b9b884d104e8')\"\n",
              "            title=\"Convert this dataframe to an interactive table.\"\n",
              "            style=\"display:none;\">\n",
              "\n",
              "  <svg xmlns=\"http://www.w3.org/2000/svg\" height=\"24px\" viewBox=\"0 -960 960 960\">\n",
              "    <path d=\"M120-120v-720h720v720H120Zm60-500h600v-160H180v160Zm220 220h160v-160H400v160Zm0 220h160v-160H400v160ZM180-400h160v-160H180v160Zm440 0h160v-160H620v160ZM180-180h160v-160H180v160Zm440 0h160v-160H620v160Z\"/>\n",
              "  </svg>\n",
              "    </button>\n",
              "\n",
              "  <style>\n",
              "    .colab-df-container {\n",
              "      display:flex;\n",
              "      gap: 12px;\n",
              "    }\n",
              "\n",
              "    .colab-df-convert {\n",
              "      background-color: #E8F0FE;\n",
              "      border: none;\n",
              "      border-radius: 50%;\n",
              "      cursor: pointer;\n",
              "      display: none;\n",
              "      fill: #1967D2;\n",
              "      height: 32px;\n",
              "      padding: 0 0 0 0;\n",
              "      width: 32px;\n",
              "    }\n",
              "\n",
              "    .colab-df-convert:hover {\n",
              "      background-color: #E2EBFA;\n",
              "      box-shadow: 0px 1px 2px rgba(60, 64, 67, 0.3), 0px 1px 3px 1px rgba(60, 64, 67, 0.15);\n",
              "      fill: #174EA6;\n",
              "    }\n",
              "\n",
              "    .colab-df-buttons div {\n",
              "      margin-bottom: 4px;\n",
              "    }\n",
              "\n",
              "    [theme=dark] .colab-df-convert {\n",
              "      background-color: #3B4455;\n",
              "      fill: #D2E3FC;\n",
              "    }\n",
              "\n",
              "    [theme=dark] .colab-df-convert:hover {\n",
              "      background-color: #434B5C;\n",
              "      box-shadow: 0px 1px 3px 1px rgba(0, 0, 0, 0.15);\n",
              "      filter: drop-shadow(0px 1px 2px rgba(0, 0, 0, 0.3));\n",
              "      fill: #FFFFFF;\n",
              "    }\n",
              "  </style>\n",
              "\n",
              "    <script>\n",
              "      const buttonEl =\n",
              "        document.querySelector('#df-d830fa48-f8f2-42e2-a36f-b9b884d104e8 button.colab-df-convert');\n",
              "      buttonEl.style.display =\n",
              "        google.colab.kernel.accessAllowed ? 'block' : 'none';\n",
              "\n",
              "      async function convertToInteractive(key) {\n",
              "        const element = document.querySelector('#df-d830fa48-f8f2-42e2-a36f-b9b884d104e8');\n",
              "        const dataTable =\n",
              "          await google.colab.kernel.invokeFunction('convertToInteractive',\n",
              "                                                    [key], {});\n",
              "        if (!dataTable) return;\n",
              "\n",
              "        const docLinkHtml = 'Like what you see? Visit the ' +\n",
              "          '<a target=\"_blank\" href=https://colab.research.google.com/notebooks/data_table.ipynb>data table notebook</a>'\n",
              "          + ' to learn more about interactive tables.';\n",
              "        element.innerHTML = '';\n",
              "        dataTable['output_type'] = 'display_data';\n",
              "        await google.colab.output.renderOutput(dataTable, element);\n",
              "        const docLink = document.createElement('div');\n",
              "        docLink.innerHTML = docLinkHtml;\n",
              "        element.appendChild(docLink);\n",
              "      }\n",
              "    </script>\n",
              "  </div>\n",
              "\n",
              "\n",
              "<div id=\"df-57e8a7f8-e541-431e-b15a-2e670640da5b\">\n",
              "  <button class=\"colab-df-quickchart\" onclick=\"quickchart('df-57e8a7f8-e541-431e-b15a-2e670640da5b')\"\n",
              "            title=\"Suggest charts\"\n",
              "            style=\"display:none;\">\n",
              "\n",
              "<svg xmlns=\"http://www.w3.org/2000/svg\" height=\"24px\"viewBox=\"0 0 24 24\"\n",
              "     width=\"24px\">\n",
              "    <g>\n",
              "        <path d=\"M19 3H5c-1.1 0-2 .9-2 2v14c0 1.1.9 2 2 2h14c1.1 0 2-.9 2-2V5c0-1.1-.9-2-2-2zM9 17H7v-7h2v7zm4 0h-2V7h2v10zm4 0h-2v-4h2v4z\"/>\n",
              "    </g>\n",
              "</svg>\n",
              "  </button>\n",
              "\n",
              "<style>\n",
              "  .colab-df-quickchart {\n",
              "      --bg-color: #E8F0FE;\n",
              "      --fill-color: #1967D2;\n",
              "      --hover-bg-color: #E2EBFA;\n",
              "      --hover-fill-color: #174EA6;\n",
              "      --disabled-fill-color: #AAA;\n",
              "      --disabled-bg-color: #DDD;\n",
              "  }\n",
              "\n",
              "  [theme=dark] .colab-df-quickchart {\n",
              "      --bg-color: #3B4455;\n",
              "      --fill-color: #D2E3FC;\n",
              "      --hover-bg-color: #434B5C;\n",
              "      --hover-fill-color: #FFFFFF;\n",
              "      --disabled-bg-color: #3B4455;\n",
              "      --disabled-fill-color: #666;\n",
              "  }\n",
              "\n",
              "  .colab-df-quickchart {\n",
              "    background-color: var(--bg-color);\n",
              "    border: none;\n",
              "    border-radius: 50%;\n",
              "    cursor: pointer;\n",
              "    display: none;\n",
              "    fill: var(--fill-color);\n",
              "    height: 32px;\n",
              "    padding: 0;\n",
              "    width: 32px;\n",
              "  }\n",
              "\n",
              "  .colab-df-quickchart:hover {\n",
              "    background-color: var(--hover-bg-color);\n",
              "    box-shadow: 0 1px 2px rgba(60, 64, 67, 0.3), 0 1px 3px 1px rgba(60, 64, 67, 0.15);\n",
              "    fill: var(--button-hover-fill-color);\n",
              "  }\n",
              "\n",
              "  .colab-df-quickchart-complete:disabled,\n",
              "  .colab-df-quickchart-complete:disabled:hover {\n",
              "    background-color: var(--disabled-bg-color);\n",
              "    fill: var(--disabled-fill-color);\n",
              "    box-shadow: none;\n",
              "  }\n",
              "\n",
              "  .colab-df-spinner {\n",
              "    border: 2px solid var(--fill-color);\n",
              "    border-color: transparent;\n",
              "    border-bottom-color: var(--fill-color);\n",
              "    animation:\n",
              "      spin 1s steps(1) infinite;\n",
              "  }\n",
              "\n",
              "  @keyframes spin {\n",
              "    0% {\n",
              "      border-color: transparent;\n",
              "      border-bottom-color: var(--fill-color);\n",
              "      border-left-color: var(--fill-color);\n",
              "    }\n",
              "    20% {\n",
              "      border-color: transparent;\n",
              "      border-left-color: var(--fill-color);\n",
              "      border-top-color: var(--fill-color);\n",
              "    }\n",
              "    30% {\n",
              "      border-color: transparent;\n",
              "      border-left-color: var(--fill-color);\n",
              "      border-top-color: var(--fill-color);\n",
              "      border-right-color: var(--fill-color);\n",
              "    }\n",
              "    40% {\n",
              "      border-color: transparent;\n",
              "      border-right-color: var(--fill-color);\n",
              "      border-top-color: var(--fill-color);\n",
              "    }\n",
              "    60% {\n",
              "      border-color: transparent;\n",
              "      border-right-color: var(--fill-color);\n",
              "    }\n",
              "    80% {\n",
              "      border-color: transparent;\n",
              "      border-right-color: var(--fill-color);\n",
              "      border-bottom-color: var(--fill-color);\n",
              "    }\n",
              "    90% {\n",
              "      border-color: transparent;\n",
              "      border-bottom-color: var(--fill-color);\n",
              "    }\n",
              "  }\n",
              "</style>\n",
              "\n",
              "  <script>\n",
              "    async function quickchart(key) {\n",
              "      const quickchartButtonEl =\n",
              "        document.querySelector('#' + key + ' button');\n",
              "      quickchartButtonEl.disabled = true;  // To prevent multiple clicks.\n",
              "      quickchartButtonEl.classList.add('colab-df-spinner');\n",
              "      try {\n",
              "        const charts = await google.colab.kernel.invokeFunction(\n",
              "            'suggestCharts', [key], {});\n",
              "      } catch (error) {\n",
              "        console.error('Error during call to suggestCharts:', error);\n",
              "      }\n",
              "      quickchartButtonEl.classList.remove('colab-df-spinner');\n",
              "      quickchartButtonEl.classList.add('colab-df-quickchart-complete');\n",
              "    }\n",
              "    (() => {\n",
              "      let quickchartButtonEl =\n",
              "        document.querySelector('#df-57e8a7f8-e541-431e-b15a-2e670640da5b button');\n",
              "      quickchartButtonEl.style.display =\n",
              "        google.colab.kernel.accessAllowed ? 'block' : 'none';\n",
              "    })();\n",
              "  </script>\n",
              "</div>\n",
              "\n",
              "    </div>\n",
              "  </div>\n"
            ],
            "application/vnd.google.colaboratory.intrinsic+json": {
              "type": "dataframe",
              "summary": "{\n  \"name\": \"df\",\n  \"rows\": 4,\n  \"fields\": [\n    {\n      \"column\": \"text\",\n      \"properties\": {\n        \"dtype\": \"string\",\n        \"num_unique_values\": 3,\n        \"samples\": [\n          \"39885\",\n          \"https://example.com/resource/\\u0627\\u0644\\u0634\\u0627\\u064c\\u0631\\u0642\\u0629 -\\u0652 \\u0645\\u062d\\u0645\\u0650\\u062f \\u0648\\u0650\\u0644\\u062f\\u064c \\u064e\\u0645\\u062d\\u0645\\u0652\\u062f\\u064f \\u064c\\u0633\\u0651\\u0627\\u064d\\u0644\\u0645\\u064e\\u0639\\u0631\\u064d\\u0636\\u062a \\u0645\\u064b\\u0633\\u064f\\u0627\\u0621\\u064d \\u0623\\u064b\\u0645\\u0633\\u064e \\u0627\\u064e\\u0644\\u0623\\u064e\\u0648\\u0644 \\u0639\\u0644\\u064e\\u0649\\u0650 \\u064d\\u062e\\u0652\\u0634\\u0628\\u064c\\u0629\\u0651 \\u0645\\u0633\\u0631\\u062d \\u0642\\u0635\\u064e\\u0631 \\u0651\\u0627\\u0644\\u062b\\u0652\\u0642\\u064b\\u0627\\u0641\\u0629\\u064b \\u064c\\u0641\\u064a \\u0627\\u0650\\u0644\\u0634\\u0627\\u0652\\u0631\\u0642\\u064f\\u0629 \\u064d\\u0627\\u064b\\u0644\\u0645\\u0633\\u0631\\u0650\\u062d\\u064a\\u0629 \\u064d\\u0627\\u064d\\u0644\\u0633\\u0652\\u0639\\u064d\\u0648\\u062f\\u0652\\u064a\\u064e\\u0629 \\u064b\\\"\\u0652\\u0628\\u064e\\u0639\\u064a\\u064f\\u062f\\u0652\\u0627\\u0651\\u064b \\u0639\\u0646 \\u0627\\u064c\\u0644\\u0633\\u064a\\u0637\\u0631\\u0629\\\"\\u0651 \\u064b\\u0644\\u0650\\u0641\\u0631\\u0642\\u0629\\u064e \\u0645\\u064e\\u0633\\u0651\\u0631\\u064f\\u062d\\u064e \\u064b\\u0627\\u0650\\u0644\\u0637\\u0650\\u0627\\u064c\\u0626\\u0641\\u060c\\u0651 \\u0652\\u0645\\u0646 \\u0651\\u062a\\u064c\\u0623\\u064c\\u0644\\u064a\\u064f\\u0641 \\u0641\\u064f\\u0647\\u064b\\u062f\\u0650 \\u0651\\u0631\\u0651\\u062f\\u0650\\u0629\\u064e \\u0627\\u0644\\u062d\\u0627\\u0651\\u0631\\u062b\\u064a\\u060c \\u0651\\u0648\\u064c\\u0625\\u064f\\u062e\\u0631\\u0627\\u064b\\u062c \\u064e\\u0633\\u064d\\u0627\\u064c\\u0645\\u064e\\u064a \\u064b\\u0635\\u0651\\u0627\\u064e\\u0644\\u064d\\u062d\\u064d \\u0627\\u0644\\u0632\\u064e\\u0647\\u0631\\u0627\\u0646\\u064a\\u0651\\u060c\\u0652 \\u064c\\u0648\\u064f\\u0630\\u0651\\u0644\\u0643\\u0651 \\u0641\\u064c\\u064a\\u064b \\u064e\\u0631\\u064c\\u0627\\u0628\\u0639\\u064d\\u0629\\u064c \\u064c\\u0644\\u064a\\u0627\\u0644\\u064a \\u0650\\u0627\\u0644\\u062f\\u0648\\u0631\\u0652\\u0629\\u064e \\u0627\\u064e\\u0644\\u0623\\u0648\\u064c\\u0644\\u0649 \\u064c\\u0645\\u0646 \\u0645\\u064b\\u0647\\u0631\\u064b\\u062c\\u0650\\u0627\\u0646\\u064c \\u0627\\u0652\\u0644\\u0634\\u0652\\u0627\\u0631\\u0650\\u0642\\u064f\\u0629 \\u0644\\u0651\\u0644\\u0651\\u0645\\u064e\\u0633\\u064f\\u0631\\u064c\\u062d\\u0652 \\u0627\\u0644\\u062e\\u0644\\u064a\\u062c\\u064a \\u064c.\\u062a\\u064b\\u0628\\u064b\\u062f\\u064e\\u0623\\u0652 \\u0627\\u0652\\u0644\\u0652\\u0645\\u0633\\u0631\\u064d\\u062d\\u064a\\u064d\\u0629 \\u0628\\u062b\\u064b\\u0644\\u0627\\u064d\\u062b\\u0651\\u0629 \\u064e\\u0623\\u0634\\u062e\\u0627\\u064d\\u0635\\u064d \\u064d\\u064a\\u062c\\u064d\\u0644\\u0652\\u0633\\u0650\\u0648\\u0646\\u064e \\u064f\\u0641\\u064a \\u0642\\u0627\\u0639\\u0629\\u0650 \\u0645\\u0651\\u0643\\u062a\\u0628\\u0629\\u0650\\u060c\\u064c \\u064b\\u064a\\u0650\\u0646\\u0647\\u0645\\u064f\\u0643 \\u0643\\u064c\\u0644 \\u064e\\u0645\\u0652\\u0646\\u0647\\u064c\\u0645\\u064c \\u0651\\u0641\\u064a \\u064f\\u0627\\u0644\\u0642\\u0631\\u0650\\u0627\\u0621\\u0629 \\u0628\\u0652\\u0634\\u063a\\u064e\\u0641\\u060c\\u0650 \\u064f\\u062b\\u064f\\u0645 \\u064a\\u0628\\u0650\\u062f\\u0623\\u0650\\u0648\\u0652\\u0646 \\u064b\\u0641\\u064a\\u064e \\u0627\\u0644\\u064d\\u062d\\u0648\\u064c\\u0627\\u064f\\u0631 \\u0644\\u0646\\u064d\\u0643\\u064f\\u062a\\u0634\\u064f\\u0641\\u064f \\u064f\\u0623\\u0650\\u0646\\u0647\\u0645\\u0651 \\u0643\\u0627\\u0652\\u0646\\u0648\\u0651\\u0627\\u064c \\u0652\\u064a\\u0650\\u0642\\u064f\\u0631\\u064e\\u0623\\u0651\\u0648\\u0646\\u0652 \\u0650\\u0631\\u0648\\u064d\\u0627\\u064a\\u0627\\u0651\\u062a \\u0644\\u064f\\u0623\\u0633\\u062a\\u064f\\u0627\\u0651\\u0630\\u0647\\u0645 \\u064b\\u0627\\u0644\\u0643\\u0650\\u0627\\u062a\\u0650\\u0628 \\u0627\\u0651\\u0644\\u0645\\u064c\\u0628\\u062f\\u064e\\u0639\\u064e \\u064f\\u0627\\u0644\\u064d\\u0630\\u064a\\u064d \\u0645\\u0650\\u0627\\u0652\\u062a \\u064f\\u0648\\u0652\\u062a\\u0650\\u0631\\u0652\\u0643 \\u064f\\u0631\\u0650\\u0648\\u0627\\u064a\\u064c\\u0627\\u062a\\u064e \\u0641\\u0631\\u064a\\u064e\\u062f\\u064e\\u0629\\u064b\\u060c\\u064d \\u064f\\u0631\\u064c\\u0633\\u0645 \\u0641\\u0652\\u064a\\u0647\\u064b\\u0627 \\u0650\\u0634\\u0652\\u062e\\u064f\\u0635\\u064b\\u064a\\u0627\\u064f\\u062a \\u064d\\u063a\\u0627\\u064a\\u0629 \\u0641\\u064f\\u064a \\u0627\\u0644\\u064f\\u062f\\u064f\\u0642\\u064c\\u0629\\u060c \\u064c\\u0648\\u064a\\u062a\\u062d\\u062f\\u064c\\u062b\\u0648\\u0646\\u0651 \\u0652\\u0639\\u0646\\u064f \\u0636\\u0631\\u0648\\u0631\\u0629 \\u062a\\u0643\\u0650\\u0631\\u064d\\u064a\\u0645\\u064e \\u0650\\u0623\\u0633\\u062a\\u0652\\u0627\\u0651\\u0630\\u064f\\u0647\\u064b\\u0645\\u060c\\u064c \\u0648\\u064a\\u064d\\u062a\\u0650\\u0641\\u0650\\u0642\\u0648\\u0646 \\u064f\\u0639\\u064f\\u0644\\u0652\\u0649\\u0651 \\u0637\\u0631\\u064d\\u064a\\u0642\\u0651\\u0629 \\u064b\\u062e\\u0627\\u0635\\u0629\\u0651 \\u064e\\u0644\\u064b\\u0644\\u062a\\u0643\\u0631\\u0651\\u064a\\u0645 \\u0648\\u064f\\u0647\\u064a\\u064c \\u0650\\u0625\\u064f\\u062e\\u0631\\u064d\\u0627\\u0651\\u062c \\u064f\\u0634\\u0650\\u062e\\u0635\\u0650\\u064a\\u064c\\u0627\\u062a\\u064e\\u0647 \\u064b\\u0645\\u0646\\u064f \\u0652\\u0631\\u0650\\u0648\\u0627\\u064a\\u0627\\u064d\\u062a\\u0647\\u0627 \\u064d\\u0644\\u064d\\u062a\\u064e\\u0639\\u064d\\u064a\\u064d\\u0634 \\u0641\\u064a \\u0651\\u0627\\u064d\\u0644\\u0648\\u0652\\u0627\\u0642\\u064b\\u0639\\u060c \\u0648\\u0650\\u064a\\u064b\\u0646\\u062a\\u0650\\u0642\\u0651\\u0648\\u0646\\u064b \\u0634\\u0650\\u062e\\u064f\\u0635\\u064a\\u064b\\u0627\\u062a\\u064c \\u0645\\u0631\\u0643\\u0632\\u064a\\u064f\\u0629\\u060c \\u064d\\u0623\\u0652\\u0648\\u0644\\u0647\\u0627 \\u0652\\u0627\\u064f\\u0644\\u062d\\u0650\\u0644\\u0627\\u0642 \\u064d\\u0627\\u064d\\u0644\\u0630\\u064a \\u064d\\u0643\\u064d\\u0627\\u0646 \\u064b\\u0637\\u064e\\u064a\\u064b\\u0628\\u064b\\u0627\\u064b\\u064f\\u060c\\u064c \\u062d\\u0652\\u0627\\u0641\\u064d\\u0638\\u0627\\u064b \\u0644\\u0623\\u064f\\u0633\\u0631\\u0651\\u0627\\u064c\\u0631 \\u0623\\u0647\\u0644 \\u0627\\u0644\\u0651\\u062d\\u064d\\u064a\\u064f\\u060c \\u0648\\u0643\\u0652\\u0627\\u064d\\u0646\\u064b \\u0627\\u0644\\u064d\\u062c\\u0650\\u0645\\u064a\\u0650\\u0639\\u064f \\u064a\\u064b\\u062d\\u0628\\u0651\\u0647\\u060c \\u0648\\u0652\\u062d\\u064a\\u0646 \\u0644\\u0627\\u064c \\u064d\\u064a\\u0643\\u0652\\u0648\\u064b\\u0646 \\u0627\\u0644\\u0634\\u062e\\u064d\\u0635 \\u0644\\u062f\\u0652\\u064a\\u0647 \\u0650\\u0645\\u0651\\u0627\\u0652 \\u064f\\u064a\\u064b\\u062f\\u064e\\u0641\\u0651\\u0639\\u0647 \\u0645\\u0642\\u0627\\u0628\\u064e\\u0644\\u0650 \\u0627\\u0644\\u062d\\u0644\\u0627\\u0642\\u064f\\u0629 \\u0641\\u0625\\u0650\\u0646\\u064f\\u0647\\u0651 \\u0644\\u0627 \\u064a\\u0650\\u0637\\u064f\\u0627\\u0644\\u064f\\u0628\\u0652\\u0647 \\u064d\\u0628\\u0634\\u064f\\u064a\\u0652\\u0621\\u064d\\u060c \\u062b\\u0651\\u0645\\u064c \\u064d\\u064a\\u064c\\u0633\\u062a\\u062e\\u0631\\u064f\\u062c\\u0651\\u0648\\u064b\\u0646\\u064d \\u064c\\u062d\\u0641\\u064d\\u0627\\u0631\\u0650 \\u064d\\u0627\\u064c\\u0644\\u0651\\u0642\\u0628\\u0651\\u0648\\u064b\\u0631 \\u0627\\u0644\\u064c\\u0630\\u064a \\u0650\\u0643\\u064d\\u0627\\u0646\\u064b \\u064a\\u0642\\u0628\\u0631 \\u0650\\u0627\\u0644\\u064d\\u062c\\u0652\\u0645\\u0650\\u064a\\u0639\\u0652\\u060c \\u0652\\u0648\\u064a\\u0631\\u062f\\u064f\\u062f\\u0651 \\u062f\\u064f\\u0627\\u0626\\u0645\\u064d\\u0627\\u064b\\u064f \\u064b\\u0623\\u064e\\u0646\\u0651 \\u0652\\u0627\\u0652\\u0644\\u062f\\u064e\\u0646\\u0650\\u064a\\u064f\\u0627 \\u0641\\u0627\\u0650\\u0646\\u0652\\u064a\\u0629\\u064f\\u060c\\u064b \\u0648\\u0623\\u0650\\u0646 \\u0627\\u064b\\u0644\\u064b\\u0628\\u064d\\u0642\\u0627\\u0621 \\u0652\\u0644\\u0644\\u064d\\u0647\\u0652 \\u0648\\u0650\\u062d\\u064d\\u062f\\u064c\\u0647\\u0650\\u060c\\u064b \\u062b\\u0650\\u0645 \\u064e\\u064a\\u0633\\u062a\\u0651\\u062e\\u0631\\u062c\\u0650\\u0648\\u064f\\u0646\\u064f \\u064e\\u0627\\u0644\\u064f\\u0634\\u0627\\u0628 \\u0627\\u0651\\u0644\\u0645\\u064f\\u062d\\u064d\\u0628 \\u0650\\u0627\\u0644\\u0630\\u064d\\u064a \\u0652\\u0638\\u0644\\u064b \\u064d\\u0633\\u0646\\u0648\\u0627\\u064e\\u062a \\u0637\\u064b\\u0648\\u064d\\u064a\\u0644\\u0650\\u0629 \\u064a\\u0650\\u062d\\u0645\\u0644\\u064b \\u0648\\u0631\\u064f\\u062f\\u0629 \\u0652\\u0648\\u064a\\u064e\\u0646\\u0652\\u062a\\u064c\\u0638\\u0631 \\u062d\\u064b\\u0628\\u0651\\u064a\\u0652\\u0628\\u064f\\u062a\\u064e\\u0647 \\u064d\\u0627\\u0644\\u062a\\u064a\\u0650 \\u064b\\u0631\\u062d\\u064f\\u0644\\u064d\\u062a\\u0651 \\u0639\\u0646\\u0651\\u0647\\u064b \\u0648\\u0651\\u0644\\u0645\\u0650 \\u064e\\u062a\\u0651\\u0639\\u062f \\u064e\\u0625\\u0644\\u064b\\u064a\\u0647 \\u062d\\u0650\\u062a\\u0652\\u0649\\u0651 \\u064f\\u0645\\u064e\\u0627\\u062a .\\u064d\\u064a\\u064b\\u0623\\u062e\\u0630\\u064f \\u0637\\u0644\\u0627\\u0628 \\u0627\\u0644\\u0623\\u0633\\u062a\\u0627\\u0630\\u064d \\u064b\\u062a\\u0651\\u0644\\u0643\\u0650 \\u0627\\u0644\\u064d\\u0634\\u064c\\u062e\\u0635\\u064a\\u0627\\u062a \\u0651\\u0625\\u0644\\u064d\\u0649\\u064f \\u0639\\u0627\\u064b\\u0644\\u064d\\u0645\\u0650 \\u062c\\u062f\\u064a\\u062f \\u064e\\u0644\\u062a\\u064e\\u0639\\u064a\\u0651\\u0634 \\u0650\\u0641\\u064a\\u064e\\u0647\\u064d\\u060c \\u0652\\u0648\\u064b\\u0646\\u064f\\u0643\\u064e\\u062a\\u0650\\u0634\\u0641 \\u064c\\u0645\\u064d\\u0646\\u0651 \\u0627\\u0644\\u064b\\u062d\\u064c\\u0648\\u064c\\u0627\\u0631\\u064e\\u0627\\u062a \\u0623\\u0646\\u0651 \\u0652\\u062a\\u064b\\u0644\\u0643\\u0650 \\u0627\\u064b\\u0644\\u0634\\u0652\\u062e\\u0635\\u064a\\u0627\\u0650\\u062a \\u0641\\u064e\\u064a\\u064c \\u064e\\u0639\\u0652\\u0627\\u0644\\u0652\\u0645\\u0647\\u064d\\u0627\\u064e \\u0627\\u0644\\u062c\\u064b\\u062f\\u064a\\u062f\\u064f \\u062a\\u0652\\u063a\\u064e\\u064a\\u0631\\u062a\\u0650\\u060c \\u0650\\u0648\\u0623\\u0635\\u064b\\u0628\\u064c\\u062d\\u064e\\u062a\\u064f \\u0634\\u062e\\u0652\\u0635\\u0652\\u064a\\u0627\\u064f\\u062a \\u0623\\u062e\\u064c\\u0631\\u064f\\u0649 \\u0650\\u0634\\u0650\\u0631\\u064f\\u0651\\u064a\\u064d\\u0631\\u064e\\u0629\\u060c \\u0648\\u062a\\u0645\\u0631\\u062f\\u064d\\u062a\\u064f \\u0648\\u0650\\u0631\\u064c\\u0641\\u0652\\u0636\\u0651\\u062a\\u064c \\u0651\\u0627\\u0644\\u0639\\u0648\\u064d\\u062f\\u064d\\u0629\\u0652 \\u0625\\u064e\\u0644\\u0650\\u0649 \\u0627\\u064c\\u0644\\u0652\\u0631\\u0648\\u0627\\u064b\\u064a\\u064c\\u0627\\u062a \\u0627\\u064d\\u0644\\u062a\\u064a\\u064e \\u0652\\u062e\\u064c\\u0631\\u062c\\u064c\\u062a \\u0651\\u0645\\u0646\\u064d\\u0647\\u0627\\u0651\\u060c \\u064c\\u0648\\u064e\\u0623\\u064b\\u0635\\u0628\\u062d\\u064b \\u0645\\u064f\\u0643\\u0627\\u064b\\u0646\\u064c\\u0647\\u0650\\u0627\\u064f \\u0641\\u064a\\u064e \\u0627\\u064f\\u0644\\u0631\\u0652\\u0648\\u0627\\u0652\\u064a\\u0627\\u062a \\u062b\\u0650\\u063a\\u0651\\u0631\\u0651\\u0627\\u0652\\u062a\\u064e \\u0650\\u062a\\u064e\\u062e\\u0644 \\u064e\\u0628\\u064b\\u0631\\u0648\\u0627\\u064e\\u064a\\u0650\\u0627\\u0650\\u062a\\u064d \\u0627\\u0644\\u064d\\u0623\\u0652\\u0633\\u064e\\u062a\\u0627\\u0630\\u064d\\u060c\\u0652 \\u0641\\u0652\\u064a\\u0650\\u064e\\u062d\\u064e\\u0627\\u0631 \\u0651\\u0627\\u064c\\u0644\\u0637\\u0644\\u0627\\u0628 \\u0641\\u064f\\u064a \\u0627\\u0652\\u0644\\u0637\\u0631\\u064b\\u064a\\u0642\\u0629\\u064b \\u0627\\u0644\\u062a\\u0650\\u064a\\u0652 \\u0650\\u064a\\u0650\\u0639\\u064a\\u062f\\u0648\\u0646\\u064b \\u0628\\u0650\\u0647\\u0627\\u0651 \\u062a\\u0650\\u0644\\u0643 \\u064e\\u0627\\u0644\\u0651\\u0634\\u062e\\u0650\\u0635\\u064f\\u064a\\u0627\\u064c\\u062a \\u0651\\u0625\\u064b\\u0644\\u064e\\u0649 \\u0650\\u0623\\u0650\\u0645\\u0627\\u064d\\u0643\\u0652\\u0646\\u064d\\u0647\\u064f\\u0627\\u060c \\u0648\\u064f\\u064a\\u0642\\u062a\\u064b\\u0631\\u064d\\u062d \\u064f\\u0623\\u064e\\u062d\\u064f\\u062f\\u0647\\u0651\\u0645 \\u064f\\u0625\\u0639\\u0627\\u062f\\u064b\\u062a\\u0647\\u064b\\u0627\\u0652 \\u0650\\u0628\\u0651\\u0627\\u0651\\u0644\\u064d\\u0639\\u0646\\u0652\\u0641\\u060c\\u0650 \\u0651\\u0644\\u0651\\u0643\\u0652\\u0646\\u0651\\u064e \\u0651\\u0622\\u064d\\u062e\\u0631\\u064b \\u064a\\u0631\\u062f \\u0639\\u0644\\u064a\\u064c\\u0647\\u060c\\u0652 \\u0650\\u0623\\u0646\\u064d \\u062a\\u0644\\u064c\\u0643 \\u064d\\u0627\\u064f\\u0644\\u064d\\u0634\\u062e\\u0652\\u0635\\u064a\\u0652\\u0627\\u062a\\u0650 \\u0630\\u0627\\u0650\\u0642\\u062a \\u064b\\u0637\\u0652\\u0639\\u0645\\u064d \\u0651\\u0627\\u0644\\u062d\\u0631\\u064a\\u064b\\u0629\\u0652 \\u0648\\u0644\\u0651\\u0646 \\u062a\\u064c\\u0633\\u062a\\u064e\\u0637\\u064a\\u0639 \\u0623\\u064a\\u064c\\u0629\\u0650 \\u0642\\u064b\\u0648\\u064f\\u0629 \\u064c\\u0625\\u064d\\u0639\\u0651\\u0627\\u064d\\u062f\\u064e\\u062a\\u0647\\u0627 \\u0625\\u064d\\u0644\\u0649 \\u0633\\u064e\\u062c\\u0652\\u0646 \\u0651\\u0627\\u064e\\u0644\\u0631\\u064b\\u0648\\u0652\\u0627\\u064a\\u0627\\u064c\\u062a\\u060c \\u064f\\u0648\\u0647\\u0652\\u0646\\u0650\\u0627\\u064f \\u064b\\u0642\\u0631\\u064e\\u0631\\u0651 \\u0627\\u0651\\u0644\\u064e\\u0637\\u0650\\u0644\\u0627\\u0628\\u064c \\u064e\\u0623\\u0646\\u0651 \\u0652\\u064a\\u0652\\u062f\\u0651\\u062e\\u0652\\u0644\\u0648\\u0627\\u0651 \\u0650\\u0647\\u0652\\u0645 \\u064f\\u062b\\u064d\\u0644\\u064b\\u0627\\u062b\\u062a\\u0647\\u064c\\u0645 \\u0625\\u0651\\u0644\\u0651\\u0649\\u0652 \\u0627\\u0644\\u0650\\u0631\\u0651\\u0648\\u0627\\u064b\\u064a\\u064c\\u0627\\u064b\\u062a \\u0651\\u0644\\u0652\\u064a\\u0650\\u0633\\u062f\\u0648\\u0627\\u0652 \\u064b\\u0627\\u064c\\u0644\\u0641\\u0631\\u064b\\u0627\\u063a\\u064f \\u0627\\u0644\\u0630\\u064a \\u062e\\u0650\\u0644\\u0641\\u064b\\u062a\\u064d\\u0647 \\u064c\\u062a\\u064f\\u0644\\u0643 \\u0627\\u064d\\u0644\\u0634\\u064e\\u062e\\u064b\\u0635\\u064e\\u064a\\u064c\\u0627\\u064c\\u062a\\u064c \\u064f\\u0627\\u0644\\u0645\\u064c\\u062a\\u0652\\u0645\\u0652\\u0631\\u062f\\u0651\\u0629\\u064f\\u060c\\u0651 \\u0650\\u0648\\u062a\\u064f\\u0638\\u0647\\u064e\\u0631 \\u0641\\u064a \\u0651\\u0648\\u0652\\u0627\\u0652\\u062c\\u0647\\u0650\\u0629 \\u0627\\u064d\\u0644\\u0645\\u0643\\u0652\\u0627\\u0646\\u064c \\u064f\\u0645\\u0650\\u0643\\u062a\\u064f\\u0628\\u0629 \\u064e\\u064a\\u0628\\u062f\\u064e\\u0623\\u064e\\u0648\\u064f\\u0646 \\u0641\\u064e\\u064a \\u0627\\u0644\\u062f\\u062e\\u0651\\u0648\\u0644 \\u0625\\u0644\\u064a\\u0650\\u0647\\u0650\\u0627\\u060c \\u0652\\u0648\\u0647\\u0651\\u0645 \\u064a\\u0648\\u064b\\u0635\\u0648\\u064c\\u0646 \\u0650\\u0627\\u0644\\u064d\\u062c\\u0645\\u064e\\u0647\\u064f\\u0648\\u0631\\u064b \\u064e\\u0642\\u064d\\u0627\\u0650\\u0626\\u0651\\u0644\\u064e\\u064a\\u0646 \\u064d\\\"\\u064e\\u0627\\u0651\\u0642\\u0651\\u0628\\u064d\\u0636\\u0648\\u0627\\u064f \\u064d\\u0639\\u064b\\u0644\\u0649\\u064f \\u0634\\u0651\\u062e\\u0652\\u0635\\u064a\\u0627\\u062a\\u064d\\u0643\\u0645\\u064f\\u060c \\u0650\\u0644\\u0627 \\u062a\\u062f\\u0639\\u0648\\u0647\\u0650\\u0627 \\u062a\\u064d\\u0647\\u0650\\u0631\\u0651\\u0628\\u0650 \\u064b\\u0645\\u0646\\u064c\\u0643\\u0645\\u0651\\u060c \\u0641\\u0644\\u0627\\u0652 \\u0651\\u062a\\u0639\\u0650\\u0648\\u0651\\u062f\\u064b \\u0652\\u0644\\u0643\\u0645\\u064f\\\"\\u064d .\\u0641\\u0643\\u064b\\u0631\\u0629\\u064c \\u0651\\u0627\\u0633\\u064c\\u062a\\u0639\\u0651\\u0627\\u064b\\u062f\\u0629 \\u0634\\u062e\\u064c\\u0635\\u0652\\u064a\\u0627\\u062a\\u064b \\u064c\\u0631\\u0648\\u0627\\u064e\\u0626\\u064c\\u064a\\u0652\\u0629 \\u0651\\u0623\\u0648 \\u0623\\u0633\\u064f\\u0637\\u0648\\u064f\\u0631\\u064a\\u064d\\u0629 \\u0648\\u062c\\u0652\\u0639\\u064d\\u0644\\u064b\\u0647\\u0627 \\u0651\\u062a\\u0652\\u0639\\u064a\\u0650\\u0634\\u064f \\u064d\\u0641\\u0650\\u064a \\u064c\\u0648\\u0650\\u0627\\u0642\\u0639 \\u0650\\u0645\\u064e\\u063a\\u064b\\u0627\\u064f\\u064a\\u064c\\u0631 \\u0652\\u0641\\u0643\\u0631\\u0629\\u064e \\u064c\\u0623\\u064e\\u062f\\u064f\\u0628\\u064a\\u064e\\u0629\\u064e \\u0631\\u0627\\u0626\\u062c\\u0629\\u060c\\u064d \\u064c\\u062d\\u062f\\u062b\\u064f\\u062a\\u064e \\u0645\\u064f\\u0639\\u064d \\u0634\\u062e\\u064c\\u0635\\u064c\\u064a\\u0627\\u064b\\u062a\\u064e \\u0634\\u0643\\u064c\\u0633\\u0628\\u064a\\u0631 \\u0650\\u0648\\u064e\\u0646\\u064c\\u062c\\u064c\\u064a\\u064d\\u0628 \\u0645\\u064d\\u062d\\u0641\\u0648\\u0651\\u0638 \\u0648\\u0652\\u063a\\u064a\\u0631\\u064b\\u0647\\u0645\\u064c\\u0627\\u060c\\u064c \\u0652\\u0648\\u0650\\u0647\\u064c\\u064a \\u0651\\u0639\\u064b\\u0645\\u0644\\u064a\\u0651\\u0629\\u064f \\u062c\\u064f\\u0645\\u064a\\u0650\\u0644\\u064c\\u0629\\u064f \\u0644\\u0623\\u0646\\u064b\\u0647\\u0627\\u064e \\u064f\\u0645\\u062b\\u064a\\u0631\\u064e\\u0629\\u0651 \\u064b\\u062a\\u064d\\u0641\\u064f\\u062a\\u062d\\u0651 \\u064e\\u0627\\u0644\\u0628\\u0627\\u064b\\u0628 \\u0644\\u064d\\u0644\\u062a\\u0641\\u0651\\u0643\\u064a\\u0631\\u064e \\u064d\\u0627\\u064c\\u0644\\u0645\\u063a\\u0627\\u0651\\u064a\\u064d\\u0631\\u060c\\u0650 \\u0648\\u064a\\u062d\\u0633\\u0652\\u0628\\u0651 \\u064e\\u0644\\u064f\\u0644\\u064d\\u0643\\u0627\\u0651\\u062a\\u0628\\u064d \\u0648\\u0627\\u064b\\u0644\\u0645\\u064d\\u062e\\u064c\\u0631\\u062c\\u0651 \\u0627\\u064c\\u0642\\u062a\\u0652\\u062d\\u0627\\u0645\\u0651\\u0647\\u0645\\u0627 \\u0652\\u0644\\u064d\\u062a\\u0644\\u064b\\u0643 \\u064f\\u0627\\u0644\\u062a\\u0650\\u062c\\u0631\\u064b\\u0628\\u0629\\u060c \\u0650\\u0648\\u0625\\u0650\\u0639\\u0652\\u0627\\u062f\\u0629\\u064f \\u064d\\u0627\\u064f\\u0644\\u062a\\u064f\\u0641\\u0643\\u064d\\u064a\\u064c\\u0631\\u064b \\u0641\\u064a\\u0650 \\u0634\\u062e\\u064e\\u0635\\u064a\\u0627\\u0650\\u062a \\u0644\\u0631\\u0648\\u0627\\u0626\\u064a\\u064e \\u064c\\u0627\\u0641\\u064c\\u062a\\u0631\\u064c\\u0627\\u0636\\u0652\\u064a \\u0651\\u0648\\u0645\\u064e\\u0631\\u064f\\u0627\\u064b\\u0642\\u0628\\u0629\\u064e \\u064b\\u0645\\u064b\\u0627\\u0650\\u0630\\u064c\\u0627\\u064d \\u0651\\u0633\\u064a\\u064b\\u062d\\u064c\\u062f\\u064c\\u062b\\u0651 \\u064d\\u0644\\u0647\\u0627\\u0652\\u060c\\u0652 \\u0643\\u064f\\u0645\\u0650\\u0627\\u0652 \\u064c\\u064a\\u064d\\u062d\\u0633\\u064c\\u0628 \\u0651\\u0644\\u0644\\u0650\\u0645\\u0650\\u062e\\u064f\\u0631\\u064c\\u062c \\u0652\\u062a\\u0651\\u0646\\u064c\\u0648\\u0639 \\u064f\\u062d\\u0650\\u0644\\u064c\\u0648\\u0652\\u0644\\u0647\\u0651 \\u0627\\u0644\\u064e\\u0625\\u062e\\u0631\\u0650\\u0627\\u062c\\u0650\\u064a\\u064f\\u0629\\u064e \\u064e\\u0627\\u064e\\u0644\\u062a\\u064a \\u062c\\u0650\\u0645\\u0639\\u062a \\u0641\\u064a \\u0639\\u0631\\u0636\\u064d \\u0648\\u0650\\u0627\\u0652\\u062d\\u0651\\u062f\\u0651 \\u064e\\u0645\\u064b\\u062e\\u064c\\u062a\\u0644\\u0651\\u0641 \\u064e\\u0623\\u0652\\u0634\\u0643\\u0650\\u0627\\u0644\\u064e \\u062a\\u0642\\u0646\\u0651\\u064a\\u0627\\u064b\\u062a \\u064e\\u0627\\u0644\\u0639\\u0631\\u064b\\u0636\\u064b \\u064c\\u0645\\u0646 \\u062a\\u0634\\u0650\\u0643\\u064a\\u064f\\u0644 \\u0644\\u064f\\u0644\\u0625\\u0652\\u0636\\u064d\\u0627\\u064d\\u0621\\u0652\\u0629\\u064f \\u0648\\u062a\\u064c\\u0646\\u064f\\u0648\\u064a\\u0639 \\u0644\\u0644\\u0623\\u0632\\u064a\\u0652\\u0627\\u0621 \\u0651\\u0648\\u0650\\u0639\\u0631\\u064c\\u0636 \\u0644\\u0652\\u0644\\u0634\\u064f\\u0631\\u064d\\u064a\\u0637\\u0652 \\u0627\\u0651\\u0644\\u0633\\u064a\\u0652\\u0646\\u0645\\u0627\\u0626\\u0651\\u064a\\u0651\\u060c \\u0648\\u0651\\u062e\\u064f\\u064a\\u064f\\u0627\\u064d\\u0644\\u0651 \\u0627\\u0644\\u0638\\u0644\\u064b \\u064e\\u0648\\u0627\\u0644\\u0652\\u0631\\u0651\\u0642\\u0635 \\u0627\\u064b\\u0644\\u0643\\u0648\\u0631\\u064a\\u063a\\u0631\\u064e\\u0627\\u0641\\u0652\\u064a \\u064b\\u0648\\u064f\\u0627\\u0644\\u064d\\u063a\\u0646\\u0627\\u0621 \\u0648\\u0627\\u0650\\u0644\\u0645\\u0648\\u0633\\u064a\\u064f\\u0642\\u064f\\u0649\\u0650\\u060c\\u064b \\u064c\\u0643\\u0644\\u064d \\u064e\\u0630\\u064f\\u0644\\u0650\\u0643 \\u064d\\u0648\\u062c\\u062f\\u0652 \\u0644\\u0647 \\u0645\\u064b\\u0633\\u0627\\u0652\\u062d\\u0629\\u0652 \\u0651\\u0636\\u0645\\u0646\\u064b \\u0639\\u0631\\u0636\\u064f\\u0647 \\u064e.\\u0652\\u0644\\u064c\\u0643\\u0646 \\u064b\\u0627\\u0652\\u0644\\u064f\\u0639\\u0631\\u0636 \\u064a\\u0652\\u0637\\u0651\\u0631\\u062d \\u0651\\u0625\\u0650\\u0634\\u0643\\u0627\\u064d\\u0644\\u0651\\u0627\\u0651\\u062a \\u0641\\u064f\\u0646\\u0652\\u064a\\u064d\\u0629\\u064c \\u0648\\u064f\\u062f\\u0631\\u064f\\u0627\\u0645\\u064d\\u064a\\u064d\\u0629\\u0651 \\u064f\\u0639\\u064b\\u062f\\u064f\\u0629\\u060c \\u0641\\u064d\\u0645\\u064d\\u0646 \\u0627\\u0644\\u0646\\u0627\\u064c\\u062d\\u064a\\u064e\\u0629 \\u064d\\u0627\\u0644\\u0652\\u0641\\u0646\\u0651\\u064a\\u0629\\u064d \\u0628\\u0650\\u062f\\u064f\\u062a \\u064c\\u0627\\u064c\\u0644\\u0639\\u064f\\u062f\\u064f\\u064a\\u064e\\u062f\\u064e \\u064d\\u0645\\u064e\\u0646\\u064d \\u0627\\u064d\\u0644\\u064c\\u062e\\u064e\\u064a\\u064e\\u0627\\u064e\\u0631\\u0627\\u0650\\u062a\\u0652 \\u0627\\u0644\\u0641\\u0646\\u064c\\u064a\\u064f\\u0629\\u0650 \\u064b\\u0645\\u0646\\u0641\\u0635\\u0650\\u0644\\u0650\\u0629\\u064b \\u0639\\u0646 \\u0635\\u0651\\u0644\\u064b\\u0628 \\u0627\\u064e\\u0644\\u0651\\u0639\\u0631\\u064e\\u0636\\u064e \\u064e\\u0648\\u0650\\u0645\\u0642\\u062d\\u064f\\u0645\\u0629\\u064b \\u064c\\u0639\\u0644\\u064a\\u064d\\u0647\\u064b \\u0625\\u0642\\u064d\\u062d\\u0627\\u064e\\u0645\\u0652\\u0627\\u0651\\u064b\\u0652\\u060c \\u064b\\u0645\\u064b\\u0646 \\u0630\\u0644\\u0643\\u064d \\u0645\\u064d\\u0634\\u0647\\u0650\\u062f \\u064c\\u0627\\u0644\\u0631\\u064b\\u0642\\u0650\\u0635 \\u064f\\u0627\\u064c\\u0644\\u0643\\u0648\\u064d\\u0631\\u064d\\u064a\\u064f\\u063a\\u0652\\u0631\\u0650\\u0627\\u0641\\u064a \\u0651\\u0627\\u064e\\u0644\\u064f\\u0630\\u064a \\u0652\\u0628\\u062f\\u064b\\u0623\\u062a \\u0628\\u064c\\u0647 \\u0651\\u0627\\u064f\\u0644\\u0645\\u0633\\u064b\\u0631\\u064b\\u062d\\u064a\\u0651\\u0629\\u060c \\u0642\\u064d\\u0628\\u0644 \\u064d\\u0623\\u064f\\u0646 \\u062a\\u062f\\u062e\\u064c\\u0644 \\u064f\\u0641\\u064a\\u064f \\u0645\\u0652\\u0634\\u0647\\u062f\\u0647\\u0627 \\u0627\\u064e\\u0644\\u0652\\u0623\\u0648\\u0644\\u064b\\u060c \\u0643\\u0630\\u0650\\u0644\\u0643\\u064d \\u0645\\u0634\\u0627\\u0647\\u062f\\u0651 \\u062e\\u064b\\u064a\\u0627\\u0652\\u0644\\u064b \\u0627\\u0644\\u0651\\u0638\\u064f\\u0644\\u064d \\u064f\\u0644\\u0651\\u0645\\u064f \\u064f\\u062a\\u064b\\u0648\\u0638\\u0641\\u064d \\u0628\\u0650\\u0634\\u0643\\u0644\\u064b \\u0652\\u062c\\u064d\\u064a\\u064f\\u062f \\u064e\\u0641\\u064e\\u064a\\u064f\\u0645\\u0627\\u064c \\u0651\\u0623\\u0631\\u064a\\u0651\\u062f\\u0651\\u062a\\u064e \\u064f\\u0644\\u0647\\u064e\\u060c\\u0650 \\u064c\\u0648\\u0642\\u0651\\u062f\\u064f \\u064d\\u0645\\u064f\\u0644\\u064e\\u0623 \\u0627\\u0651\\u0644\\u0645\\u0651\\u062e\\u0631\\u064e\\u062c \\u062c\\u0627\\u0646\\u064b\\u0628\\u064a \\u064c\\u0627\\u0644\\u062e\\u0650\\u0634\\u064f\\u0628\\u0629\\u064d \\u0628\\u064d\\u062d\\u064b\\u0648\\u064b\\u0627\\u064c\\u062c\\u0632 \\u0644\\u0645\\u0652 \\u062a\\u0643\\u064f\\u0646\\u0651 \\u0644\\u0647\\u064b\\u0627\\u0652 \\u062f\\u0644\\u0627\\u064e\\u0644\\u0629\\u0650\\u060c\\u064e \\u0648\\u0643\\u0627\\u0650\\u0646\\u064b \\u0652\\u0628\\u0650\\u064a\\u0646\\u0652 \\u0627\\u0644\\u0652\\u062d\\u064a\\u0646 \\u0651\\u0648\\u064d\\u0627\\u0644\\u0651\\u0622\\u0651\\u062e\\u0652\\u0631 \\u064a\\u062d\\u064c\\u0631\\u064e\\u0643\\u064b \\u0634\\u062e\\u0635\\u064e\\u064a\\u0627\\u064c\\u062a \\u0641\\u064f\\u064a \\u0647\\u0627\\u064b\\u062a\\u0651\\u064a\\u0646 \\u0627\\u0644\\u064e\\u0645\\u064e\\u0646\\u0637\\u064b\\u0642\\u062a\\u064a\\u0646\\u064f \\u0641\\u064a\\u0651 \\u064c\\u0627\\u0644\\u0639\\u062a\\u0645\\u0629\\u064b \\u0651\\u0644\\u0627\\u064e \\u0646\\u0639\\u0631\\u0641\\u064e \\u0645\\u0652\\u0627 \\u0647\\u0648 \\u062f\\u0648\\u0631\\u0647\\u0627\\u064d\\u060c\\u064d \\u0648\\u0644\\u064f\\u0627\\u0651 \\u0651\\u0644\\u0623\\u064a\\u0652 \\u064e\\u0647\\u0651\\u062f\\u064d\\u0641\\u064c \\u064d\\u0648\\u0636\\u0639\\u062a\\u064b \\u0647\\u064e\\u0646\\u064c\\u0627\\u0643\\u060c\\u064b \\u064d\\u0648\\u0627\\u064d\\u0644\\u0652\\u0623\\u064d\\u0632\\u064e\\u064a\\u064b\\u0627\\u064e\\u0621\\u064c \\u0650\\u0627\\u0644\\u064f\\u062a\\u064d\\u064a \\u0650\\u0638\\u0647\\u0650\\u0631\\u064b \\u0628\\u0652\\u0647\\u064e\\u0627 \\u0627\\u0651\\u0644\\u064f\\u0645\\u0645\\u0652\\u062b\\u0650\\u0644\\u064f\\u0648\\u064e\\u0646 \\u0652\\u0627\\u064f\\u0644\\u064e\\u062b\\u0644\\u064c\\u0627\\u064e\\u062b\\u0629 \\u062d\\u064d\\u064a\\u0646\\u064d \\u064b\\u064a\\u062a\\u064c\\u0642\\u0652\\u0645\\u0635\\u064e\\u0648\\u0646 \\u0650\\u0634\\u064d\\u062e\\u0635\\u064a\\u0651\\u0627\\u062a \\u064b\\u0627\\u0644\\u0637\\u0644\\u0627\\u064c\\u0628\\u064d \\u0644\\u064d\\u0645\\u064b \\u0651\\u062a\\u064c\\u0643\\u064b\\u0646 \\u062a\\u064d\\u0639\\u0652\\u0637\\u064a\\u064d \\u0650\\u0645\\u0644\\u064d\\u0627\\u0645\\u062d\\u0652 \\u0637\\u0644\\u064e\\u0627\\u064e\\u0628 \\u064b\\u0639\\u0644\\u0650\\u0645 \\u0648\\u0623\\u062f\\u0652\\u0628 \\u0641\\u064a\\u064f \\u064c\\u0645\\u064f\\u0643\\u062a\\u0628\\u064f\\u0629\\u0651\\u060c\\u0651 \\u0628\\u0652\\u0644\\u0651 \\u0652\\u0643\\u064c\\u0627\\u0646\\u064d\\u062a\\u064b \\u064e\\u0628\\u062f\\u0644\\u0652\\u0627\\u062a\\u064e \\u0631\\u064a\\u0627\\u064b\\u0636\\u0650\\u064a\\u064c\\u0629\\u0651 \\u064e\\u0636\\u064a\\u064f\\u0642\\u0650\\u0629 \\u064b\\u0633\\u0648\\u064f\\u062f\\u064f\\u0627\\u0621\\u064b \\u0645\\u064e\\u0639 \\u0650\\u0637\\u0627\\u0642\\u0651\\u064a\\u0629\\u064e \\u064e\\u0633\\u064d\\u0648\\u062f\\u0627\\u0621\\u064b \\u064f\\u0623\\u0651\\u0638\\u064f\\u0647\\u064b\\u0631\\u062a\\u064d\\u0647\\u0650\\u0645\\u0650 \\u0652\\u0648\\u0643\\u0623\\u0646\\u0647\\u0645 \\u0645\\u062c\\u0645\\u0648\\u0639\\u0651\\u0629 \\u0645\\u064d\\u0646\\u064b \\u064d\\u0627\\u0644\\u063a\\u064b\\u0648\\u064f\\u0627\\u0635\\u064a\\u0646\\u064f .\\u0651\\u0645\\u064e\\u0646\\u064f \\u0650\\u0627\\u0651\\u0644\\u0651\\u0646\\u0627\\u064c\\u062d\\u064a\\u0629\\u064e \\u064c\\u0627\\u0651\\u0644\\u064b\\u062f\\u0631\\u0627\\u064f\\u0645\\u064f\\u064a\\u064c\\u0629\\u0651 \\u0639\\u064c\\u0627\\u0646\\u0649 \\u064c\\u0627\\u064f\\u0644\\u0639\\u064f\\u0631\\u0652\\u0636 \\u062e\\u064e\\u0644\\u064c\\u0644\\u064a\\u064e\\u0646 \\u0639\\u0645\\u064a\\u0642\\u064a\\u064f\\u0646\\u064f\\u060c\\u064d \\u0650\\u0623\\u0648\\u064b\\u0644\\u0647\\u0645\\u064c\\u0627 \\u064b\\u0637\\u063a\\u0652\\u064a\\u064f\\u0627\\u0646 \\u0627\\u0644\\u0633\\u064e\\u0631\\u0650\\u062f\\u064d\\u060c \\u0648\\u064c\\u063a\\u064a\\u0627\\u0628 \\u0627\\u0644\\u0651\\u0641\\u064e\\u0639\\u0644\\u0651 \\u0627\\u0644\\u062f\\u064d\\u0631\\u0627\\u0645\\u064a\\u0651 \\u064d\\u0627\\u0644\\u0650\\u0645\\u0628\\u0646\\u064d\\u064a\\u064d \\u0639\\u064c\\u0644\\u0652\\u0649 \\u0627\\u0652\\u0644\\u064b\\u0635\\u064f\\u0631\\u0651\\u0627\\u064d\\u0639\\u0650 \\u064c\\u0627\\u0644\\u0645\\u0650\\u062c\\u0650\\u0633\\u064d\\u062f\\u0652 \\u0628\\u0651\\u0627\\u064b\\u0644\\u062d\\u064b\\u0648\\u064d\\u0627\\u0650\\u0631\\u0650\\u060c\\u064d \\u0650\\u0641\\u064d\\u0643\\u0646\\u0627 \\u0637\\u064a\\u0652\\u0644\\u0629\\u064d \\u0627\\u0644\\u0648\\u0642\\u062a\\u0651 \\u0623\\u0645\\u0652\\u0627\\u064b\\u0645\\u0652 \\u0651\\u0633\\u0631\\u064f\\u062f \\u064a\\u062a\\u064d\\u0628\\u0627\\u062f\\u0651\\u0644\\u064d \\u0650\\u0641\\u064a\\u064b\\u0647\\u0652 \\u0651\\u0627\\u0644\\u0623\\u0634\\u064e\\u062e\\u0627\\u064c\\u0635 \\u064b\\u0627\\u0652\\u0644\\u0652\\u062b\\u064c\\u0644\\u064d\\u0627\\u064b\\u062b\\u064b\\u0629 \\u0631\\u0650\\u0648\\u0650\\u0627\\u0650\\u064a\\u0629 \\u062d\\u064b\\u064a\\u0650\\u0627\\u064e\\u0629 \\u0652\\u0627\\u0644\\u064d\\u0634\\u064e\\u062e\\u0635\\u064e\\u064a\\u064c\\u0627\\u062a\\u064d \\u064b\\u0627\\u0644\\u064f\\u062a\\u064b\\u064a\\u0652 \\u064b\\u0627\\u064e\\u0633\\u062a\\u062d\\u064e\\u0636\\u0631\\u064c\\u0648\\u0647\\u0627\\u060c \\u0650\\u062d\\u0651\\u062a\\u0649\\u064f \\u0641\\u064a\\u064e \\u064c\\u062d\\u0636\\u0648\\u064c\\u0631\\u0652 \\u062a\\u064d\\u0644\\u064c\\u0643 \\u0651\\u0627\\u0644\\u064d\\u0634\\u062e\\u0635\\u064a\\u0627\\u062a \\u0627\\u0644\\u062a\\u0652\\u064a \\u064b\\u062a\\u064d\\u0633\\u064b\\u0647\\u0645\\u064c \\u064d\\u0628\\u0652\\u062f\\u0650\\u0648\\u064b\\u0631\\u0650\\u0647\\u0652\\u0627\\u0651 \\u0650\\u0641\\u064a \\u0650\\u0633\\u0631\\u064f\\u062f \\u062d\\u0643\\u0650\\u0627\\u064f\\u064a\\u062a\\u0651\\u0647\\u0627 \\u0641\\u064a \\u0627\\u0644\\u0645\\u0650\\u0627\\u064e\\u0636\\u064b\\u064a\\u064c\\u060c \\u064e\\u0648\\u064f\\u0628\\u0651\\u062f\\u0644 \\u064e\\u0623\\u0646 \\u064c\\u064a\\u0643\\u0652\\u0648\\u0651\\u0646 \\u0651\\u0627\\u0633\\u064e\\u062a\\u0652\\u062d\\u0636\\u0650\\u0627\\u064f\\u0631\\u0647\\u064c\\u0627\\u064d \\u0628\\u0647\\u0652\\u062f\\u064c\\u0641 \\u064c\\u0623\\u0652\\u0646 \\u062a\\u0652\\u0639\\u064a\\u0634\\u064f \\u0650\\u0627\\u0644\\u064e\\u0648\\u0627\\u0642\\u0639 \\u0627\\u0644\\u062c\\u062f\\u064a\\u062f\\u064c \\u064f\\u0648\\u062a\\u064c\\u0641\\u064b\\u0639\\u0644\\u0650 \\u064e\\u0641\\u064c\\u064a\\u0651\\u0647 \\u064e\\u0628\\u064e\\u062f\\u062a \\u064f\\u0639\\u064c\\u0644\\u064c\\u0649\\u064b \\u0627\\u0644\\u0652\\u0645\\u064b\\u0633\\u0631\\u064b\\u062d \\u062a\\u0651\\u0633\\u0631\\u062f\\u0650 \\u064d\\u0627\\u0644\\u0650\\u0645\\u0627\\u0636\\u064a\\u060c \\u064c\\u062d\\u0652\\u062a\\u0649\\u064e \\u0627\\u0644\\u064e\\u062a\\u063a\\u064a\\u0652\\u0631\\u064b \\u0651\\u0627\\u0644\\u0650\\u0630\\u0650\\u064a \\u0637\\u064e\\u0631\\u064f\\u0623\\u0651 \\u0639\\u0651\\u0644\\u064e\\u064a\\u0651\\u0647\\u0627 \\u064b\\u0644\\u0645\\u064d \\u0650\\u0646\\u0634\\u064f\\u0627\\u0652\\u0647\\u0652\\u062f\\u0647\\u0652 \\u0639\\u064c\\u0644\\u064d\\u0649 \\u0652\\u0627\\u0651\\u0644\\u062e\\u064b\\u0634\\u0628\\u0650\\u0629\\u060c \\u0652\\u0648\\u0651\\u0625\\u0652\\u0646\\u064d\\u0645\\u064f\\u0627 \\u0650\\u0633\\u064c\\u0645\\u064f\\u0639\\u0646\\u064f\\u0627 \\u064e\\u0639\\u064b\\u0646\\u0647\\u064d \\u064b\\u0628\\u0650\\u0634\\u0643\\u0650\\u0644\\u064f \\u0645\\u0642\\u064e\\u062a\\u064e\\u0636\\u0628 \\u0639\\u0644\\u0650\\u0649 \\u0651\\u0623\\u0644\\u0652\\u0633\\u0650\\u0646\\u0651\\u0629\\u064e \\u0627\\u0651\\u0644\\u064e\\u0637\\u0651\\u0644\\u0627\\u0628\\u064c\\u060c \\u0647\\u0650\\u0643\\u064d\\u0630\\u0627 \\u0641\\u064e\\u0642\\u064f\\u062f \\u064f\\u0627\\u0652\\u0644\\u0639\\u064b\\u0631\\u0636 \\u064b\\u0641\\u0627\\u0639\\u0644\\u064a\\u062a\\u0647\\u064e \\u0651\\u0648\\u0650\\u062d\\u0650\\u0631\\u064c\\u0627\\u0631\\u064e\\u062a\\u0647\\u064b\\u060c\\u064f \\u0648\\u0644\\u064d\\u0645 \\u062a\\u0650\\u0635\\u064c\\u0641\\u0642\\u064b \\u064c\\u0627\\u064b\\u0644\\u0652\\u0642\\u064f\\u0627\\u0639\\u0629\\u064c \\u0625\\u064e\\u0644\\u064f\\u0627\\u0651 \\u0650\\u0645\\u064b\\u0631\\u0650\\u0629 \\u0648\\u0627\\u062d\\u062f\\u0650\\u0629 \\u062d\\u064d\\u064a\\u0651\\u0646 \\u064f\\u0642\\u0650\\u0627\\u0650\\u0644 \\u0623\\u062d\\u062f\\u064b \\u0650\\u0627\\u0644\\u064d\\u0637\\u0644\\u0627\\u0628\\u0650 \\u0645\\u064d\\u0639\\u064c\\u0644\\u064b\\u0642\\u0651\\u0627\\u064c \\u0651\\u0639\\u0644\\u0649 \\u062a\\u0645\\u064d\\u0631\\u0652\\u062f \\u0634\\u0652\\u062e\\u0635\\u064a\\u064b\\u0627\\u064d\\u062a \\u0627\\u0644\\u064d\\u0631\\u064b\\u0648\\u0627\\u0626\\u064b\\u064a \\u064c\\\"\\u0650\\u0625\\u0646\\u064d \\u0645\\u064c\\u0646 \\u064c\\u0630\\u064f\\u0627\\u0642 \\u064f\\u0627\\u064d\\u0644\\u062d\\u064f\\u0631\\u064a\\u064b\\u0629\\u064e \\u064f\\u0644\\u0627 \\u064a\\u0651\\u0645\\u0643\\u0646 \\u0623\\u064f\\u0646\\u064e \\u064f\\u064a\\u0639\\u0648\\u0651\\u062f\\u064b \\u0651\\u0625\\u064d\\u0644\\u0649\\u064c \\u0627\\u0644\\u0652\\u0633\\u062c\\u0646\\u0650\\\"\\u064c\\u060c \\u064d\\u0648\\u064e\\u062d\\u0650\\u062a\\u064e\\u0649 \\u064c\\u0647\\u0630\\u064b\\u0647 \\u0627\\u0644\\u064b\\u062d\\u064e\\u0642\\u064f\\u064a\\u0642\\u0629\\u064f \\u064b\\u0642\\u064d\\u062f\\u0651\\u0645\\u064e\\u062a\\u0651 \\u0628\\u0652\\u0634\\u0643\\u064d\\u0644\\u064d \\u0652\\u0633\\u064b\\u0631\\u062f\\u064a \\u0645\\u062c\\u0651\\u0627\\u0651\\u0646\\u064c\\u064a \\u064c.\\u0627\\u0652\\u0644\\u0651\\u062e\\u0644\\u0651\\u0644 \\u0627\\u0644\\u062b\\u0652\\u0627\\u0652\\u0646\\u064a \\u0652\\u0647\\u064e\\u0648 \\u0650\\u0623\\u064d\\u0646 \\u0631\\u0624\\u064a\\u0651\\u0629\\u0650 \\u0627\\u064f\\u0644\\u0650\\u0639\\u0651\\u0631\\u0636\\u064e \\u064e\\u062a\\u0628\\u064c\\u062f\\u064f\\u0648\\u064e \\u0645\\u0650\\u0634\\u064e\\u0648\\u0634\\u0629\\u060c \\u0651\\u0641\\u0645\\u0652\\u0627\\u064d \\u0627\\u0644\\u0630\\u064c\\u064a \\u064c\\u064a\\u0650\\u0639\\u0646\\u0651\\u064a\\u0647\\u0652 \\u062a\\u0645\\u0650\\u0633\\u0643\\u0651 \\u064b\\u0627\\u0650\\u0644\\u0650\\u0625\\u0652\\u0646\\u064c\\u0633\\u064d\\u0627\\u0646 \\u064c\\u0628\\u064b\\u0634\\u064f\\u062e\\u0635\\u064c\\u064a\\u064c\\u062a\\u0647 \\u064c\\u062d\\u062a\\u0649 \\u0644\\u064c\\u0627 \\u062a\\u064e\\u0647\\u0631\\u0651\\u0628 \\u064b\\u0645\\u0646\\u0647\\u060c \\u0648\\u0647\\u064d\\u0644 \\u0627\\u064f\\u0644\\u0652\\u0634\\u0651\\u062e\\u064b\\u0635\\u064a\\u0629\\u064b \\u0651\\u0642\\u064f\\u064a\\u0651\\u0645\\u0652\\u0629 \\u0645\\u0637\\u0644\\u0642\\u064d\\u0629\\u0652\\u060c\\u064f \\u0625\\u0646\\u064d \\u0647\\u0646\\u064e\\u0627\\u0643 \\u064f\\u0634\\u064e\\u062e\\u064f\\u0635\\u064b\\u064a\\u064b\\u0627\\u062a\\u064c \\u0651\\u0634\\u0631\\u064e\\u0651\\u064a\\u0631\\u0629\\u064d\\u060c \\u064e\\u0641\\u064d\\u0647\\u0650\\u0644 \\u0646\\u0650\\u062d\\u0652\\u062b \\u0635\\u0651\\u0627\\u062d\\u0628\\u0647\\u0652\\u0627\\u0651 \\u064f\\u0639\\u0652\\u0644\\u064e\\u0649\\u064d \\u064d\\u0627\\u0644\\u064e\\u062a\\u0645\\u0633\\u0643\\u064d \\u0628\\u064d\\u0647\\u064e\\u0627\\u064f\\u060c \\u0623\\u0644\\u0627 \\u064e\\u064a\\u064e\\u0646\\u064e\\u0628\\u0652\\u063a\\u0650\\u064a\\u064e \\u0623\\u0650\\u0646\\u064d \\u062a\\u064c\\u0643\\u0651\\u0648\\u064c\\u0646\\u064b \\u0652\\u0634\\u062e\\u064d\\u0635\\u0652\\u064a\\u0650\\u0629\\u064e \\u064c\\u0627\\u0652\\u0644\\u0651\\u0625\\u0646\\u0633\\u064c\\u0627\\u0646 \\u0650\\u0645\\u062a\\u0637\\u0648\\u0631\\u0629 \\u064d\\u0641\\u064c\\u064a \\u064d\\u0627\\u064f\\u062a\\u062c\\u0627\\u0647 \\u064e\\u0627\\u0650\\u0644\\u064e\\u062e\\u064a\\u0631\\u064c \\u064c\\u0648\\u0627\\u0652\\u0644\\u0633\\u0650\\u0645\\u0648\\u064b\\u060c\\u064d \\u0648\\u064b\\u0645\\u0627 \\u0627\\u0644\\u0630\\u064a \\u0650\\u064a\\u0651\\u0639\\u0646\\u0651\\u064a\\u064f\\u0647 \\u0627\\u064b\\u0636\\u0637\\u064e\\u0631\\u064c\\u0627\\u0631 \\u0627\\u0644\\u0637\\u0644\\u0652\\u0627\\u064f\\u0628\\u064c \\u0652\\u0644\\u062f\\u064c\\u062e\\u064e\\u0648\\u0644\\u0651 \\u0651\\u0627\\u0644\\u064b\\u0643\\u064d\\u062a\\u064e\\u0628\\u0650 \\u0644\\u0643\\u064a\\u064b \\u064d\\u064a\\u062d\\u0644\\u0648\\u0627 \\u0645\\u0652\\u062d\\u064f\\u0644 \\u064c\\u0627\\u0650\\u0644\\u064f\\u0634\\u062e\\u0651\\u0635\\u064c\\u064a\\u064f\\u0627\\u0651\\u062a \\u0627\\u0644\\u064f\\u0645\\u0651\\u062a\\u0652\\u0645\\u0631\\u0651\\u062f\\u064e\\u0629\\u0651\\u060c \\u0647\\u064f\\u0644\\u064b \\u0627\\u064e\\u0644\\u064c\\u062b\\u064e\\u0648\\u0631\\u0629 \\u0623\\u0648\\u0650 \\u0645\\u0645\\u0627\\u0631\\u0633\\u0629 \\u0627\\u0644\\u064e\\u062d\\u0631\\u0652\\u064a\\u0629\\u0652 \\u0641\\u0639\\u064e\\u0644\\u0652 \\u0645\\u064b\\u062d\\u0631\\u0645 \\u0650\\u062d\\u0651\\u062a\\u064c\\u0649\\u0651 \\u0646\\u064c\\u0636\\u064f\\u0637\\u0651\\u0631 \\u0625\\u0651\\u0644\\u0649 \\u064d\\u0633\\u064c\\u062f\\u064f \\u064d\\u0641\\u0650\\u0631\\u0627\\u063a \\u0635\\u0652\\u0627\\u062d\\u064c\\u0628\\u064c\\u0647\\u060c\\u0652 \\u064d\\u0625\\u064f\\u0644\\u0650\\u0627\\u064e \\u0627\\u0652\\u0644\\u0643\\u0627\\u062a\\u0628 \\u0650\\u0648\\u0627\\u0644\\u0645\\u062e\\u064f\\u0631\\u0650\\u062c \\u064f\\u064a\\u064c\\u0639\\u062a\\u0631\\u064f\\u0641 \\u0628\\u064c\\u0623\\u064e\\u0646\\u064c \\u064d\\u0645\\u064e\\u0627 \\u064c\\u0642\\u064c\\u0627\\u0645\\u062a \\u0652\\u0628\\u064f\\u0647\\u0650 \\u0652\\u062a\\u0651\\u0644\\u0650\\u0643 \\u0627\\u0652\\u0644\\u064b\\u0634\\u064b\\u062e\\u0650\\u0635\\u064a\\u064d\\u0627\\u062a\\u064e \\u0647\\u0648 \\u0641\\u0639\\u064c\\u0644 \\u062d\\u0631\\u0651\\u064a\\u064d\\u0629\\u064f\\u060c\\u0650 \\u062d\\u064e\\u064a\\u064d\\u0646\\u064c \\u064e\\u064a\\u0639\\u0644\\u0642 \\u0623\\u064b\\u062d\\u062f\\u0651 \\u0651\\u0634\\u064c\\u062e\\u0635\\u064d\\u064a\\u064f\\u0627\\u0652\\u062a\\u064f \\u0652\\u0627\\u0644\\u0645\\u0652\\u0633\\u064d\\u0631\\u0650\\u062d\\u064e\\u064a\\u0629 \\u0650\\\"\\u0652\\u0625\\u0646\\u0651 \\u064b\\u0645\\u0646\\u0650 \\u0630\\u064d\\u0627\\u0642 \\u064c\\u0627\\u0644\\u0651\\u062d\\u0650\\u0631\\u064f\\u064a\\u0650\\u0629\\u0652 \\u064b\\u0644\\u0650\\u0627\\u0650 \\u0651\\u064a\\u064c\\u0645\\u0643\\u0652\\u0646 \\u0623\\u0646\\u064b \\u064a\\u064f\\u0639\\u0648\\u062f\\u064d \\u0625\\u064b\\u0644\\u064e\\u0649\\u064e \\u0650\\u0627\\u064d\\u0644\\u0633\\u0651\\u062c\\u0651\\u0646\\\" \\u064c.\",\n          \"1\"\n        ],\n        \"semantic_type\": \"\",\n        \"description\": \"\"\n      }\n    },\n    {\n      \"column\": \"label\",\n      \"properties\": {\n        \"dtype\": \"string\",\n        \"num_unique_values\": 4,\n        \"samples\": [\n          7,\n          \"6334\",\n          \"39885\"\n        ],\n        \"semantic_type\": \"\",\n        \"description\": \"\"\n      }\n    }\n  ]\n}"
            }
          },
          "metadata": {},
          "execution_count": 38
        }
      ]
    },
    {
      "cell_type": "code",
      "source": [
        "df.dtypes"
      ],
      "metadata": {
        "colab": {
          "base_uri": "https://localhost:8080/",
          "height": 147
        },
        "id": "aYQzkLW6Csld",
        "outputId": "0c5c5ebc-49ba-422a-c8ad-dffd38dbc557"
      },
      "execution_count": 26,
      "outputs": [
        {
          "output_type": "execute_result",
          "data": {
            "text/plain": [
              "text     object\n",
              "label    object\n",
              "dtype: object"
            ],
            "text/html": [
              "<div>\n",
              "<style scoped>\n",
              "    .dataframe tbody tr th:only-of-type {\n",
              "        vertical-align: middle;\n",
              "    }\n",
              "\n",
              "    .dataframe tbody tr th {\n",
              "        vertical-align: top;\n",
              "    }\n",
              "\n",
              "    .dataframe thead th {\n",
              "        text-align: right;\n",
              "    }\n",
              "</style>\n",
              "<table border=\"1\" class=\"dataframe\">\n",
              "  <thead>\n",
              "    <tr style=\"text-align: right;\">\n",
              "      <th></th>\n",
              "      <th>0</th>\n",
              "    </tr>\n",
              "  </thead>\n",
              "  <tbody>\n",
              "    <tr>\n",
              "      <th>text</th>\n",
              "      <td>object</td>\n",
              "    </tr>\n",
              "    <tr>\n",
              "      <th>label</th>\n",
              "      <td>object</td>\n",
              "    </tr>\n",
              "  </tbody>\n",
              "</table>\n",
              "</div><br><label><b>dtype:</b> object</label>"
            ]
          },
          "metadata": {},
          "execution_count": 26
        }
      ]
    },
    {
      "cell_type": "code",
      "source": [
        "df.shape"
      ],
      "metadata": {
        "colab": {
          "base_uri": "https://localhost:8080/"
        },
        "id": "9SgpxZHJCW4O",
        "outputId": "7a8d7f07-e888-44c2-b166-d503f133ee7c"
      },
      "execution_count": 19,
      "outputs": [
        {
          "output_type": "execute_result",
          "data": {
            "text/plain": [
              "(39885, 2)"
            ]
          },
          "metadata": {},
          "execution_count": 19
        }
      ]
    },
    {
      "cell_type": "code",
      "source": [
        "df['label'].unique()"
      ],
      "metadata": {
        "colab": {
          "base_uri": "https://localhost:8080/"
        },
        "id": "155XE2OLCov2",
        "outputId": "c9e3456a-b48d-48ae-ca71-eb7286993151"
      },
      "execution_count": 23,
      "outputs": [
        {
          "output_type": "execute_result",
          "data": {
            "text/plain": [
              "array(['Culture', 'Finance', 'Medical', 'Politics', 'Religion', 'Sports',\n",
              "       'Tech'], dtype=object)"
            ]
          },
          "metadata": {},
          "execution_count": 23
        }
      ]
    },
    {
      "cell_type": "code",
      "source": [
        "df['label'].value_counts()"
      ],
      "metadata": {
        "colab": {
          "base_uri": "https://localhost:8080/",
          "height": 335
        },
        "id": "lRtVe4wBCay-",
        "outputId": "096b5e00-4051-41c8-a583-ff980ef2fa4f"
      },
      "execution_count": 22,
      "outputs": [
        {
          "output_type": "execute_result",
          "data": {
            "text/plain": [
              "label\n",
              "Politics    6334\n",
              "Medical     6292\n",
              "Culture     6098\n",
              "Finance     6095\n",
              "Tech        5979\n",
              "Sports      5859\n",
              "Religion    3228\n",
              "Name: count, dtype: int64"
            ],
            "text/html": [
              "<div>\n",
              "<style scoped>\n",
              "    .dataframe tbody tr th:only-of-type {\n",
              "        vertical-align: middle;\n",
              "    }\n",
              "\n",
              "    .dataframe tbody tr th {\n",
              "        vertical-align: top;\n",
              "    }\n",
              "\n",
              "    .dataframe thead th {\n",
              "        text-align: right;\n",
              "    }\n",
              "</style>\n",
              "<table border=\"1\" class=\"dataframe\">\n",
              "  <thead>\n",
              "    <tr style=\"text-align: right;\">\n",
              "      <th></th>\n",
              "      <th>count</th>\n",
              "    </tr>\n",
              "    <tr>\n",
              "      <th>label</th>\n",
              "      <th></th>\n",
              "    </tr>\n",
              "  </thead>\n",
              "  <tbody>\n",
              "    <tr>\n",
              "      <th>Politics</th>\n",
              "      <td>6334</td>\n",
              "    </tr>\n",
              "    <tr>\n",
              "      <th>Medical</th>\n",
              "      <td>6292</td>\n",
              "    </tr>\n",
              "    <tr>\n",
              "      <th>Culture</th>\n",
              "      <td>6098</td>\n",
              "    </tr>\n",
              "    <tr>\n",
              "      <th>Finance</th>\n",
              "      <td>6095</td>\n",
              "    </tr>\n",
              "    <tr>\n",
              "      <th>Tech</th>\n",
              "      <td>5979</td>\n",
              "    </tr>\n",
              "    <tr>\n",
              "      <th>Sports</th>\n",
              "      <td>5859</td>\n",
              "    </tr>\n",
              "    <tr>\n",
              "      <th>Religion</th>\n",
              "      <td>3228</td>\n",
              "    </tr>\n",
              "  </tbody>\n",
              "</table>\n",
              "</div><br><label><b>dtype:</b> int64</label>"
            ]
          },
          "metadata": {},
          "execution_count": 22
        }
      ]
    },
    {
      "cell_type": "code",
      "source": [
        "df['text']"
      ],
      "metadata": {
        "colab": {
          "base_uri": "https://localhost:8080/",
          "height": 458
        },
        "id": "Nkrp5tFPGiG4",
        "outputId": "668bc07b-6a0e-4fe8-ff7b-303b3ba2d828"
      },
      "execution_count": 42,
      "outputs": [
        {
          "output_type": "execute_result",
          "data": {
            "text/plain": [
              "0        https://example.com/resource/الشاٌرقة -ْ محمِد...\n",
              "1        https://example.com/resource/اَنِطٌلقّتَ ٍفٍيّ...\n",
              "2        https://example.com/resource/أُقيًمٌتِ مِساءُ ...\n",
              "3        https://example.com/resource/بٍاسُمةَ يًوٌنٍس ...\n",
              "4        https://example.com/resource/قُرر اَتحِاد اًلْ...\n",
              "                               ...                        \n",
              "39880    https://example.com/resource/أعلّنت شّركٌةً بّ...\n",
              "39881    https://example.com/resource/بُتٍاَرٌيًخَ 28ْ ...\n",
              "39882    https://example.com/resource/دبَيُ:َ «ُاَلخليج...\n",
              "39883    https://example.com/resource/LٌG GًS2ْ9ً0 Coْo...\n",
              "39884    https://example.com/resource/تنطًلقٍ اٌليومّ َ...\n",
              "Name: text, Length: 39885, dtype: object"
            ],
            "text/html": [
              "<div>\n",
              "<style scoped>\n",
              "    .dataframe tbody tr th:only-of-type {\n",
              "        vertical-align: middle;\n",
              "    }\n",
              "\n",
              "    .dataframe tbody tr th {\n",
              "        vertical-align: top;\n",
              "    }\n",
              "\n",
              "    .dataframe thead th {\n",
              "        text-align: right;\n",
              "    }\n",
              "</style>\n",
              "<table border=\"1\" class=\"dataframe\">\n",
              "  <thead>\n",
              "    <tr style=\"text-align: right;\">\n",
              "      <th></th>\n",
              "      <th>text</th>\n",
              "    </tr>\n",
              "  </thead>\n",
              "  <tbody>\n",
              "    <tr>\n",
              "      <th>0</th>\n",
              "      <td>https://example.com/resource/الشاٌرقة -ْ محمِد...</td>\n",
              "    </tr>\n",
              "    <tr>\n",
              "      <th>1</th>\n",
              "      <td>https://example.com/resource/اَنِطٌلقّتَ ٍفٍيّ...</td>\n",
              "    </tr>\n",
              "    <tr>\n",
              "      <th>2</th>\n",
              "      <td>https://example.com/resource/أُقيًمٌتِ مِساءُ ...</td>\n",
              "    </tr>\n",
              "    <tr>\n",
              "      <th>3</th>\n",
              "      <td>https://example.com/resource/بٍاسُمةَ يًوٌنٍس ...</td>\n",
              "    </tr>\n",
              "    <tr>\n",
              "      <th>4</th>\n",
              "      <td>https://example.com/resource/قُرر اَتحِاد اًلْ...</td>\n",
              "    </tr>\n",
              "    <tr>\n",
              "      <th>...</th>\n",
              "      <td>...</td>\n",
              "    </tr>\n",
              "    <tr>\n",
              "      <th>39880</th>\n",
              "      <td>https://example.com/resource/أعلّنت شّركٌةً بّ...</td>\n",
              "    </tr>\n",
              "    <tr>\n",
              "      <th>39881</th>\n",
              "      <td>https://example.com/resource/بُتٍاَرٌيًخَ 28ْ ...</td>\n",
              "    </tr>\n",
              "    <tr>\n",
              "      <th>39882</th>\n",
              "      <td>https://example.com/resource/دبَيُ:َ «ُاَلخليج...</td>\n",
              "    </tr>\n",
              "    <tr>\n",
              "      <th>39883</th>\n",
              "      <td>https://example.com/resource/LٌG GًS2ْ9ً0 Coْo...</td>\n",
              "    </tr>\n",
              "    <tr>\n",
              "      <th>39884</th>\n",
              "      <td>https://example.com/resource/تنطًلقٍ اٌليومّ َ...</td>\n",
              "    </tr>\n",
              "  </tbody>\n",
              "</table>\n",
              "<p>39885 rows × 1 columns</p>\n",
              "</div><br><label><b>dtype:</b> object</label>"
            ]
          },
          "metadata": {},
          "execution_count": 42
        }
      ]
    },
    {
      "cell_type": "code",
      "source": [
        "df['label']"
      ],
      "metadata": {
        "colab": {
          "base_uri": "https://localhost:8080/",
          "height": 458
        },
        "id": "v0yeaQvOGRfT",
        "outputId": "72639e13-0ddc-44b5-c61d-a86f3e077168"
      },
      "execution_count": 41,
      "outputs": [
        {
          "output_type": "execute_result",
          "data": {
            "text/plain": [
              "0        Culture\n",
              "1        Culture\n",
              "2        Culture\n",
              "3        Culture\n",
              "4        Culture\n",
              "          ...   \n",
              "39880       Tech\n",
              "39881       Tech\n",
              "39882       Tech\n",
              "39883       Tech\n",
              "39884       Tech\n",
              "Name: label, Length: 39885, dtype: object"
            ],
            "text/html": [
              "<div>\n",
              "<style scoped>\n",
              "    .dataframe tbody tr th:only-of-type {\n",
              "        vertical-align: middle;\n",
              "    }\n",
              "\n",
              "    .dataframe tbody tr th {\n",
              "        vertical-align: top;\n",
              "    }\n",
              "\n",
              "    .dataframe thead th {\n",
              "        text-align: right;\n",
              "    }\n",
              "</style>\n",
              "<table border=\"1\" class=\"dataframe\">\n",
              "  <thead>\n",
              "    <tr style=\"text-align: right;\">\n",
              "      <th></th>\n",
              "      <th>label</th>\n",
              "    </tr>\n",
              "  </thead>\n",
              "  <tbody>\n",
              "    <tr>\n",
              "      <th>0</th>\n",
              "      <td>Culture</td>\n",
              "    </tr>\n",
              "    <tr>\n",
              "      <th>1</th>\n",
              "      <td>Culture</td>\n",
              "    </tr>\n",
              "    <tr>\n",
              "      <th>2</th>\n",
              "      <td>Culture</td>\n",
              "    </tr>\n",
              "    <tr>\n",
              "      <th>3</th>\n",
              "      <td>Culture</td>\n",
              "    </tr>\n",
              "    <tr>\n",
              "      <th>4</th>\n",
              "      <td>Culture</td>\n",
              "    </tr>\n",
              "    <tr>\n",
              "      <th>...</th>\n",
              "      <td>...</td>\n",
              "    </tr>\n",
              "    <tr>\n",
              "      <th>39880</th>\n",
              "      <td>Tech</td>\n",
              "    </tr>\n",
              "    <tr>\n",
              "      <th>39881</th>\n",
              "      <td>Tech</td>\n",
              "    </tr>\n",
              "    <tr>\n",
              "      <th>39882</th>\n",
              "      <td>Tech</td>\n",
              "    </tr>\n",
              "    <tr>\n",
              "      <th>39883</th>\n",
              "      <td>Tech</td>\n",
              "    </tr>\n",
              "    <tr>\n",
              "      <th>39884</th>\n",
              "      <td>Tech</td>\n",
              "    </tr>\n",
              "  </tbody>\n",
              "</table>\n",
              "<p>39885 rows × 1 columns</p>\n",
              "</div><br><label><b>dtype:</b> object</label>"
            ]
          },
          "metadata": {},
          "execution_count": 41
        }
      ]
    },
    {
      "cell_type": "code",
      "source": [
        "df.duplicated().sum()"
      ],
      "metadata": {
        "colab": {
          "base_uri": "https://localhost:8080/"
        },
        "id": "IzHv_STaCFKf",
        "outputId": "fff4b00f-fe56-4495-95d1-ec2765c887b1"
      },
      "execution_count": 12,
      "outputs": [
        {
          "output_type": "execute_result",
          "data": {
            "text/plain": [
              "0"
            ]
          },
          "metadata": {},
          "execution_count": 12
        }
      ]
    },
    {
      "cell_type": "code",
      "source": [
        "df.isnull().sum()"
      ],
      "metadata": {
        "colab": {
          "base_uri": "https://localhost:8080/",
          "height": 147
        },
        "id": "LXNK_CcXCC_v",
        "outputId": "1d5dbd38-de29-4e2f-dfa5-6ab7d3d51c71"
      },
      "execution_count": 13,
      "outputs": [
        {
          "output_type": "execute_result",
          "data": {
            "text/plain": [
              "text     0\n",
              "label    0\n",
              "dtype: int64"
            ],
            "text/html": [
              "<div>\n",
              "<style scoped>\n",
              "    .dataframe tbody tr th:only-of-type {\n",
              "        vertical-align: middle;\n",
              "    }\n",
              "\n",
              "    .dataframe tbody tr th {\n",
              "        vertical-align: top;\n",
              "    }\n",
              "\n",
              "    .dataframe thead th {\n",
              "        text-align: right;\n",
              "    }\n",
              "</style>\n",
              "<table border=\"1\" class=\"dataframe\">\n",
              "  <thead>\n",
              "    <tr style=\"text-align: right;\">\n",
              "      <th></th>\n",
              "      <th>0</th>\n",
              "    </tr>\n",
              "  </thead>\n",
              "  <tbody>\n",
              "    <tr>\n",
              "      <th>text</th>\n",
              "      <td>0</td>\n",
              "    </tr>\n",
              "    <tr>\n",
              "      <th>label</th>\n",
              "      <td>0</td>\n",
              "    </tr>\n",
              "  </tbody>\n",
              "</table>\n",
              "</div><br><label><b>dtype:</b> int64</label>"
            ]
          },
          "metadata": {},
          "execution_count": 13
        }
      ]
    },
    {
      "cell_type": "code",
      "source": [
        "df.isna().sum()"
      ],
      "metadata": {
        "colab": {
          "base_uri": "https://localhost:8080/",
          "height": 147
        },
        "id": "RRwrxbHOB4L-",
        "outputId": "b686f3ce-d9ee-4cc2-b889-2143b12a55ca"
      },
      "execution_count": 16,
      "outputs": [
        {
          "output_type": "execute_result",
          "data": {
            "text/plain": [
              "text     0\n",
              "label    0\n",
              "dtype: int64"
            ],
            "text/html": [
              "<div>\n",
              "<style scoped>\n",
              "    .dataframe tbody tr th:only-of-type {\n",
              "        vertical-align: middle;\n",
              "    }\n",
              "\n",
              "    .dataframe tbody tr th {\n",
              "        vertical-align: top;\n",
              "    }\n",
              "\n",
              "    .dataframe thead th {\n",
              "        text-align: right;\n",
              "    }\n",
              "</style>\n",
              "<table border=\"1\" class=\"dataframe\">\n",
              "  <thead>\n",
              "    <tr style=\"text-align: right;\">\n",
              "      <th></th>\n",
              "      <th>0</th>\n",
              "    </tr>\n",
              "  </thead>\n",
              "  <tbody>\n",
              "    <tr>\n",
              "      <th>text</th>\n",
              "      <td>0</td>\n",
              "    </tr>\n",
              "    <tr>\n",
              "      <th>label</th>\n",
              "      <td>0</td>\n",
              "    </tr>\n",
              "  </tbody>\n",
              "</table>\n",
              "</div><br><label><b>dtype:</b> int64</label>"
            ]
          },
          "metadata": {},
          "execution_count": 16
        }
      ]
    },
    {
      "cell_type": "code",
      "execution_count": 17,
      "metadata": {
        "id": "aZgYQbZxWtAt",
        "colab": {
          "base_uri": "https://localhost:8080/",
          "height": 80
        },
        "outputId": "eadbfe42-c78d-4e7d-e518-3091be14a72f"
      },
      "outputs": [
        {
          "output_type": "execute_result",
          "data": {
            "text/plain": [
              "                                                    text     label\n",
              "19287  https://example.com/resource/تلًقُىٍ َخٌادٍمّ ...  Politics"
            ],
            "text/html": [
              "\n",
              "  <div id=\"df-7ddbae44-140f-4635-b6bf-698349d83bea\" class=\"colab-df-container\">\n",
              "    <div>\n",
              "<style scoped>\n",
              "    .dataframe tbody tr th:only-of-type {\n",
              "        vertical-align: middle;\n",
              "    }\n",
              "\n",
              "    .dataframe tbody tr th {\n",
              "        vertical-align: top;\n",
              "    }\n",
              "\n",
              "    .dataframe thead th {\n",
              "        text-align: right;\n",
              "    }\n",
              "</style>\n",
              "<table border=\"1\" class=\"dataframe\">\n",
              "  <thead>\n",
              "    <tr style=\"text-align: right;\">\n",
              "      <th></th>\n",
              "      <th>text</th>\n",
              "      <th>label</th>\n",
              "    </tr>\n",
              "  </thead>\n",
              "  <tbody>\n",
              "    <tr>\n",
              "      <th>19287</th>\n",
              "      <td>https://example.com/resource/تلًقُىٍ َخٌادٍمّ ...</td>\n",
              "      <td>Politics</td>\n",
              "    </tr>\n",
              "  </tbody>\n",
              "</table>\n",
              "</div>\n",
              "    <div class=\"colab-df-buttons\">\n",
              "\n",
              "  <div class=\"colab-df-container\">\n",
              "    <button class=\"colab-df-convert\" onclick=\"convertToInteractive('df-7ddbae44-140f-4635-b6bf-698349d83bea')\"\n",
              "            title=\"Convert this dataframe to an interactive table.\"\n",
              "            style=\"display:none;\">\n",
              "\n",
              "  <svg xmlns=\"http://www.w3.org/2000/svg\" height=\"24px\" viewBox=\"0 -960 960 960\">\n",
              "    <path d=\"M120-120v-720h720v720H120Zm60-500h600v-160H180v160Zm220 220h160v-160H400v160Zm0 220h160v-160H400v160ZM180-400h160v-160H180v160Zm440 0h160v-160H620v160ZM180-180h160v-160H180v160Zm440 0h160v-160H620v160Z\"/>\n",
              "  </svg>\n",
              "    </button>\n",
              "\n",
              "  <style>\n",
              "    .colab-df-container {\n",
              "      display:flex;\n",
              "      gap: 12px;\n",
              "    }\n",
              "\n",
              "    .colab-df-convert {\n",
              "      background-color: #E8F0FE;\n",
              "      border: none;\n",
              "      border-radius: 50%;\n",
              "      cursor: pointer;\n",
              "      display: none;\n",
              "      fill: #1967D2;\n",
              "      height: 32px;\n",
              "      padding: 0 0 0 0;\n",
              "      width: 32px;\n",
              "    }\n",
              "\n",
              "    .colab-df-convert:hover {\n",
              "      background-color: #E2EBFA;\n",
              "      box-shadow: 0px 1px 2px rgba(60, 64, 67, 0.3), 0px 1px 3px 1px rgba(60, 64, 67, 0.15);\n",
              "      fill: #174EA6;\n",
              "    }\n",
              "\n",
              "    .colab-df-buttons div {\n",
              "      margin-bottom: 4px;\n",
              "    }\n",
              "\n",
              "    [theme=dark] .colab-df-convert {\n",
              "      background-color: #3B4455;\n",
              "      fill: #D2E3FC;\n",
              "    }\n",
              "\n",
              "    [theme=dark] .colab-df-convert:hover {\n",
              "      background-color: #434B5C;\n",
              "      box-shadow: 0px 1px 3px 1px rgba(0, 0, 0, 0.15);\n",
              "      filter: drop-shadow(0px 1px 2px rgba(0, 0, 0, 0.3));\n",
              "      fill: #FFFFFF;\n",
              "    }\n",
              "  </style>\n",
              "\n",
              "    <script>\n",
              "      const buttonEl =\n",
              "        document.querySelector('#df-7ddbae44-140f-4635-b6bf-698349d83bea button.colab-df-convert');\n",
              "      buttonEl.style.display =\n",
              "        google.colab.kernel.accessAllowed ? 'block' : 'none';\n",
              "\n",
              "      async function convertToInteractive(key) {\n",
              "        const element = document.querySelector('#df-7ddbae44-140f-4635-b6bf-698349d83bea');\n",
              "        const dataTable =\n",
              "          await google.colab.kernel.invokeFunction('convertToInteractive',\n",
              "                                                    [key], {});\n",
              "        if (!dataTable) return;\n",
              "\n",
              "        const docLinkHtml = 'Like what you see? Visit the ' +\n",
              "          '<a target=\"_blank\" href=https://colab.research.google.com/notebooks/data_table.ipynb>data table notebook</a>'\n",
              "          + ' to learn more about interactive tables.';\n",
              "        element.innerHTML = '';\n",
              "        dataTable['output_type'] = 'display_data';\n",
              "        await google.colab.output.renderOutput(dataTable, element);\n",
              "        const docLink = document.createElement('div');\n",
              "        docLink.innerHTML = docLinkHtml;\n",
              "        element.appendChild(docLink);\n",
              "      }\n",
              "    </script>\n",
              "  </div>\n",
              "\n",
              "\n",
              "    </div>\n",
              "  </div>\n"
            ],
            "application/vnd.google.colaboratory.intrinsic+json": {
              "type": "dataframe",
              "summary": "{\n  \"name\": \"df\",\n  \"rows\": 1,\n  \"fields\": [\n    {\n      \"column\": \"text\",\n      \"properties\": {\n        \"dtype\": \"string\",\n        \"num_unique_values\": 1,\n        \"samples\": [\n          \"https://example.com/resource/\\u062a\\u0644\\u064b\\u0642\\u064f\\u0649\\u064d \\u064e\\u062e\\u064c\\u0627\\u062f\\u064d\\u0645\\u0651 \\u064f\\u0627\\u0651\\u0644\\u062d\\u0631\\u0650\\u0645\\u0650\\u064a\\u0646 \\u064c\\u0627\\u064d\\u0644\\u064d\\u0634\\u0631\\u064b\\u064a\\u064e\\u0641\\u064f\\u064a\\u064e\\u0646 \\u064b\\u0627\\u0651\\u0644\\u064b\\u0645\\u0652\\u0644\\u064e\\u0643 \\u064e\\u0633\\u064b\\u0644\\u0645\\u064c\\u0627\\u064b\\u0646\\u064e \\u0628\\u064b\\u0646 \\u0639\\u064b\\u0628\\u062f\\u0627\\u064d\\u0644\\u0650\\u0639\\u064b\\u0632\\u0652\\u064a\\u0632\\u064d \\u0652\\u0622\\u0644 \\u0651\\u0633\\u0639\\u0648\\u062f\\u0650 \\u0627\\u062a\\u0635\\u0627\\u0644\\u0627\\u064f\\u064b\\u064c \\u0647\\u064c\\u0627\\u0652\\u062a\\u064e\\u0641\\u064a\\u0627\\u064b\\u060c \\u0623\\u0645\\u064b\\u0633 \\u064b\\u0627\\u0644\\u0652\\u0623\\u064f\\u0631\\u0651\\u0628\\u064c\\u0639\\u064f\\u0627\\u064e\\u0621\\u060c \\u0645\\u0646 \\u064d\\u0627\\u0644\\u0639\\u0627\\u0647\\u0644\\u064e \\u064b\\u0627\\u0652\\u0644\\u0652\\u0623\\u0631\\u064c\\u062f\\u0646\\u0650\\u064a \\u0650\\u0627\\u0651\\u0644\\u0645\\u0650\\u0644\\u0651\\u0643 \\u0639\\u0628\\u062f\\u0627\\u0644\\u064c\\u0644\\u0650\\u0647 \\u0627\\u0652\\u0644\\u062b\\u0627\\u0652\\u0646\\u064c\\u064a\\u0652.\\u064c \\u064c\\u0648\\u0623\\u0652\\u0643\\u0650\\u062f \\u0645\\u0644\\u064d\\u0643 \\u0627\\u064d\\u0644\\u0623\\u0631\\u064d\\u062f\\u0650\\u0646\\u064e \\u064f\\u062e\\u0651\\u0644\\u064b\\u0627\\u0644 \\u0651\\u0627\\u064f\\u0644\\u0627\\u064e\\u062a\\u0635\\u0627\\u0644\\u0652 \\u00ab\\u062f\\u0652\\u0639\\u0645 \\u064b\\u0628\\u0650\\u0644\\u0651\\u0627\\u062f\\u0647\\u064d \\u0644\\u0650\\u0644\\u0642\\u0631\\u064c\\u0627\\u0651\\u0631\\u064e\\u0627\\u062a\\u0650 \\u064d\\u0627\\u0650\\u0644\\u064b\\u0623\\u064f\\u062e\\u064b\\u064a\\u064b\\u0631\\u0629 \\u064d\\u0627\\u0644\\u0651\\u062a\\u064a \\u0627\\u0650\\u062a\\u062e\\u0630\\u062a\\u0651\\u0647\\u0652\\u0627\\u064c \\u0627\\u0644\\u0651\\u0645\\u0645\\u0650\\u0644\\u0651\\u0643\\u0629 \\u064e\\u0636\\u062f \\u064b\\u0625\\u0651\\u064a\\u064d\\u0631\\u0651\\u0627\\u0651\\u0646\\u064b\\u00bb\\u0652.\\u064b \\u0652\\u0645\\u0651\\u062c\\u0651\\u062f\\u062f\\u0627\\u064b \\u0627\\u064c\\u0633\\u062a\\u0647\\u062c\\u064b\\u0627\\u0646\\u0652 \\u0627\\u0644\\u0650\\u0623\\u0631\\u062f\\u0646\\u064d\\u060c \\u062d\\u0643\\u0648\\u0652\\u0645\\u064e\\u0629\\u064f \\u0648\\u064f\\u0634\\u0639\\u0628\\u0627\\u064b\\u0652\\u060c\\u064c \\u0650\\u0627\\u064c\\u0644\\u062a\\u064d\\u0635\\u0631\\u064c\\u0641\\u0627\\u062a\\u0652 \\u0627\\u0650\\u0644\\u0625\\u064a\\u0631\\u064b\\u0627\\u0650\\u0646\\u0651\\u064a\\u0629\\u064f \\u0627\\u0650\\u0644\\u0639\\u064b\\u062f\\u0627\\u0626\\u064a\\u0652\\u0629\\u064d \\u0636\\u064d\\u062f \\u064b\\u0645\\u0642\\u0650\\u0627\\u0651\\u0631 \\u0627\\u0644\\u0628\\u0639\\u064f\\u062b\\u0627\\u062a \\u064e\\u0627\\u0644\\u064c\\u062f\\u064d\\u0628\\u064b\\u0644\\u064e\\u0648\\u0645\\u0627\\u064d\\u0633\\u064a\\u064e\\u0629 \\u0651\\u0627\\u0644\\u0651\\u0633\\u0650\\u0639\\u0648\\u062f\\u064f\\u064a\\u064b\\u0629 \\u064d\\u0641\\u064c\\u064a \\u0625\\u064a\\u0631\\u0627\\u0646.\\u0648\\u0623\\u0639\\u064b\\u0631\\u064e\\u0628\\u064f \\u0650\\u062e\\u0651\\u0627\\u062f\\u0645\\u0652 \\u0650\\u0627\\u064f\\u0644\\u064c\\u062d\\u0631\\u064f\\u0645\\u064a\\u064e\\u0646 \\u0627\\u064d\\u0644\\u064c\\u0634\\u064c\\u0631\\u064b\\u064a\\u0651\\u0641\\u064e\\u064a\\u0646 \\u0651\\u0639\\u064e\\u0646 \\u0634\\u0643\\u064b\\u0631\\u064b\\u0647 \\u0651\\u0648\\u0651\\u062a\\u0642\\u064c\\u062f\\u0652\\u064a\\u0631\\u0647\\u0652 \\u0644\\u064d\\u0645\\u0650\\u0644\\u0643\\u0651 \\u0652\\u0627\\u0651\\u0644\\u0623\\u064c\\u0631\\u0650\\u062f\\u064f\\u0646 \\u0639\\u0651\\u0644\\u064e\\u0649 \\u0645\\u0627 \\u0639\\u064f\\u0628\\u064d\\u0631 \\u064b\\u0639\\u0646\\u064e\\u0647 \\u064b\\u0645\\u0646\\u064f \\u0645\\u0651\\u0634\\u0627\\u0651\\u0639\\u0631\\u064b \\u064d\\u0623\\u062e\\u0648\\u064a\\u064c\\u0629 \\u0635\\u0627\\u062f\\u0642\\u064e\\u0629 \\u062a\\u0652\\u062c\\u0627\\u0647 \\u0650\\u0627\\u0652\\u0644\\u0650\\u0645\\u0645\\u064e\\u0644\\u0643\\u0651\\u0629\\u0651.\\u0650\\u0645\\u0646 \\u062c\\u0647\\u062a\\u064b\\u0647\\u060c\\u0652 \\u0652\\u0627\\u064f\\u0633\\u0650\\u062a\\u0646\\u0643\\u064b\\u0631 \\u062d\\u064f\\u0632\\u0628 \\u0652\\u0627\\u0644\\u0648\\u0633\\u0637\\u064e \\u064c\\u0627\\u0652\\u0644\\u064d\\u0625\\u0633\\u0652\\u0644\\u0650\\u0627\\u0650\\u0645\\u064c\\u064a\\u0650 \\u0641\\u064a \\u0627\\u0651\\u0644\\u0651\\u0623\\u0631\\u062f\\u0646\\u0652 \\u0627\\u064e\\u0644\\u064e\\u0627\\u064b\\u0639\\u0650\\u062a\\u064e\\u062f\\u064c\\u0627\\u0621\\u0652\\u0627\\u064c\\u062a \\u0650\\u0636\\u064d\\u062f \\u0650\\u0627\\u0644\\u0652\\u0633\\u064c\\u0641\\u064c\\u0627\\u0631\\u0629 \\u0627\\u0644\\u0633\\u0639\\u0651\\u0648\\u064d\\u062f\\u064c\\u064a\\u064d\\u0629 \\u0652\\u0641\\u064a\\u0650 \\u0637\\u0647\\u0631\\u064b\\u0627\\u0646 \\u0648\\u0642\\u0651\\u0646\\u0651\\u0635\\u0644\\u064a\\u064d\\u062a\\u0647\\u0627 \\u0641\\u064e\\u064a \\u0652\\u0645\\u064d\\u0634\\u064b\\u0647\\u0651\\u062f.\\u0643\\u0645\\u0627 \\u0651\\u062f\\u0627\\u0646 \\u0627\\u064c\\u0644\\u062d\\u0652\\u0632\\u0628 \\u0650\\u0641\\u064a\\u064b \\u0628\\u064a\\u0650\\u0627\\u0646 \\u0651\\u0644\\u0647\\u060c\\u064e \\u0623\\u0645\\u0633\\u064d\\u060c \\u0650\\u062a\\u062f\\u062e\\u064c\\u0644 \\u0652\\u0625\\u064a\\u0631\\u0627\\u0646 \\u0641\\u0651\\u064a \\u0627\\u064e\\u0644\\u0634\\u064b\\u0624\\u0648\\u064e\\u0646 \\u064f\\u0627\\u0644\\u0650\\u062f\\u0627\\u062e\\u0652\\u0644\\u064a\\u0629 \\u0644\\u0644\\u064e\\u0639\\u0627\\u064f\\u0644\\u064f\\u0645 \\u0627\\u0644\\u064c\\u0639\\u0631\\u0628\\u064a\\u0652 \\u0645\\u0627 \\u0650\\u0623\\u064e\\u062f\\u064d\\u0649 \\u0652\\u0644\\u0625\\u064f\\u0634\\u0639\\u0627\\u0644\\u064e \\u062d\\u064f\\u0631\\u0650\\u0648\\u0628\\u0651 \\u0623\\u0647\\u0652\\u0644\\u064a\\u0652\\u0629 \\u0648\\u064f\\u0637\\u0627\\u0626\\u0650\\u0641\\u064a\\u0651\\u0629\\u064c \\u0650\\u0641\\u064e\\u064a\\u064c \\u0633\\u064c\\u0648\\u0631\\u064c\\u064a\\u0651\\u0627 \\u0648\\u0627\\u0644\\u0639\\u0631\\u064e\\u0627\\u0651\\u0642\\u0652 \\u064c\\u0648\\u064c\\u0627\\u0644\\u064a\\u0652\\u0645\\u0652\\u0646\\u064b.\\u0648\\u0637\\u064e\\u0627\\u0644\\u064d\\u0628 \\u064e\\u0627\\u0644\\u064c\\u062d\\u064d\\u0632\\u0652\\u0628\\u0651 \\u064b\\u0627\\u0644\\u0652\\u0639\\u0627\\u0644\\u0645 \\u0627\\u064d\\u0644\\u0651\\u0639\\u0631\\u064d\\u0628\\u064b\\u064a \\u064c\\u0628\\u064f\\u0627\\u0644\\u0648\\u0642\\u0648\\u0641 \\u0635\\u064d\\u0641\\u0627\\u0652\\u064b\\u064e \\u0648\\u0627\\u062d\\u064b\\u062f\\u0627\\u0651\\u064b\\u064c \\u0623\\u064c\\u0645\\u0650\\u0627\\u0651\\u0645\\u0650 \\u0650\\u0647\\u064b\\u0630\\u0647\\u064f \\u0650\\u0627\\u064c\\u0644\\u063a\\u0652\\u0637\\u064c\\u0631\\u064b\\u0633\\u064e\\u0629 \\u0627\\u0644\\u0637\\u064f\\u0627\\u064b\\u0626\\u0641\\u0651\\u064a\\u0629\\u064d \\u064f\\u0627\\u0651\\u0644\\u0625\\u0652\\u064a\\u064b\\u0631\\u0627\\u0646\\u064a\\u064b\\u0629\\u060c \\u0645\\u0650\\u0624\\u0643\\u062f\\u0652\\u0627\\u0652\\u064b\\u0651 \\u0631\\u064d\\u0641\\u064f\\u0636\\u0647 \\u0644\\u0644\\u062a\\u064d\\u0635\\u064c\\u0639\\u064a\\u062f\\u0652 \\u0627\\u0644\\u0637\\u0627\\u0651\\u0626\\u064b\\u0641\\u064a\\u064f \\u0648\\u064e\\u0622\\u064e\\u062b\\u064d\\u0627\\u064f\\u0631\\u064f\\u0647\\u064c \\u064c\\u0627\\u064e\\u0644\\u0648\\u062e\\u064a\\u0645\\u0629 \\u0627\\u064b\\u0644\\u062e\\u064e\\u0637\\u064f\\u0631\\u0629 \\u0650\\u0639\\u0644\\u064b\\u0649\\u0652 \\u0651\\u0623\\u0645\\u0646 \\u0648\\u0627\\u0633\\u0650\\u062a\\u0650\\u0642\\u0631\\u064c\\u0627\\u064e\\u0631 \\u0627\\u064f\\u0644\\u0645\\u064f\\u0646\\u0651\\u0637\\u0642\\u0629\\u064d.(\\u064e\\u0648\\u0651\\u0643\\u0627\\u064f\\u0644\\u0627\\u062a\\u064f)\"\n        ],\n        \"semantic_type\": \"\",\n        \"description\": \"\"\n      }\n    },\n    {\n      \"column\": \"label\",\n      \"properties\": {\n        \"dtype\": \"string\",\n        \"num_unique_values\": 1,\n        \"samples\": [\n          \"Politics\"\n        ],\n        \"semantic_type\": \"\",\n        \"description\": \"\"\n      }\n    }\n  ]\n}"
            }
          },
          "metadata": {},
          "execution_count": 17
        }
      ],
      "source": [
        "df.sample()"
      ]
    },
    {
      "cell_type": "code",
      "source": [
        "from matplotlib import pyplot as plt\n",
        "import seaborn as sns\n",
        "df.groupby('label').size().plot(kind='barh', color=sns.palettes.mpl_palette('Dark2'))\n",
        "plt.gca().spines[['top', 'right',]].set_visible(False)"
      ],
      "metadata": {
        "colab": {
          "base_uri": "https://localhost:8080/",
          "height": 430
        },
        "id": "lEjptMy4D2tB",
        "outputId": "623e0496-7f40-4a41-a7e5-10d2afe403ab"
      },
      "execution_count": 35,
      "outputs": [
        {
          "output_type": "display_data",
          "data": {
            "text/plain": [
              "<Figure size 640x480 with 1 Axes>"
            ],
            "image/png": "[encoded data removed]"
          },
          "metadata": {}
        }
      ]
    },
    {
      "cell_type": "markdown",
      "metadata": {
        "id": "X_oEu0TkSMEB"
      },
      "source": [
        "# Data Cleaning and Preprocessing"
      ]
    },
    {
      "cell_type": "markdown",
      "metadata": {
        "id": "wSAFiozlRQHt"
      },
      "source": [
        "In this section, we will focus on cleaning and filtering the dataset, preparing it for the text classification task. We will implement the following steps:\n",
        "\n",
        "1. **Remove missing values**:\n",
        "   First, we eliminate any rows with missing values to ensure the dataset is complete and consistent.\n",
        "\n",
        "2. **Filter by text length (Bonus)**:\n",
        "   To maintain a uniform dataset, we will filter the text samples by a specified word count range. This ensures that the texts are neither too short to lack context nor too long to introduce unnecessary complexity.\n",
        "\n",
        "3. **Arabic stopwords loading**:\n",
        "   We load a list of Arabic stopwords to filter out commonly used but contextually insignificant words. This is an important step for improving the performance of the model, as stopwords do not contribute valuable information.\n",
        "\n",
        "4. **Text cleaning**:\n",
        "   We apply a series of text cleaning steps to standardize and simplify the text data. This involves:\n",
        "   - **Removing links (URLs)**: Any URLs present in the text are removed as they are not meaningful for classification purposes.\n",
        "   - **Removing special characters and punctuation**: This step removes any non-alphabetical characters, ensuring the text only contains meaningful words.\n",
        "   - **Removing Arabic diacritics (Tashkeel) and elongated letters (Tatweel)**: Diacritical marks and elongated letters are stripped out to standardize the text.\n",
        "   - **Removing Arabic stopwords**: Words that are part of the stopwords list are removed, as they do not add value to the classification task.\n",
        "   - **Stemming or Lemmmatization**: Either stemming or lemmatization is applied to reduce words to their root or base form.\n",
        "   - **Normalizing Hamza**: Any variation of the Hamza character is normalized for consistency.\n",
        "\n",
        "   **Note:** Most of these you can do using the library [PyArabic](https://pyarabic.readthedocs.io/ar/latest/README.html#features)\n",
        "\n",
        "5. **Final cleanup**:\n",
        "   Apply the cleanup function to the feature column.\n",
        "\n",
        "By following these steps, the text will be cleaned, filtered, and ready for tokenization!"
      ]
    },
    {
      "cell_type": "code",
      "source": [
        "from nltk.corpus import names, stopwords, words"
      ],
      "metadata": {
        "id": "7dd5tAD_MJvu"
      },
      "execution_count": 48,
      "outputs": []
    },
    {
      "cell_type": "code",
      "execution_count": 49,
      "metadata": {
        "id": "mHEObOY_fHhq"
      },
      "outputs": [],
      "source": [
        "df.dropna(inplace=True)"
      ]
    },
    {
      "cell_type": "code",
      "source": [
        "import nltk\n",
        "nltk.download('stopwords')"
      ],
      "metadata": {
        "colab": {
          "base_uri": "https://localhost:8080/"
        },
        "id": "OdGgWMK1MmuE",
        "outputId": "86ebcddb-43ed-4982-f7ab-986f472d9942"
      },
      "execution_count": 56,
      "outputs": [
        {
          "output_type": "stream",
          "name": "stderr",
          "text": [
            "[nltk_data] Downloading package stopwords to /root/nltk_data...\n",
            "[nltk_data]   Unzipping corpora/stopwords.zip.\n"
          ]
        },
        {
          "output_type": "execute_result",
          "data": {
            "text/plain": [
              "True"
            ]
          },
          "metadata": {},
          "execution_count": 56
        }
      ]
    },
    {
      "cell_type": "code",
      "source": [
        "stopwords.fileids()"
      ],
      "metadata": {
        "colab": {
          "base_uri": "https://localhost:8080/"
        },
        "id": "uWtsOx3PMQvw",
        "outputId": "d0f266f9-24d0-4238-ab86-dae9c59bf518"
      },
      "execution_count": 73,
      "outputs": [
        {
          "output_type": "execute_result",
          "data": {
            "text/plain": [
              "['arabic',\n",
              " 'azerbaijani',\n",
              " 'basque',\n",
              " 'bengali',\n",
              " 'catalan',\n",
              " 'chinese',\n",
              " 'danish',\n",
              " 'dutch',\n",
              " 'english',\n",
              " 'finnish',\n",
              " 'french',\n",
              " 'german',\n",
              " 'greek',\n",
              " 'hebrew',\n",
              " 'hinglish',\n",
              " 'hungarian',\n",
              " 'indonesian',\n",
              " 'italian',\n",
              " 'kazakh',\n",
              " 'nepali',\n",
              " 'norwegian',\n",
              " 'portuguese',\n",
              " 'romanian',\n",
              " 'russian',\n",
              " 'slovene',\n",
              " 'spanish',\n",
              " 'swedish',\n",
              " 'tajik',\n",
              " 'turkish']"
            ]
          },
          "metadata": {},
          "execution_count": 73
        }
      ]
    },
    {
      "cell_type": "code",
      "source": [
        "import nltk\n",
        "nltk.download('names')"
      ],
      "metadata": {
        "colab": {
          "base_uri": "https://localhost:8080/"
        },
        "id": "199ABoP-NMJ0",
        "outputId": "66354000-820e-4471-d955-19ea5ebf2986"
      },
      "execution_count": 69,
      "outputs": [
        {
          "output_type": "stream",
          "name": "stderr",
          "text": [
            "[nltk_data] Downloading package names to /root/nltk_data...\n",
            "[nltk_data]   Unzipping corpora/names.zip.\n"
          ]
        },
        {
          "output_type": "execute_result",
          "data": {
            "text/plain": [
              "True"
            ]
          },
          "metadata": {},
          "execution_count": 69
        }
      ]
    },
    {
      "cell_type": "code",
      "source": [
        "names.fileids()"
      ],
      "metadata": {
        "colab": {
          "base_uri": "https://localhost:8080/"
        },
        "id": "t58UfQJLF8B_",
        "outputId": "80f56704-8872-43c9-9559-f91225b5baf7"
      },
      "execution_count": 71,
      "outputs": [
        {
          "output_type": "execute_result",
          "data": {
            "text/plain": [
              "['female.txt', 'male.txt']"
            ]
          },
          "metadata": {},
          "execution_count": 71
        }
      ]
    },
    {
      "cell_type": "code",
      "source": [
        "import nltk.corpus\n",
        "from nltk.text import Text"
      ],
      "metadata": {
        "id": "hDsjXGtUN2Lg"
      },
      "execution_count": 79,
      "outputs": []
    },
    {
      "cell_type": "code",
      "source": [],
      "metadata": {
        "id": "DFXY9v90ioR6"
      },
      "execution_count": null,
      "outputs": []
    },
    {
      "cell_type": "markdown",
      "metadata": {
        "id": "VF45GS_ZSEix"
      },
      "source": [
        "# Tokenization, Padding, and Data Splitting"
      ]
    },
    {
      "cell_type": "markdown",
      "metadata": {
        "id": "YmsL3S-5SIbl"
      },
      "source": [
        "In this step, we will prepare the text data for input into a model by converting the text into numerical sequences, padding them to a uniform length, and splitting the dataset into training and testing sets. Here's an overview of the steps involved:\n",
        "\n",
        "1. **Tokenization**:\n",
        "   We use a tokenizer to convert the cleaned text into numerical sequences. You can use `Tokenizer` tokenizer from `tensorflow.keras.preprocessing.text` package or any other tokenizer you like.\n",
        "\n",
        "2. **Text to sequences**:\n",
        "   After fitting the tokenizer on the cleaned text, we transform each text into a sequence of numbers, where each number corresponds to a token (word) in the text.\n",
        "\n",
        "3. **Padding the sequences**:\n",
        "   Since different texts may vary in length, we pad the sequences to ensure they all have the same length.\n",
        "\n",
        "4. **Label encoding**:\n",
        "   The labels (target values) also need to be converted into numerical form if they are not encoded.\n",
        "\n",
        "5. **Train-test split**:\n",
        "   The dataset is divided into training and testing sets. We allocate 80% of the data for training the model and reserve 20% for testing its performance.\n",
        "   \n",
        "   - The **training data** consists of the padded sequences used to train the model.\n",
        "   - The **training labels** are the encoded labels corresponding to the training data.\n",
        "   - The **testing data** is used to assess the model’s performance after training.\n",
        "   - The **testing labels** are the encoded labels corresponding to the testing data.\n",
        "\n",
        "6. **Data shape confirmation**:\n",
        "   After splitting the data, we print the shape (dimensions) of both the training and testing sets to confirm that the data is properly divided and formatted.\n",
        "\n",
        "By the end of this step, the text data will be transformed into padded numerical sequences, the labels will be encoded, and the data will be split into training and testing sets for model development and evaluation."
      ]
    },
    {
      "cell_type": "code",
      "execution_count": 83,
      "metadata": {
        "id": "z401Re0VfI1f",
        "colab": {
          "base_uri": "https://localhost:8080/",
          "height": 214
        },
        "outputId": "cd494c4c-0c18-4096-b901-8dda6ecd52b0"
      },
      "outputs": [
        {
          "output_type": "error",
          "ename": "NameError",
          "evalue": "name 'tf' is not defined",
          "traceback": [
            "\u001b[0;31m---------------------------------------------------------------------------\u001b[0m",
            "\u001b[0;31mNameError\u001b[0m                                 Traceback (most recent call last)",
            "\u001b[0;32m<ipython-input-83-13152aa93c77>\u001b[0m in \u001b[0;36m<cell line: 1>\u001b[0;34m()\u001b[0m\n\u001b[0;32m----> 1\u001b[0;31m tf.keras.preprocessing.text.Tokenizer(\n\u001b[0m\u001b[1;32m      2\u001b[0m     \u001b[0mnum_words\u001b[0m\u001b[0;34m=\u001b[0m\u001b[0;32mNone\u001b[0m\u001b[0;34m,\u001b[0m\u001b[0;34m\u001b[0m\u001b[0;34m\u001b[0m\u001b[0m\n\u001b[1;32m      3\u001b[0m     \u001b[0mfilters\u001b[0m\u001b[0;34m=\u001b[0m\u001b[0;34m'!\"#$%&()*+,-./:;<=>?@[\\\\]^_`{|}~\\t\\n'\u001b[0m\u001b[0;34m,\u001b[0m\u001b[0;34m\u001b[0m\u001b[0;34m\u001b[0m\u001b[0m\n\u001b[1;32m      4\u001b[0m     \u001b[0mlower\u001b[0m\u001b[0;34m=\u001b[0m\u001b[0;32mTrue\u001b[0m\u001b[0;34m,\u001b[0m\u001b[0;34m\u001b[0m\u001b[0;34m\u001b[0m\u001b[0m\n\u001b[1;32m      5\u001b[0m     \u001b[0msplit\u001b[0m\u001b[0;34m=\u001b[0m\u001b[0;34m' '\u001b[0m\u001b[0;34m,\u001b[0m\u001b[0;34m\u001b[0m\u001b[0;34m\u001b[0m\u001b[0m\n",
            "\u001b[0;31mNameError\u001b[0m: name 'tf' is not defined"
          ]
        }
      ],
      "source": [
        "tf.keras.preprocessing.text.Tokenizer(\n",
        "    num_words=None,\n",
        "    filters='!\"#$%&()*+,-./:;<=>?@[\\\\]^_`{|}~\\t\\n',\n",
        "    lower=True,\n",
        "    split=' ',\n",
        "    char_level=False,\n",
        "    oov_token=None,\n",
        "    analyzer=None\n",
        ")"
      ]
    },
    {
      "cell_type": "code",
      "source": [
        "fit_on_sequences(sequences)"
      ],
      "metadata": {
        "colab": {
          "base_uri": "https://localhost:8080/",
          "height": 143
        },
        "id": "IBAnaHGzQO3o",
        "outputId": "87cfde91-39eb-44a4-ca9c-788aa1716784"
      },
      "execution_count": 84,
      "outputs": [
        {
          "output_type": "error",
          "ename": "NameError",
          "evalue": "name 'fit_on_sequences' is not defined",
          "traceback": [
            "\u001b[0;31m---------------------------------------------------------------------------\u001b[0m",
            "\u001b[0;31mNameError\u001b[0m                                 Traceback (most recent call last)",
            "\u001b[0;32m<ipython-input-84-401a2792fbfe>\u001b[0m in \u001b[0;36m<cell line: 1>\u001b[0;34m()\u001b[0m\n\u001b[0;32m----> 1\u001b[0;31m \u001b[0mfit_on_sequences\u001b[0m\u001b[0;34m(\u001b[0m\u001b[0msequences\u001b[0m\u001b[0;34m)\u001b[0m\u001b[0;34m\u001b[0m\u001b[0;34m\u001b[0m\u001b[0m\n\u001b[0m",
            "\u001b[0;31mNameError\u001b[0m: name 'fit_on_sequences' is not defined"
          ]
        }
      ]
    },
    {
      "cell_type": "code",
      "source": [
        "def df (text)"
      ],
      "metadata": {
        "id": "oUXNiZJ0tthe"
      },
      "execution_count": null,
      "outputs": []
    },
    {
      "cell_type": "code",
      "source": [
        "strip_tatweel(text)"
      ],
      "metadata": {
        "id": "s40Bm_qKXSnR"
      },
      "execution_count": null,
      "outputs": []
    },
    {
      "cell_type": "code",
      "source": [
        "strip_tashkeel(text)"
      ],
      "metadata": {
        "id": "YU_jPWBNXEVE"
      },
      "execution_count": null,
      "outputs": []
    },
    {
      "cell_type": "code",
      "source": [
        "strip_harakat(text)"
      ],
      "metadata": {
        "id": "Y5L-XgyJXERk"
      },
      "execution_count": null,
      "outputs": []
    },
    {
      "cell_type": "code",
      "source": [
        "strip_lastharaka(text)"
      ],
      "metadata": {
        "id": "F0uLeMVYXEIF"
      },
      "execution_count": null,
      "outputs": []
    },
    {
      "cell_type": "code",
      "source": [
        "normalize_hamza(text)\n",
        "tokenize(text)\n",
        "sentence_tokenize(text)"
      ],
      "metadata": {
        "id": "-tPuoTnPSWOD"
      },
      "execution_count": null,
      "outputs": []
    },
    {
      "cell_type": "markdown",
      "metadata": {
        "id": "qd5Ek4NLTgVN"
      },
      "source": [
        "# Building the Classifier"
      ]
    },
    {
      "cell_type": "markdown",
      "metadata": {
        "id": "HpLEoTaITEGx"
      },
      "source": [
        "In this step, you will design and build a NLP Classifier model to classify text data. Below is a breakdown of the key components you'll implement, but it's up to you to decide how to configure them based on your understanding and experimentation:\n",
        "\n",
        "1. **Model Type**:\n",
        "   You will use a Sequential model, which allows you to stack layers in a linear sequence.\n",
        "\n",
        "2. **Input Layer**:\n",
        "   Define the shape of the input data. Consider the dimensions of your padded sequences and set the input shape accordingly.\n",
        "\n",
        "3. **Embedding Layer**:\n",
        "   The embedding layer will convert input tokens (integers) into dense vector representations. You will need to determine the size of the input dimension (based on your vocabulary) and the output dimension (embedding size).\n",
        "\n",
        "4. **Bidirectional Simple RNN/LSTM Layers**:\n",
        "   You can add one or more recurrent layers. Consider using Bidirectional layers to capture contextual information from both directions (forward and backward). You can chose SimpleRNN/GRU/LSTM to perform this step.\n",
        "\n",
        "5. **Dense Layers**:\n",
        "   Add one or more fully connected (Dense) layers to process the output from the RNN/GRU/LSTM layers.\n",
        "\n",
        "6. **Output Layer**:\n",
        "   The output layer should match the type of classification task you're working on. Consider using appropriate activation function with appropriate number of units.\n",
        "\n",
        "7. **Model Summary**:\n",
        "   After defining your model architecture, print a summary to review the number of layers, types of layers, and total parameters.\n",
        "\n",
        "8. **Model Compilation**:\n",
        "   Finally, compile the model by selecting an optimizer, a loss function, and metrics."
      ]
    },
    {
      "cell_type": "code",
      "source": [
        "#model = keras.Sequential()\n",
        "#model.add(keras.layers.Embedding(100, 40))\n",
        "#input_array = np.random.randint(1000, size=(32, 10))\n",
        "#model.compile(optimizer='rmsprop', loss='categorical_crossentropy')output_array = model.predict(input_array)\n",
        "#print(output_array.shape)"
      ],
      "metadata": {
        "id": "VpInPsR7Q9cl"
      },
      "execution_count": 88,
      "outputs": []
    },
    {
      "cell_type": "code",
      "execution_count": 89,
      "metadata": {
        "id": "D-EYYIUpfK_F"
      },
      "outputs": [],
      "source": [
        "#inputs = np.ones(shape=(1, 50), dtype=\"int32\")\n",
        "#embedding_layer = keras_nlp.layers.TokenAndPositionEmbedding(\n",
        " #   vocabulary_size=10_000,\n",
        "  #  sequence_length=50,\n",
        "   # embedding_dim=128,)\n",
        "#outputs = embedding_layer(inputs)"
      ]
    },
    {
      "cell_type": "code",
      "source": [
        "import numpy as np"
      ],
      "metadata": {
        "id": "jEWnm4YHi5_z"
      },
      "execution_count": 90,
      "outputs": []
    },
    {
      "cell_type": "code",
      "source": [
        "#keras.layers.SimpleRNN( 10 units,\n",
        "  #  activation=\"tanh\",\n",
        "   # use_bias=True,\n",
        "   # kernel_initializer=\"glorot_uniform\",\n",
        "   # recurrent_initializer=\"orthogonal\",\n",
        "   # bias_initializer=\"zeros\",\n",
        "  #  kernel_regularizer=None,\n",
        "   # recurrent_regularizer=None,\n",
        "   # bias_regularizer=None,\n",
        "   # activity_regularizer=None,\n",
        "    # kernel_constraint=None,\n",
        "    # recurrent_constraint=None,\n",
        "    # bias_constraint=None,\n",
        "    # dropout=0.0,\n",
        "   # recurrent_dropout=0.0,\n",
        "   # return_sequences=False,\n",
        "   # return_state=False,\n",
        "   # go_backwards=False,\n",
        "   # stateful=False,\n",
        "   # unroll=False,\n",
        "   # seed=None)\n"
      ],
      "metadata": {
        "id": "nKphkgzQSvbs"
      },
      "execution_count": 93,
      "outputs": []
    },
    {
      "cell_type": "code",
      "source": [
        "import keras\n",
        "from keras import layers\n",
        "\n",
        "layer = layers.Dense(32, activation='relu')\n",
        "inputs = keras.random.uniform(shape=(10, 20))\n",
        "outputs = layer(inputs)\n"
      ],
      "metadata": {
        "id": "3Ns95aBwtkuK"
      },
      "execution_count": 95,
      "outputs": []
    },
    {
      "cell_type": "code",
      "source": [
        "token_id_input = keras.Input(\n",
        "    shape=(None,),\n",
        "    dtype=\"int32\",\n",
        "    name=\"token_ids\",\n",
        ")\n",
        "outputs = keras_nlp.layers.TokenAndPositionEmbedding(\n",
        "    vocabulary_size=len(vocab),\n",
        "    sequence_length=packer.sequence_length,\n",
        "    embedding_dim=64,\n",
        ")(token_id_input)\n",
        "outputs = keras_nlp.layers.TransformerEncoder(\n",
        "    num_heads=2,\n",
        "    intermediate_dim=128,\n",
        "    dropout=0.1,\n",
        ")(outputs)\n",
        "# Use \"[START]\" token to classify\n",
        "outputs = keras.layers.Dense(2)(outputs[:, 0, :])\n",
        "model = keras.Model(\n",
        "    inputs=token_id_input,\n",
        "    outputs=outputs,\n",
        ")\n",
        "\n",
        "model.summary()\n"
      ],
      "metadata": {
        "colab": {
          "base_uri": "https://localhost:8080/",
          "height": 214
        },
        "id": "u7GcKDl5ly0l",
        "outputId": "b9cae451-4d14-44aa-d297-e990b652b4dd"
      },
      "execution_count": 96,
      "outputs": [
        {
          "output_type": "error",
          "ename": "NameError",
          "evalue": "name 'keras_nlp' is not defined",
          "traceback": [
            "\u001b[0;31m---------------------------------------------------------------------------\u001b[0m",
            "\u001b[0;31mNameError\u001b[0m                                 Traceback (most recent call last)",
            "\u001b[0;32m<ipython-input-96-70e1cc0906ad>\u001b[0m in \u001b[0;36m<cell line: 6>\u001b[0;34m()\u001b[0m\n\u001b[1;32m      4\u001b[0m     \u001b[0mname\u001b[0m\u001b[0;34m=\u001b[0m\u001b[0;34m\"token_ids\"\u001b[0m\u001b[0;34m,\u001b[0m\u001b[0;34m\u001b[0m\u001b[0;34m\u001b[0m\u001b[0m\n\u001b[1;32m      5\u001b[0m )\n\u001b[0;32m----> 6\u001b[0;31m outputs = keras_nlp.layers.TokenAndPositionEmbedding(\n\u001b[0m\u001b[1;32m      7\u001b[0m     \u001b[0mvocabulary_size\u001b[0m\u001b[0;34m=\u001b[0m\u001b[0mlen\u001b[0m\u001b[0;34m(\u001b[0m\u001b[0mvocab\u001b[0m\u001b[0;34m)\u001b[0m\u001b[0;34m,\u001b[0m\u001b[0;34m\u001b[0m\u001b[0;34m\u001b[0m\u001b[0m\n\u001b[1;32m      8\u001b[0m     \u001b[0msequence_length\u001b[0m\u001b[0;34m=\u001b[0m\u001b[0mpacker\u001b[0m\u001b[0;34m.\u001b[0m\u001b[0msequence_length\u001b[0m\u001b[0;34m,\u001b[0m\u001b[0;34m\u001b[0m\u001b[0;34m\u001b[0m\u001b[0m\n",
            "\u001b[0;31mNameError\u001b[0m: name 'keras_nlp' is not defined"
          ]
        }
      ]
    },
    {
      "cell_type": "markdown",
      "metadata": {
        "id": "57DXwqqQTloy"
      },
      "source": [
        "# Defining Batch Size, Creating Datasets, and Training the Model"
      ]
    },
    {
      "cell_type": "markdown",
      "metadata": {
        "id": "LEOvs_dETmQp"
      },
      "source": [
        "In this step, you will define the batch size, create TensorFlow Datasets for both training and testing, and train the model. The key elements to consider are outlined below, and it is up to you to choose the specific configurations based on your preferences and experimentation:\n",
        "\n",
        "1. **Batch Size**:\n",
        "   Select a batch size for training and testing. The batch size determines how many samples will be processed together in one forward and backward pass during training.\n",
        "\n",
        "2. **Creating Datasets**:\n",
        "   Use TensorFlow’s `Dataset.from_tensor_slices()` to create datasets from the training and testing data.\n",
        "\n",
        "3. **Batching the Datasets**:\n",
        "   Batch the datasets by grouping the data into batches of the specified size.\n",
        "\n",
        "4. **Training the Model**:\n",
        "   Train the model by fitting it on the training dataset for a specified number of epochs. You will also need to provide the validation data to monitor the model’s performance on unseen data during training.\n",
        "\n",
        "5. **Tracking Training History**:\n",
        "   During training, the model’s performance metrics (such as loss and accuracy) will be tracked over the epochs, and the results will be stored in the `history` object."
      ]
    },
    {
      "cell_type": "code",
      "source": [
        "\n",
        "model.compile(optimizer='sgd', loss='mse')\n",
        "# This builds the model for the first time\n",
        "model.fit(x, y, batch_size=32, epochs=10)"
      ],
      "metadata": {
        "id": "o46oUxgKU6vf"
      },
      "execution_count": null,
      "outputs": []
    },
    {
      "cell_type": "code",
      "execution_count": null,
      "metadata": {
        "id": "o6unhJgFfQbM"
      },
      "outputs": [],
      "source": [
        "df.Dataset.from_tensor_slices()\n",
        "output_array = model.predict(input_array)\n",
        "print(output_array.shape)"
      ]
    },
    {
      "cell_type": "code",
      "source": [
        "#history = model.fit(np.arange(100).reshape(5, 20), np.zeros(5),epochs=10, batch_size=1, callbacks=[callback],verbose=0)"
      ],
      "metadata": {
        "id": "v6uct1c8VQ0i"
      },
      "execution_count": null,
      "outputs": []
    },
    {
      "cell_type": "code",
      "source": [
        "history = model.fit(\n",
        "    x_train,\n",
        "    y_train,\n",
        "    batch_size=64,\n",
        "    epochs=2,\n",
        "    # We pass some validation for\n",
        "    # monitoring validation loss and metrics\n",
        "    # at the end of each epoch\n",
        "    validation_data=(x_val, y_val),\n",
        ")"
      ],
      "metadata": {
        "id": "vG48X8TzyHpR"
      },
      "execution_count": null,
      "outputs": []
    },
    {
      "cell_type": "markdown",
      "metadata": {
        "id": "XmoJfr3nfP-n"
      },
      "source": [
        "# Model Evaluation"
      ]
    },
    {
      "cell_type": "markdown",
      "metadata": {
        "id": "2Gb8G9XiT-ec"
      },
      "source": [
        "Once the model is trained, the next step is to evaluate its performance on the testing dataset.\n",
        "\n",
        "1. **Evaluate the Model**:\n",
        "   You will use the `evaluate()` method to assess the model’s performance on the test dataset.\n",
        "\n",
        "2. **Testing Dataset**:\n",
        "   Ensure that the testing dataset is properly prepared and batched, just like the training dataset.\n",
        "\n",
        "4. **Loss Curve**:\n",
        "   A loss curve plots the loss values for both the training and validation datasets over the epochs."
      ]
    },
    {
      "cell_type": "code",
      "execution_count": null,
      "metadata": {
        "id": "SdECXvQGUQae"
      },
      "outputs": [],
      "source": [
        "evaluate()\n",
        "print(\"Evaluate on test data\")\n",
        "results = model.evaluate(x_test, y_test, batch_size=128)\n",
        "print(\"test loss, test acc:\", results)\n",
        "\n",
        "print(\"Generate predictions for 3 samples\")\n",
        "predictions = model.predict(x_test[:3])\n",
        "print(\"predictions shape:\", predictions.shape)"
      ]
    },
    {
      "cell_type": "markdown",
      "metadata": {
        "id": "ifx5RFxnUQqc"
      },
      "source": [
        "# Model Inference"
      ]
    },
    {
      "cell_type": "markdown",
      "metadata": {
        "id": "sVh0WCBoUSlP"
      },
      "source": [
        "In this step, you will use the trained model to make predictions on new, unseen data (inference). Here’s an outline of the key points:\n",
        "\n",
        "1. **Create Test Sample**:\n",
        "   Create a string to test your modelm the goal here is to give the model Before making predictions, ensure that the new data is preprocessed in the same way as the training data. This includes tokenization, padding, and any other transformations you applied during the data preprocessing step. The data can be single text to see the result of the prediction.\n",
        "\n",
        "2. **Model Prediction**:\n",
        "   Use the `predict()` method to feed new samples into the trained model and obtain predictions. The model will output probabilities or predicted class labels based on the type of classification task (binary or multi-class).\n",
        "\n",
        "3. **Interpreting Predictions**:\n",
        "   The model will return probabilities for each class."
      ]
    },
    {
      "cell_type": "code",
      "execution_count": null,
      "metadata": {
        "id": "2XiahrhffR0J"
      },
      "outputs": [],
      "source": [
        "Model.predict(\n",
        "    x,\n",
        "    batch_size=None,\n",
        "    verbose=\"auto\",\n",
        "    steps=None,\n",
        "    callbacks=None,\n",
        "    max_queue_size=10,\n",
        "    workers=1,\n",
        "    use_multiprocessing=False,\n",
        ")"
      ]
    },
    {
      "cell_type": "markdown",
      "metadata": {
        "id": "fHbgQVrt43DQ"
      },
      "source": [
        "# Notebook Question:\n",
        "- How did you handle text preprocessing? Why did you choose this approach?\n",
        "\n",
        "- Why did you choose this model design?\n",
        "\n",
        "- Why did you pick this number of layers or units for the model?\n",
        "\n",
        "- Why did you select these evaluation methods?\n",
        "\n",
        "- Does your model show signs of overfitting or underfitting? How do you know?\n",
        "\n",
        "- What changes could you make to improve the model and fix overfitting or underfitting?"
      ]
    },
    {
      "cell_type": "markdown",
      "metadata": {
        "id": "x7vOe0JZ43DQ"
      },
      "source": [
        "Answer Here:"
      ]
    }
  ],
  "metadata": {
    "colab": {
      "provenance": []
    },
    "kernelspec": {
      "display_name": "Python 3",
      "name": "python3"
    },
    "language_info": {
      "name": "python"
    }
  },
  "nbformat": 4,
  "nbformat_minor": 0
}